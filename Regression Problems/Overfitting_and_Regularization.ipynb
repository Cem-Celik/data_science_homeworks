{
 "cells": [
  {
   "cell_type": "markdown",
   "metadata": {},
   "source": [
    "# OVERFITTING AND REGULARIZATION"
   ]
  },
  {
   "cell_type": "markdown",
   "metadata": {},
   "source": [
    "* Load the houseprices data from Kaggle.\n",
    "* Reimplement your model from the previous lesson.\n",
    "* Try OLS, Lasso, Ridge and ElasticNet regressions using the same model specification. This time, you need to do k-fold cross-validation to choose the best hyperparameter values for your models. Which model is the best? Why?"
   ]
  },
  {
   "cell_type": "code",
   "execution_count": 1,
   "metadata": {},
   "outputs": [],
   "source": [
    "import numpy as np\n",
    "import pandas as pd\n",
    "import matplotlib.pyplot as plt \n",
    "import seaborn as sns\n",
    "\n",
    "import warnings\n",
    "warnings.filterwarnings(action = \"ignore\")\n",
    "\n",
    "%matplotlib inline\n",
    "pd.options.display.float_format = '{:.3f}'.format\n",
    "\n",
    "from sklearn import linear_model\n",
    "import statsmodels.api as sm\n",
    "\n",
    "from sklearn.model_selection import train_test_split\n",
    "\n"
   ]
  },
  {
   "cell_type": "code",
   "execution_count": 2,
   "metadata": {},
   "outputs": [
    {
     "data": {
      "text/html": [
       "<div>\n",
       "<style scoped>\n",
       "    .dataframe tbody tr th:only-of-type {\n",
       "        vertical-align: middle;\n",
       "    }\n",
       "\n",
       "    .dataframe tbody tr th {\n",
       "        vertical-align: top;\n",
       "    }\n",
       "\n",
       "    .dataframe thead th {\n",
       "        text-align: right;\n",
       "    }\n",
       "</style>\n",
       "<table border=\"1\" class=\"dataframe\">\n",
       "  <thead>\n",
       "    <tr style=\"text-align: right;\">\n",
       "      <th></th>\n",
       "      <th>MSSubClass</th>\n",
       "      <th>MSZoning</th>\n",
       "      <th>LotFrontage</th>\n",
       "      <th>LotArea</th>\n",
       "      <th>Street</th>\n",
       "      <th>Alley</th>\n",
       "      <th>LotShape</th>\n",
       "      <th>LandContour</th>\n",
       "      <th>Utilities</th>\n",
       "      <th>LotConfig</th>\n",
       "      <th>...</th>\n",
       "      <th>PoolArea</th>\n",
       "      <th>PoolQC</th>\n",
       "      <th>Fence</th>\n",
       "      <th>MiscFeature</th>\n",
       "      <th>MiscVal</th>\n",
       "      <th>MoSold</th>\n",
       "      <th>YrSold</th>\n",
       "      <th>SaleType</th>\n",
       "      <th>SaleCondition</th>\n",
       "      <th>SalePrice</th>\n",
       "    </tr>\n",
       "  </thead>\n",
       "  <tbody>\n",
       "    <tr>\n",
       "      <th>0</th>\n",
       "      <td>60</td>\n",
       "      <td>RL</td>\n",
       "      <td>65.000</td>\n",
       "      <td>8450</td>\n",
       "      <td>Pave</td>\n",
       "      <td>NaN</td>\n",
       "      <td>Reg</td>\n",
       "      <td>Lvl</td>\n",
       "      <td>AllPub</td>\n",
       "      <td>Inside</td>\n",
       "      <td>...</td>\n",
       "      <td>0</td>\n",
       "      <td>NaN</td>\n",
       "      <td>NaN</td>\n",
       "      <td>NaN</td>\n",
       "      <td>0</td>\n",
       "      <td>2</td>\n",
       "      <td>2008</td>\n",
       "      <td>WD</td>\n",
       "      <td>Normal</td>\n",
       "      <td>208500</td>\n",
       "    </tr>\n",
       "    <tr>\n",
       "      <th>1</th>\n",
       "      <td>20</td>\n",
       "      <td>RL</td>\n",
       "      <td>80.000</td>\n",
       "      <td>9600</td>\n",
       "      <td>Pave</td>\n",
       "      <td>NaN</td>\n",
       "      <td>Reg</td>\n",
       "      <td>Lvl</td>\n",
       "      <td>AllPub</td>\n",
       "      <td>FR2</td>\n",
       "      <td>...</td>\n",
       "      <td>0</td>\n",
       "      <td>NaN</td>\n",
       "      <td>NaN</td>\n",
       "      <td>NaN</td>\n",
       "      <td>0</td>\n",
       "      <td>5</td>\n",
       "      <td>2007</td>\n",
       "      <td>WD</td>\n",
       "      <td>Normal</td>\n",
       "      <td>181500</td>\n",
       "    </tr>\n",
       "    <tr>\n",
       "      <th>2</th>\n",
       "      <td>60</td>\n",
       "      <td>RL</td>\n",
       "      <td>68.000</td>\n",
       "      <td>11250</td>\n",
       "      <td>Pave</td>\n",
       "      <td>NaN</td>\n",
       "      <td>IR1</td>\n",
       "      <td>Lvl</td>\n",
       "      <td>AllPub</td>\n",
       "      <td>Inside</td>\n",
       "      <td>...</td>\n",
       "      <td>0</td>\n",
       "      <td>NaN</td>\n",
       "      <td>NaN</td>\n",
       "      <td>NaN</td>\n",
       "      <td>0</td>\n",
       "      <td>9</td>\n",
       "      <td>2008</td>\n",
       "      <td>WD</td>\n",
       "      <td>Normal</td>\n",
       "      <td>223500</td>\n",
       "    </tr>\n",
       "    <tr>\n",
       "      <th>3</th>\n",
       "      <td>70</td>\n",
       "      <td>RL</td>\n",
       "      <td>60.000</td>\n",
       "      <td>9550</td>\n",
       "      <td>Pave</td>\n",
       "      <td>NaN</td>\n",
       "      <td>IR1</td>\n",
       "      <td>Lvl</td>\n",
       "      <td>AllPub</td>\n",
       "      <td>Corner</td>\n",
       "      <td>...</td>\n",
       "      <td>0</td>\n",
       "      <td>NaN</td>\n",
       "      <td>NaN</td>\n",
       "      <td>NaN</td>\n",
       "      <td>0</td>\n",
       "      <td>2</td>\n",
       "      <td>2006</td>\n",
       "      <td>WD</td>\n",
       "      <td>Abnorml</td>\n",
       "      <td>140000</td>\n",
       "    </tr>\n",
       "    <tr>\n",
       "      <th>4</th>\n",
       "      <td>60</td>\n",
       "      <td>RL</td>\n",
       "      <td>84.000</td>\n",
       "      <td>14260</td>\n",
       "      <td>Pave</td>\n",
       "      <td>NaN</td>\n",
       "      <td>IR1</td>\n",
       "      <td>Lvl</td>\n",
       "      <td>AllPub</td>\n",
       "      <td>FR2</td>\n",
       "      <td>...</td>\n",
       "      <td>0</td>\n",
       "      <td>NaN</td>\n",
       "      <td>NaN</td>\n",
       "      <td>NaN</td>\n",
       "      <td>0</td>\n",
       "      <td>12</td>\n",
       "      <td>2008</td>\n",
       "      <td>WD</td>\n",
       "      <td>Normal</td>\n",
       "      <td>250000</td>\n",
       "    </tr>\n",
       "  </tbody>\n",
       "</table>\n",
       "<p>5 rows × 80 columns</p>\n",
       "</div>"
      ],
      "text/plain": [
       "   MSSubClass MSZoning  LotFrontage  LotArea Street Alley LotShape  \\\n",
       "0          60       RL       65.000     8450   Pave   NaN      Reg   \n",
       "1          20       RL       80.000     9600   Pave   NaN      Reg   \n",
       "2          60       RL       68.000    11250   Pave   NaN      IR1   \n",
       "3          70       RL       60.000     9550   Pave   NaN      IR1   \n",
       "4          60       RL       84.000    14260   Pave   NaN      IR1   \n",
       "\n",
       "  LandContour Utilities LotConfig  ... PoolArea PoolQC Fence MiscFeature  \\\n",
       "0         Lvl    AllPub    Inside  ...        0    NaN   NaN         NaN   \n",
       "1         Lvl    AllPub       FR2  ...        0    NaN   NaN         NaN   \n",
       "2         Lvl    AllPub    Inside  ...        0    NaN   NaN         NaN   \n",
       "3         Lvl    AllPub    Corner  ...        0    NaN   NaN         NaN   \n",
       "4         Lvl    AllPub       FR2  ...        0    NaN   NaN         NaN   \n",
       "\n",
       "  MiscVal MoSold  YrSold  SaleType  SaleCondition  SalePrice  \n",
       "0       0      2    2008        WD         Normal     208500  \n",
       "1       0      5    2007        WD         Normal     181500  \n",
       "2       0      9    2008        WD         Normal     223500  \n",
       "3       0      2    2006        WD        Abnorml     140000  \n",
       "4       0     12    2008        WD         Normal     250000  \n",
       "\n",
       "[5 rows x 80 columns]"
      ]
     },
     "execution_count": 2,
     "metadata": {},
     "output_type": "execute_result"
    }
   ],
   "source": [
    "house = pd.read_csv(\"data/houseprices.csv\")\n",
    "house.head()"
   ]
  },
  {
   "cell_type": "code",
   "execution_count": 3,
   "metadata": {},
   "outputs": [],
   "source": [
    "house[\"LotArea_year\"] = house[\"LotArea\"] * house [\"YearBuilt\"]\n",
    "house[\"LotArea_ov_qual\"] = house[\"LotArea\"] * house[\"OverallQual\"]\n",
    "house[\"LotArea_ov_cond\"] = house[\"LotArea\"] * house[\"OverallCond\"]\n",
    "house[\"OverallQuall_square\"] = house[\"OverallQual\"]**2"
   ]
  },
  {
   "cell_type": "code",
   "execution_count": 4,
   "metadata": {},
   "outputs": [],
   "source": [
    "X = house[[\"LotArea\",\"OverallQual\",\"OverallCond\",\"YearBuilt\",\"OverallQuall_square\",\"BsmtFinSF1\",\"TotalBsmtSF\",\"1stFlrSF\",\"2ndFlrSF\",\"LowQualFinSF\",\"GrLivArea\",\"BedroomAbvGr\",\"GarageCars\",\"WoodDeckSF\",\"LotArea_year\",\"LotArea_ov_qual\",\"LotArea_ov_cond\"]]\n",
    "Y = house[\"SalePrice\"]"
   ]
  },
  {
   "cell_type": "code",
   "execution_count": 5,
   "metadata": {},
   "outputs": [],
   "source": [
    "X_train, X_test, y_train, y_test = train_test_split(X, Y, test_size=0.2, random_state=42)"
   ]
  },
  {
   "cell_type": "code",
   "execution_count": 6,
   "metadata": {},
   "outputs": [
    {
     "name": "stdout",
     "output_type": "stream",
     "text": [
      "Coefficents : [ 2.41448399e+01 -4.69860316e+04  1.05373979e+04  5.75631789e+02\n",
      "  5.82525882e+03  1.48629273e+01  9.59124150e+00  1.79458636e+01\n",
      "  1.64531963e+01 -3.41533104e+00  3.09837288e+01 -1.01371280e+03\n",
      "  1.21741491e+04  1.93461637e+01 -1.01224833e-02 -4.30811939e-01\n",
      " -1.71890258e-01]\n",
      "Intercept : -1070708.2056154495\n"
     ]
    }
   ],
   "source": [
    "model = linear_model.LinearRegression()\n",
    "model.fit(X_train,y_train)\n",
    "\n",
    "print(\"Coefficents : {}\".format(model.coef_))\n",
    "print(\"Intercept : {}\".format(model.intercept_))"
   ]
  },
  {
   "cell_type": "code",
   "execution_count": 7,
   "metadata": {},
   "outputs": [
    {
     "data": {
      "text/html": [
       "<table class=\"simpletable\">\n",
       "<caption>OLS Regression Results</caption>\n",
       "<tr>\n",
       "  <th>Dep. Variable:</th>        <td>SalePrice</td>    <th>  R-squared:         </th> <td>   0.900</td> \n",
       "</tr>\n",
       "<tr>\n",
       "  <th>Model:</th>                   <td>OLS</td>       <th>  Adj. R-squared:    </th> <td>   0.894</td> \n",
       "</tr>\n",
       "<tr>\n",
       "  <th>Method:</th>             <td>Least Squares</td>  <th>  F-statistic:       </th> <td>   154.7</td> \n",
       "</tr>\n",
       "<tr>\n",
       "  <th>Date:</th>             <td>Sun, 20 Sep 2020</td> <th>  Prob (F-statistic):</th> <td>3.52e-127</td>\n",
       "</tr>\n",
       "<tr>\n",
       "  <th>Time:</th>                 <td>18:59:59</td>     <th>  Log-Likelihood:    </th> <td> -3401.2</td> \n",
       "</tr>\n",
       "<tr>\n",
       "  <th>No. Observations:</th>      <td>   292</td>      <th>  AIC:               </th> <td>   6836.</td> \n",
       "</tr>\n",
       "<tr>\n",
       "  <th>Df Residuals:</th>          <td>   275</td>      <th>  BIC:               </th> <td>   6899.</td> \n",
       "</tr>\n",
       "<tr>\n",
       "  <th>Df Model:</th>              <td>    16</td>      <th>                     </th>     <td> </td>    \n",
       "</tr>\n",
       "<tr>\n",
       "  <th>Covariance Type:</th>      <td>nonrobust</td>    <th>                     </th>     <td> </td>    \n",
       "</tr>\n",
       "</table>\n",
       "<table class=\"simpletable\">\n",
       "<tr>\n",
       "           <td></td>              <th>coef</th>     <th>std err</th>      <th>t</th>      <th>P>|t|</th>  <th>[0.025</th>    <th>0.975]</th>  \n",
       "</tr>\n",
       "<tr>\n",
       "  <th>const</th>               <td>-3.091e+05</td> <td>  3.8e+05</td> <td>   -0.812</td> <td> 0.417</td> <td>-1.06e+06</td> <td>  4.4e+05</td>\n",
       "</tr>\n",
       "<tr>\n",
       "  <th>LotArea</th>             <td>  -38.3055</td> <td>   37.499</td> <td>   -1.022</td> <td> 0.308</td> <td> -112.127</td> <td>   35.516</td>\n",
       "</tr>\n",
       "<tr>\n",
       "  <th>OverallQual</th>         <td> -6.43e+04</td> <td> 8346.008</td> <td>   -7.704</td> <td> 0.000</td> <td>-8.07e+04</td> <td>-4.79e+04</td>\n",
       "</tr>\n",
       "<tr>\n",
       "  <th>OverallCond</th>         <td> 7045.6541</td> <td> 3204.144</td> <td>    2.199</td> <td> 0.029</td> <td>  737.888</td> <td> 1.34e+04</td>\n",
       "</tr>\n",
       "<tr>\n",
       "  <th>YearBuilt</th>           <td>  235.2472</td> <td>  195.410</td> <td>    1.204</td> <td> 0.230</td> <td> -149.443</td> <td>  619.938</td>\n",
       "</tr>\n",
       "<tr>\n",
       "  <th>OverallQuall_square</th> <td> 5680.3739</td> <td>  668.895</td> <td>    8.492</td> <td> 0.000</td> <td> 4363.568</td> <td> 6997.180</td>\n",
       "</tr>\n",
       "<tr>\n",
       "  <th>BsmtFinSF1</th>          <td>   19.3816</td> <td>    4.850</td> <td>    3.997</td> <td> 0.000</td> <td>    9.835</td> <td>   28.928</td>\n",
       "</tr>\n",
       "<tr>\n",
       "  <th>TotalBsmtSF</th>         <td>   29.7716</td> <td>    7.020</td> <td>    4.241</td> <td> 0.000</td> <td>   15.952</td> <td>   43.592</td>\n",
       "</tr>\n",
       "<tr>\n",
       "  <th>1stFlrSF</th>            <td>   29.6835</td> <td>   10.386</td> <td>    2.858</td> <td> 0.005</td> <td>    9.238</td> <td>   50.129</td>\n",
       "</tr>\n",
       "<tr>\n",
       "  <th>2ndFlrSF</th>            <td>   29.9396</td> <td>    9.559</td> <td>    3.132</td> <td> 0.002</td> <td>   11.121</td> <td>   48.759</td>\n",
       "</tr>\n",
       "<tr>\n",
       "  <th>LowQualFinSF</th>        <td>  -23.1761</td> <td>   25.963</td> <td>   -0.893</td> <td> 0.373</td> <td>  -74.287</td> <td>   27.935</td>\n",
       "</tr>\n",
       "<tr>\n",
       "  <th>GrLivArea</th>           <td>   36.4469</td> <td>    9.062</td> <td>    4.022</td> <td> 0.000</td> <td>   18.607</td> <td>   54.286</td>\n",
       "</tr>\n",
       "<tr>\n",
       "  <th>BedroomAbvGr</th>        <td>-5197.9777</td> <td> 2723.724</td> <td>   -1.908</td> <td> 0.057</td> <td>-1.06e+04</td> <td>  164.021</td>\n",
       "</tr>\n",
       "<tr>\n",
       "  <th>GarageCars</th>          <td> 1.237e+04</td> <td> 3205.282</td> <td>    3.859</td> <td> 0.000</td> <td> 6059.424</td> <td> 1.87e+04</td>\n",
       "</tr>\n",
       "<tr>\n",
       "  <th>WoodDeckSF</th>          <td>   31.4849</td> <td>   17.107</td> <td>    1.841</td> <td> 0.067</td> <td>   -2.192</td> <td>   65.162</td>\n",
       "</tr>\n",
       "<tr>\n",
       "  <th>LotArea_year</th>        <td>    0.0156</td> <td>    0.019</td> <td>    0.815</td> <td> 0.416</td> <td>   -0.022</td> <td>    0.053</td>\n",
       "</tr>\n",
       "<tr>\n",
       "  <th>LotArea_ov_qual</th>     <td>    1.0345</td> <td>    0.294</td> <td>    3.519</td> <td> 0.001</td> <td>    0.456</td> <td>    1.613</td>\n",
       "</tr>\n",
       "<tr>\n",
       "  <th>LotArea_ov_cond</th>     <td>    0.3719</td> <td>    0.270</td> <td>    1.375</td> <td> 0.170</td> <td>   -0.161</td> <td>    0.904</td>\n",
       "</tr>\n",
       "</table>\n",
       "<table class=\"simpletable\">\n",
       "<tr>\n",
       "  <th>Omnibus:</th>       <td>104.563</td> <th>  Durbin-Watson:     </th> <td>   2.082</td> \n",
       "</tr>\n",
       "<tr>\n",
       "  <th>Prob(Omnibus):</th> <td> 0.000</td>  <th>  Jarque-Bera (JB):  </th> <td> 843.095</td> \n",
       "</tr>\n",
       "<tr>\n",
       "  <th>Skew:</th>          <td> 1.218</td>  <th>  Prob(JB):          </th> <td>8.40e-184</td>\n",
       "</tr>\n",
       "<tr>\n",
       "  <th>Kurtosis:</th>      <td>10.960</td>  <th>  Cond. No.          </th> <td>2.32e+20</td> \n",
       "</tr>\n",
       "</table><br/><br/>Warnings:<br/>[1] Standard Errors assume that the covariance matrix of the errors is correctly specified.<br/>[2] The smallest eigenvalue is 2.76e-24. This might indicate that there are<br/>strong multicollinearity problems or that the design matrix is singular."
      ],
      "text/plain": [
       "<class 'statsmodels.iolib.summary.Summary'>\n",
       "\"\"\"\n",
       "                            OLS Regression Results                            \n",
       "==============================================================================\n",
       "Dep. Variable:              SalePrice   R-squared:                       0.900\n",
       "Model:                            OLS   Adj. R-squared:                  0.894\n",
       "Method:                 Least Squares   F-statistic:                     154.7\n",
       "Date:                Sun, 20 Sep 2020   Prob (F-statistic):          3.52e-127\n",
       "Time:                        18:59:59   Log-Likelihood:                -3401.2\n",
       "No. Observations:                 292   AIC:                             6836.\n",
       "Df Residuals:                     275   BIC:                             6899.\n",
       "Df Model:                          16                                         \n",
       "Covariance Type:            nonrobust                                         \n",
       "=======================================================================================\n",
       "                          coef    std err          t      P>|t|      [0.025      0.975]\n",
       "---------------------------------------------------------------------------------------\n",
       "const               -3.091e+05    3.8e+05     -0.812      0.417   -1.06e+06     4.4e+05\n",
       "LotArea               -38.3055     37.499     -1.022      0.308    -112.127      35.516\n",
       "OverallQual          -6.43e+04   8346.008     -7.704      0.000   -8.07e+04   -4.79e+04\n",
       "OverallCond          7045.6541   3204.144      2.199      0.029     737.888    1.34e+04\n",
       "YearBuilt             235.2472    195.410      1.204      0.230    -149.443     619.938\n",
       "OverallQuall_square  5680.3739    668.895      8.492      0.000    4363.568    6997.180\n",
       "BsmtFinSF1             19.3816      4.850      3.997      0.000       9.835      28.928\n",
       "TotalBsmtSF            29.7716      7.020      4.241      0.000      15.952      43.592\n",
       "1stFlrSF               29.6835     10.386      2.858      0.005       9.238      50.129\n",
       "2ndFlrSF               29.9396      9.559      3.132      0.002      11.121      48.759\n",
       "LowQualFinSF          -23.1761     25.963     -0.893      0.373     -74.287      27.935\n",
       "GrLivArea              36.4469      9.062      4.022      0.000      18.607      54.286\n",
       "BedroomAbvGr        -5197.9777   2723.724     -1.908      0.057   -1.06e+04     164.021\n",
       "GarageCars           1.237e+04   3205.282      3.859      0.000    6059.424    1.87e+04\n",
       "WoodDeckSF             31.4849     17.107      1.841      0.067      -2.192      65.162\n",
       "LotArea_year            0.0156      0.019      0.815      0.416      -0.022       0.053\n",
       "LotArea_ov_qual         1.0345      0.294      3.519      0.001       0.456       1.613\n",
       "LotArea_ov_cond         0.3719      0.270      1.375      0.170      -0.161       0.904\n",
       "==============================================================================\n",
       "Omnibus:                      104.563   Durbin-Watson:                   2.082\n",
       "Prob(Omnibus):                  0.000   Jarque-Bera (JB):              843.095\n",
       "Skew:                           1.218   Prob(JB):                    8.40e-184\n",
       "Kurtosis:                      10.960   Cond. No.                     2.32e+20\n",
       "==============================================================================\n",
       "\n",
       "Warnings:\n",
       "[1] Standard Errors assume that the covariance matrix of the errors is correctly specified.\n",
       "[2] The smallest eigenvalue is 2.76e-24. This might indicate that there are\n",
       "strong multicollinearity problems or that the design matrix is singular.\n",
       "\"\"\""
      ]
     },
     "execution_count": 7,
     "metadata": {},
     "output_type": "execute_result"
    }
   ],
   "source": [
    "X_test = sm.add_constant(X_test)\n",
    "results = sm.OLS(y_test,X_test).fit()\n",
    "results.summary()"
   ]
  },
  {
   "cell_type": "code",
   "execution_count": 8,
   "metadata": {},
   "outputs": [],
   "source": [
    "test_preds = results.predict(X_test)\n",
    "train_preds = model.predict(X_train)"
   ]
  },
  {
   "cell_type": "code",
   "execution_count": 9,
   "metadata": {},
   "outputs": [
    {
     "data": {
      "image/png": "[encoded data removed]",
      "text/plain": [
       "<Figure size 432x288 with 1 Axes>"
      ]
     },
     "metadata": {
      "needs_background": "light"
     },
     "output_type": "display_data"
    }
   ],
   "source": [
    "plt.scatter(y_test,test_preds)\n",
    "plt.plot(y_test,y_test, c =\"r\")\n",
    "plt.xlabel(\"true values\")\n",
    "plt.ylabel(\"predicted values\")\n",
    "plt.title(\"Charges: true and predicted values\")\n",
    "plt.show()"
   ]
  },
  {
   "cell_type": "code",
   "execution_count": 10,
   "metadata": {},
   "outputs": [
    {
     "data": {
      "image/png": "[encoded data removed]",
      "text/plain": [
       "<Figure size 432x288 with 1 Axes>"
      ]
     },
     "metadata": {
      "needs_background": "light"
     },
     "output_type": "display_data"
    }
   ],
   "source": [
    "plt.scatter(y_train,train_preds)\n",
    "plt.plot(y_train,y_train, c =\"r\")\n",
    "plt.xlabel(\"true values\")\n",
    "plt.ylabel(\"predicted values\")\n",
    "plt.title(\"Charges: true and predicted values\")\n",
    "plt.show()"
   ]
  },
  {
   "cell_type": "markdown",
   "metadata": {},
   "source": [
    "* **Lasso regression(L1 regularization)**"
   ]
  },
  {
   "cell_type": "code",
   "execution_count": 11,
   "metadata": {},
   "outputs": [],
   "source": [
    "X_train, X_test, y_train, y_test = train_test_split(X, Y, test_size=0.2, random_state=42)"
   ]
  },
  {
   "cell_type": "code",
   "execution_count": 12,
   "metadata": {},
   "outputs": [
    {
     "name": "stdout",
     "output_type": "stream",
     "text": [
      "R-squared training set is : 0.0\n",
      "----- Test set statistics -----\n",
      "R-squared of test model set is : -0.0008824918802490256\n",
      "Mean absolute error of the prediction is: 62575.926451960964\n",
      "Mean squared error of the prediction is : 7677095207.783831\n",
      "Root mean squared error of the prediction is : 87619.03450611533\n",
      "Mean absolute percentage error of the prediction is: 41.35583143029259\n"
     ]
    }
   ],
   "source": [
    "from sklearn.metrics import mean_absolute_error\n",
    "from statsmodels.tools.eval_measures import mse, rmse\n",
    "from sklearn.linear_model import Lasso\n",
    "\n",
    "lassoregr = Lasso(alpha = 10**20.5)\n",
    "lassoregr.fit(X_train, y_train)\n",
    "\n",
    "# We are making predictions here\n",
    "y_preds_test = lassoregr.predict(X_test)\n",
    "y_preds_train = lassoregr.predict(X_train)\n",
    "\n",
    "\n",
    "print(\"Accuracy training set is : {}\".format(lassoregr.score(X_train, y_train)))\n",
    "print(\"----- Test set statistics -----\")\n",
    "print(\"Accuracy of test model set is : {}\".format(lassoregr.score(X_test, y_test)))\n",
    "print(\"Mean absolute error of the prediction is: {}\".format(mean_absolute_error(y_test,y_preds_test)))\n",
    "print(\"Mean squared error of the prediction is : {}\".format(mse(y_test,y_preds_test)))\n",
    "print(\"Root mean squared error of the prediction is : {}\".format(rmse(y_test, y_preds_test)))\n",
    "print(\"Mean absolute percentage error of the prediction is: {}\".format(np.mean(np.abs((y_test - y_preds_test) / y_test)) * 100))"
   ]
  },
  {
   "cell_type": "markdown",
   "metadata": {},
   "source": [
    "* **Hyperparameter**"
   ]
  },
  {
   "cell_type": "code",
   "execution_count": 35,
   "metadata": {},
   "outputs": [],
   "source": [
    "parameters = {\"alpha\": [10 ** x for x in range (-10, 10, 1)],\n",
    "              }"
   ]
  },
  {
   "cell_type": "code",
   "execution_count": 39,
   "metadata": {},
   "outputs": [
    {
     "data": {
      "text/plain": [
       "GridSearchCV(cv=10, estimator=Lasso(),\n",
       "             param_grid={'alpha': [1e-10, 1e-09, 1e-08, 1e-07, 1e-06, 1e-05,\n",
       "                                   0.0001, 0.001, 0.01, 0.1, 1, 10, 100, 1000,\n",
       "                                   10000, 100000, 1000000, 10000000, 100000000,\n",
       "                                   1000000000]})"
      ]
     },
     "execution_count": 39,
     "metadata": {},
     "output_type": "execute_result"
    }
   ],
   "source": [
    "from sklearn.linear_model import LinearRegression\n",
    "from sklearn.model_selection import GridSearchCV\n",
    "lassoregr = Lasso()\n",
    "grid_cv = GridSearchCV(estimator=lassoregr,\n",
    "                       param_grid = parameters,\n",
    "                       cv = 10\n",
    "                      )\n",
    "\n",
    "grid_cv.fit(X_train, y_train)"
   ]
  },
  {
   "cell_type": "code",
   "execution_count": 40,
   "metadata": {},
   "outputs": [
    {
     "name": "stdout",
     "output_type": "stream",
     "text": [
      "Best Parameters :  {'alpha': 1e-10}\n",
      "Best Score      :  0.7896613675185156\n"
     ]
    }
   ],
   "source": [
    "print(\"Best Parameters : \", grid_cv.best_params_)\n",
    "print(\"Best Score      : \", grid_cv.best_score_)"
   ]
  },
  {
   "cell_type": "markdown",
   "metadata": {},
   "source": [
    "* **Lasso with Best Score and hyperparameter**"
   ]
  },
  {
   "cell_type": "code",
   "execution_count": 41,
   "metadata": {},
   "outputs": [
    {
     "name": "stdout",
     "output_type": "stream",
     "text": [
      "R-squared of the model in training set is: 0.815906790205612\n",
      "-----Test set statistics-----\n",
      "R-squared of the model in test set is: 0.834335867641125\n",
      "Mean absolute error of the prediction is: 21048.960367525993\n",
      "Mean squared error of the prediction is: 1314959524.11382\n",
      "Root mean squared error of the prediction is: 36262.37063560269\n",
      "Mean absolute percentage error of the prediction is: 11.607806114053037\n"
     ]
    }
   ],
   "source": [
    "lassoregr = Lasso(alpha=0.1) \n",
    "lassoregr.fit(X_train, y_train)\n",
    "\n",
    "# We are making predictions here\n",
    "y_preds_train = lassoregr.predict(X_train)\n",
    "y_preds_test = lassoregr.predict(X_test)\n",
    "\n",
    "print(\"Accuracy training set is : {}\".format(lassoregr.score(X_train, y_train)))\n",
    "print(\"----- Test set statistics -----\")\n",
    "print(\"Accuracy of test model set is : {}\".format(lassoregr.score(X_test, y_test)))\n",
    "print(\"Mean absolute error of the prediction is: {}\".format(mean_absolute_error(y_test,y_preds_test)))\n",
    "print(\"Mean squared error of the prediction is : {}\".format(mse(y_test,y_preds_test)))\n",
    "print(\"Root mean squared error of the prediction is : {}\".format(rmse(y_test, y_preds_test)))\n",
    "print(\"Mean absolute percentage error of the prediction is: {}\".format(np.mean(np.abs((y_test - y_preds_test) / y_test)) * 100))"
   ]
  },
  {
   "cell_type": "code",
   "execution_count": 43,
   "metadata": {},
   "outputs": [
    {
     "data": {
      "text/plain": [
       "GridSearchCV(cv=10, estimator=Ridge(),\n",
       "             param_grid={'alpha': [1e-10, 1e-09, 1e-08, 1e-07, 1e-06, 1e-05,\n",
       "                                   0.0001, 0.001, 0.01, 0.1, 1, 10, 100, 1000,\n",
       "                                   10000, 100000, 1000000, 10000000, 100000000,\n",
       "                                   1000000000]})"
      ]
     },
     "execution_count": 43,
     "metadata": {},
     "output_type": "execute_result"
    }
   ],
   "source": [
    "from sklearn.linear_model import Ridge\n",
    "ridge = Ridge()\n",
    "grid_cv = GridSearchCV(estimator=ridge,\n",
    "                       param_grid = parameters,\n",
    "                       cv = 10\n",
    "                      )\n",
    "\n",
    "grid_cv.fit(X_train, y_train)"
   ]
  },
  {
   "cell_type": "code",
   "execution_count": 44,
   "metadata": {},
   "outputs": [
    {
     "name": "stdout",
     "output_type": "stream",
     "text": [
      "Best Parameters :  {'alpha': 1}\n",
      "Best Score      :  0.7854056384543731\n"
     ]
    }
   ],
   "source": [
    "print(\"Best Parameters : \", grid_cv.best_params_)\n",
    "print(\"Best Score      : \", grid_cv.best_score_)"
   ]
  },
  {
   "cell_type": "markdown",
   "metadata": {},
   "source": [
    "* **Ridge with Best Score and hyperparameter**"
   ]
  },
  {
   "cell_type": "code",
   "execution_count": 45,
   "metadata": {},
   "outputs": [
    {
     "name": "stdout",
     "output_type": "stream",
     "text": [
      "Accuracy training set is : 0.816032517029946\n",
      "----- Test set statistics -----\n",
      "Accuracy of test model set is : 0.8302038540114397\n",
      "Mean absolute error of the prediction is: 21048.960367525993\n",
      "Mean squared error of the prediction is : 1314959524.11382\n",
      "Root mean squared error of the prediction is : 36262.37063560269\n",
      "Mean absolute percentage error of the prediction is: 11.607806114053037\n"
     ]
    }
   ],
   "source": [
    "ridge = Ridge(alpha = 1)\n",
    "ridge.fit(X_train,y_train)\n",
    "\n",
    "#Making predictions\n",
    "ytrain_pred_r = ridge.predict(X_train)\n",
    "ytest_pred_r = ridge.predict(X_test)\n",
    "\n",
    "print(\"Accuracy training set is : {}\".format(ridge.score(X_train, y_train)))\n",
    "print(\"----- Test set statistics -----\")\n",
    "print(\"Accuracy of test model set is : {}\".format(ridge.score(X_test, y_test)))\n",
    "print(\"Mean absolute error of the prediction is: {}\".format(mean_absolute_error(y_test,y_preds_test)))\n",
    "print(\"Mean squared error of the prediction is : {}\".format(mse(y_test,y_preds_test)))\n",
    "print(\"Root mean squared error of the prediction is : {}\".format(rmse(y_test, y_preds_test)))\n",
    "print(\"Mean absolute percentage error of the prediction is: {}\".format(np.mean(np.abs((y_test - y_preds_test) / y_test)) * 100))"
   ]
  },
  {
   "cell_type": "markdown",
   "metadata": {},
   "source": [
    "* **ElasticNET**"
   ]
  },
  {
   "cell_type": "code",
   "execution_count": 48,
   "metadata": {},
   "outputs": [],
   "source": [
    "parameters = {\"alpha\": [10 ** x for x in range (-10, 10, 1)],\"l1_ratio\" : [x for x in np.arange(0.0,1.1,0.1)]\n",
    "              }"
   ]
  },
  {
   "cell_type": "code",
   "execution_count": 49,
   "metadata": {},
   "outputs": [
    {
     "data": {
      "text/plain": [
       "GridSearchCV(cv=10, estimator=ElasticNet(),\n",
       "             param_grid={'alpha': [1e-10, 1e-09, 1e-08, 1e-07, 1e-06, 1e-05,\n",
       "                                   0.0001, 0.001, 0.01, 0.1, 1, 10, 100, 1000,\n",
       "                                   10000, 100000, 1000000, 10000000, 100000000,\n",
       "                                   1000000000],\n",
       "                         'l1_ratio': [0.0, 0.1, 0.2, 0.30000000000000004, 0.4,\n",
       "                                      0.5, 0.6000000000000001,\n",
       "                                      0.7000000000000001, 0.8, 0.9, 1.0]})"
      ]
     },
     "execution_count": 49,
     "metadata": {},
     "output_type": "execute_result"
    }
   ],
   "source": [
    "from sklearn.linear_model import ElasticNet\n",
    "elasticregr = ElasticNet()\n",
    "grid_cv = GridSearchCV(estimator=elasticregr,\n",
    "                       param_grid = parameters,\n",
    "                       cv = 10\n",
    "                      )\n",
    "\n",
    "grid_cv.fit(X_train, y_train)"
   ]
  },
  {
   "cell_type": "code",
   "execution_count": 50,
   "metadata": {},
   "outputs": [
    {
     "name": "stdout",
     "output_type": "stream",
     "text": [
      "Best Parameters :  {'alpha': 0.01, 'l1_ratio': 0.30000000000000004}\n",
      "Best Score      :  0.7901649704319469\n"
     ]
    }
   ],
   "source": [
    "print(\"Best Parameters : \", grid_cv.best_params_)\n",
    "print(\"Best Score      : \", grid_cv.best_score_)"
   ]
  },
  {
   "cell_type": "markdown",
   "metadata": {},
   "source": [
    "* **Best ElasticNet Parameters**"
   ]
  },
  {
   "cell_type": "code",
   "execution_count": 51,
   "metadata": {},
   "outputs": [
    {
     "name": "stdout",
     "output_type": "stream",
     "text": [
      "R-squared of the model in training set is: 0.8155489132412345\n",
      "-----Test set statistics-----\n",
      "R-squared of the model in test set is: 0.8319061356972383\n",
      "Mean absolute error of the prediction is: 21120.91450640165\n",
      "Mean squared error of the prediction is: 1334245528.3632867\n",
      "Root mean squared error of the prediction is: 36527.32577623616\n",
      "Mean absolute percentage error of the prediction is: 11.540734246024703\n"
     ]
    }
   ],
   "source": [
    "elasticregr = ElasticNet(alpha=0.01, l1_ratio=0.3) \n",
    "elasticregr.fit(X_train, y_train)\n",
    "\n",
    "# We are making predictions here\n",
    "y_preds_train = elasticregr.predict(X_train)\n",
    "y_preds_test = elasticregr.predict(X_test)\n",
    "\n",
    "print(\"R-squared of the model in training set is: {}\".format(elasticregr.score(X_train, y_train)))\n",
    "print(\"-----Test set statistics-----\")\n",
    "print(\"R-squared of the model in test set is: {}\".format(elasticregr.score(X_test, y_test)))\n",
    "print(\"Mean absolute error of the prediction is: {}\".format(mean_absolute_error(y_test, y_preds_test)))\n",
    "print(\"Mean squared error of the prediction is: {}\".format(mse(y_test, y_preds_test)))\n",
    "print(\"Root mean squared error of the prediction is: {}\".format(rmse(y_test, y_preds_test)))\n",
    "print(\"Mean absolute percentage error of the prediction is: {}\".format(np.mean(np.abs((y_test - y_preds_test) / y_test)) * 100))"
   ]
  },
  {
   "cell_type": "code",
   "execution_count": null,
   "metadata": {},
   "outputs": [],
   "source": []
  }
 ],
 "metadata": {
  "kernelspec": {
   "display_name": "Python 3",
   "language": "python",
   "name": "python3"
  },
  "language_info": {
   "codemirror_mode": {
    "name": "ipython",
    "version": 3
   },
   "file_extension": ".py",
   "mimetype": "text/x-python",
   "name": "python",
   "nbconvert_exporter": "python",
   "pygments_lexer": "ipython3",
   "version": "3.8.3"
  }
 },
 "nbformat": 4,
 "nbformat_minor": 4
}
