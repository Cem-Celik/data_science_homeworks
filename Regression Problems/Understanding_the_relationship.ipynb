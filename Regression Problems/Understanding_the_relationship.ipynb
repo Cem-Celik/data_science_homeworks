{
 "cells": [
  {
   "cell_type": "markdown",
   "metadata": {},
   "source": [
    "# Assignment"
   ]
  },
  {
   "cell_type": "markdown",
   "metadata": {},
   "source": [
    "**1. Interpretion and signficance**"
   ]
  },
  {
   "cell_type": "markdown",
   "metadata": {},
   "source": [
    "Suppose that we would like to know how much families in the US are spending on recreation annually. We estimated the following model:\n",
    "\n",
    "* expenditure=873+0.0012annual_income+0.00002annual_income^2−223.57have_kids\n",
    " \n",
    "expenditure is the annual spending on recreation in US dollars, annual_income is the annual income in US dollars and have_kids is a dummy variable indicating the families with children. Interpret the estimated coefficients. What additional statistics should be given in order to make sure that your interpretations make sense statistically. Write up your answer and save in a Gist."
   ]
  },
  {
   "cell_type": "markdown",
   "metadata": {},
   "source": [
    "Solution:\n",
    "* have_kids is a boolean(dummy) variable which have 0 or 1\n",
    "* annual_income can change 0 to huge numbers\n",
    "\n",
    "Additional:\n",
    "\n",
    "* Maybe we can look p-values of these variables."
   ]
  },
  {
   "cell_type": "markdown",
   "metadata": {},
   "source": [
    "**2- Weather Model**"
   ]
  },
  {
   "cell_type": "markdown",
   "metadata": {},
   "source": [
    "* First, load the dataset from the weatherinszeged table from Kaggle.\n",
    "* Build a linear regression model where your target variable is the difference between the apparenttemperature and the temperature. As explanatory variables, use humidity and windspeed. Now, estimate your model using OLS. Are the estimated coefficients statistically significant? Are the signs of the estimated coefficients in line with your previous expectations? Interpret the estimated coefficients. What are the relations between the target and the explanatory variables?\n",
    "* Next, include the interaction of humidity and windspeed to the model above and estimate the model using OLS. Are the coefficients statistically significant? Did the signs of the estimated coefficients for humidity and windspeed change? Interpret the estimated coefficients."
   ]
  },
  {
   "cell_type": "code",
   "execution_count": 1,
   "metadata": {},
   "outputs": [],
   "source": [
    "import pandas as pd\n",
    "import numpy as np\n",
    "from sklearn import linear_model\n",
    "import statsmodels.api as sm\n",
    "\n",
    "import warnings\n",
    "warnings.filterwarnings(action=\"ignore\")"
   ]
  },
  {
   "cell_type": "code",
   "execution_count": 2,
   "metadata": {},
   "outputs": [
    {
     "data": {
      "text/html": [
       "<div>\n",
       "<style scoped>\n",
       "    .dataframe tbody tr th:only-of-type {\n",
       "        vertical-align: middle;\n",
       "    }\n",
       "\n",
       "    .dataframe tbody tr th {\n",
       "        vertical-align: top;\n",
       "    }\n",
       "\n",
       "    .dataframe thead th {\n",
       "        text-align: right;\n",
       "    }\n",
       "</style>\n",
       "<table border=\"1\" class=\"dataframe\">\n",
       "  <thead>\n",
       "    <tr style=\"text-align: right;\">\n",
       "      <th></th>\n",
       "      <th>Formatted Date</th>\n",
       "      <th>Summary</th>\n",
       "      <th>Precip Type</th>\n",
       "      <th>Temperature (C)</th>\n",
       "      <th>Apparent Temperature (C)</th>\n",
       "      <th>Humidity</th>\n",
       "      <th>Wind Speed (km/h)</th>\n",
       "      <th>Wind Bearing (degrees)</th>\n",
       "      <th>Visibility (km)</th>\n",
       "      <th>Loud Cover</th>\n",
       "      <th>Pressure (millibars)</th>\n",
       "      <th>Daily Summary</th>\n",
       "    </tr>\n",
       "  </thead>\n",
       "  <tbody>\n",
       "    <tr>\n",
       "      <th>0</th>\n",
       "      <td>2006-04-01 00:00:00.000 +0200</td>\n",
       "      <td>Partly Cloudy</td>\n",
       "      <td>rain</td>\n",
       "      <td>9.472222</td>\n",
       "      <td>7.388889</td>\n",
       "      <td>0.89</td>\n",
       "      <td>14.1197</td>\n",
       "      <td>251.0</td>\n",
       "      <td>15.8263</td>\n",
       "      <td>0.0</td>\n",
       "      <td>1015.13</td>\n",
       "      <td>Partly cloudy throughout the day.</td>\n",
       "    </tr>\n",
       "    <tr>\n",
       "      <th>1</th>\n",
       "      <td>2006-04-01 01:00:00.000 +0200</td>\n",
       "      <td>Partly Cloudy</td>\n",
       "      <td>rain</td>\n",
       "      <td>9.355556</td>\n",
       "      <td>7.227778</td>\n",
       "      <td>0.86</td>\n",
       "      <td>14.2646</td>\n",
       "      <td>259.0</td>\n",
       "      <td>15.8263</td>\n",
       "      <td>0.0</td>\n",
       "      <td>1015.63</td>\n",
       "      <td>Partly cloudy throughout the day.</td>\n",
       "    </tr>\n",
       "    <tr>\n",
       "      <th>2</th>\n",
       "      <td>2006-04-01 02:00:00.000 +0200</td>\n",
       "      <td>Mostly Cloudy</td>\n",
       "      <td>rain</td>\n",
       "      <td>9.377778</td>\n",
       "      <td>9.377778</td>\n",
       "      <td>0.89</td>\n",
       "      <td>3.9284</td>\n",
       "      <td>204.0</td>\n",
       "      <td>14.9569</td>\n",
       "      <td>0.0</td>\n",
       "      <td>1015.94</td>\n",
       "      <td>Partly cloudy throughout the day.</td>\n",
       "    </tr>\n",
       "    <tr>\n",
       "      <th>3</th>\n",
       "      <td>2006-04-01 03:00:00.000 +0200</td>\n",
       "      <td>Partly Cloudy</td>\n",
       "      <td>rain</td>\n",
       "      <td>8.288889</td>\n",
       "      <td>5.944444</td>\n",
       "      <td>0.83</td>\n",
       "      <td>14.1036</td>\n",
       "      <td>269.0</td>\n",
       "      <td>15.8263</td>\n",
       "      <td>0.0</td>\n",
       "      <td>1016.41</td>\n",
       "      <td>Partly cloudy throughout the day.</td>\n",
       "    </tr>\n",
       "    <tr>\n",
       "      <th>4</th>\n",
       "      <td>2006-04-01 04:00:00.000 +0200</td>\n",
       "      <td>Mostly Cloudy</td>\n",
       "      <td>rain</td>\n",
       "      <td>8.755556</td>\n",
       "      <td>6.977778</td>\n",
       "      <td>0.83</td>\n",
       "      <td>11.0446</td>\n",
       "      <td>259.0</td>\n",
       "      <td>15.8263</td>\n",
       "      <td>0.0</td>\n",
       "      <td>1016.51</td>\n",
       "      <td>Partly cloudy throughout the day.</td>\n",
       "    </tr>\n",
       "  </tbody>\n",
       "</table>\n",
       "</div>"
      ],
      "text/plain": [
       "                  Formatted Date        Summary Precip Type  Temperature (C)  \\\n",
       "0  2006-04-01 00:00:00.000 +0200  Partly Cloudy        rain         9.472222   \n",
       "1  2006-04-01 01:00:00.000 +0200  Partly Cloudy        rain         9.355556   \n",
       "2  2006-04-01 02:00:00.000 +0200  Mostly Cloudy        rain         9.377778   \n",
       "3  2006-04-01 03:00:00.000 +0200  Partly Cloudy        rain         8.288889   \n",
       "4  2006-04-01 04:00:00.000 +0200  Mostly Cloudy        rain         8.755556   \n",
       "\n",
       "   Apparent Temperature (C)  Humidity  Wind Speed (km/h)  \\\n",
       "0                  7.388889      0.89            14.1197   \n",
       "1                  7.227778      0.86            14.2646   \n",
       "2                  9.377778      0.89             3.9284   \n",
       "3                  5.944444      0.83            14.1036   \n",
       "4                  6.977778      0.83            11.0446   \n",
       "\n",
       "   Wind Bearing (degrees)  Visibility (km)  Loud Cover  Pressure (millibars)  \\\n",
       "0                   251.0          15.8263         0.0               1015.13   \n",
       "1                   259.0          15.8263         0.0               1015.63   \n",
       "2                   204.0          14.9569         0.0               1015.94   \n",
       "3                   269.0          15.8263         0.0               1016.41   \n",
       "4                   259.0          15.8263         0.0               1016.51   \n",
       "\n",
       "                       Daily Summary  \n",
       "0  Partly cloudy throughout the day.  \n",
       "1  Partly cloudy throughout the day.  \n",
       "2  Partly cloudy throughout the day.  \n",
       "3  Partly cloudy throughout the day.  \n",
       "4  Partly cloudy throughout the day.  "
      ]
     },
     "execution_count": 2,
     "metadata": {},
     "output_type": "execute_result"
    }
   ],
   "source": [
    "weather = pd.read_csv(\"data/weatherHistory.csv\")\n",
    "weather.head(5)"
   ]
  },
  {
   "cell_type": "code",
   "execution_count": 3,
   "metadata": {},
   "outputs": [],
   "source": [
    "lst = []\n",
    "for i in range(weather.shape[0]):\n",
    "    lst.append(weather[\"Temperature (C)\"].iloc[i]-weather[\"Apparent Temperature (C)\"].iloc[i])\n",
    "\n",
    "weather[\"target\"] = lst"
   ]
  },
  {
   "cell_type": "code",
   "execution_count": 4,
   "metadata": {},
   "outputs": [],
   "source": [
    "X = weather[[\"Humidity\",\"Wind Speed (km/h)\"]]\n",
    "Y = weather[\"target\"]"
   ]
  },
  {
   "cell_type": "code",
   "execution_count": 5,
   "metadata": {},
   "outputs": [
    {
     "name": "stdout",
     "output_type": "stream",
     "text": [
      "Coefficents : [3.02918594 0.11929075]\n",
      "Intercept : -2.4381054151877017\n"
     ]
    }
   ],
   "source": [
    "model = linear_model.LinearRegression()\n",
    "model.fit(X,Y)\n",
    "\n",
    "print(\"Coefficents : {}\".format(model.coef_))\n",
    "print(\"Intercept : {}\".format(model.intercept_))"
   ]
  },
  {
   "cell_type": "code",
   "execution_count": 6,
   "metadata": {},
   "outputs": [
    {
     "data": {
      "text/html": [
       "<table class=\"simpletable\">\n",
       "<caption>OLS Regression Results</caption>\n",
       "<tr>\n",
       "  <th>Dep. Variable:</th>         <td>target</td>      <th>  R-squared:         </th>  <td>   0.288</td>  \n",
       "</tr>\n",
       "<tr>\n",
       "  <th>Model:</th>                   <td>OLS</td>       <th>  Adj. R-squared:    </th>  <td>   0.288</td>  \n",
       "</tr>\n",
       "<tr>\n",
       "  <th>Method:</th>             <td>Least Squares</td>  <th>  F-statistic:       </th>  <td>1.949e+04</td> \n",
       "</tr>\n",
       "<tr>\n",
       "  <th>Date:</th>             <td>Thu, 17 Sep 2020</td> <th>  Prob (F-statistic):</th>   <td>  0.00</td>   \n",
       "</tr>\n",
       "<tr>\n",
       "  <th>Time:</th>                 <td>14:49:07</td>     <th>  Log-Likelihood:    </th> <td>-1.7046e+05</td>\n",
       "</tr>\n",
       "<tr>\n",
       "  <th>No. Observations:</th>      <td> 96453</td>      <th>  AIC:               </th>  <td>3.409e+05</td> \n",
       "</tr>\n",
       "<tr>\n",
       "  <th>Df Residuals:</th>          <td> 96450</td>      <th>  BIC:               </th>  <td>3.409e+05</td> \n",
       "</tr>\n",
       "<tr>\n",
       "  <th>Df Model:</th>              <td>     2</td>      <th>                     </th>      <td> </td>     \n",
       "</tr>\n",
       "<tr>\n",
       "  <th>Covariance Type:</th>      <td>nonrobust</td>    <th>                     </th>      <td> </td>     \n",
       "</tr>\n",
       "</table>\n",
       "<table class=\"simpletable\">\n",
       "<tr>\n",
       "          <td></td>             <th>coef</th>     <th>std err</th>      <th>t</th>      <th>P>|t|</th>  <th>[0.025</th>    <th>0.975]</th>  \n",
       "</tr>\n",
       "<tr>\n",
       "  <th>const</th>             <td>   -2.4381</td> <td>    0.021</td> <td> -115.948</td> <td> 0.000</td> <td>   -2.479</td> <td>   -2.397</td>\n",
       "</tr>\n",
       "<tr>\n",
       "  <th>Humidity</th>          <td>    3.0292</td> <td>    0.024</td> <td>  126.479</td> <td> 0.000</td> <td>    2.982</td> <td>    3.076</td>\n",
       "</tr>\n",
       "<tr>\n",
       "  <th>Wind Speed (km/h)</th> <td>    0.1193</td> <td>    0.001</td> <td>  176.164</td> <td> 0.000</td> <td>    0.118</td> <td>    0.121</td>\n",
       "</tr>\n",
       "</table>\n",
       "<table class=\"simpletable\">\n",
       "<tr>\n",
       "  <th>Omnibus:</th>       <td>3935.747</td> <th>  Durbin-Watson:     </th> <td>   0.264</td>\n",
       "</tr>\n",
       "<tr>\n",
       "  <th>Prob(Omnibus):</th>  <td> 0.000</td>  <th>  Jarque-Bera (JB):  </th> <td>4613.311</td>\n",
       "</tr>\n",
       "<tr>\n",
       "  <th>Skew:</th>           <td> 0.478</td>  <th>  Prob(JB):          </th> <td>    0.00</td>\n",
       "</tr>\n",
       "<tr>\n",
       "  <th>Kurtosis:</th>       <td> 3.484</td>  <th>  Cond. No.          </th> <td>    88.1</td>\n",
       "</tr>\n",
       "</table><br/><br/>Warnings:<br/>[1] Standard Errors assume that the covariance matrix of the errors is correctly specified."
      ],
      "text/plain": [
       "<class 'statsmodels.iolib.summary.Summary'>\n",
       "\"\"\"\n",
       "                            OLS Regression Results                            \n",
       "==============================================================================\n",
       "Dep. Variable:                 target   R-squared:                       0.288\n",
       "Model:                            OLS   Adj. R-squared:                  0.288\n",
       "Method:                 Least Squares   F-statistic:                 1.949e+04\n",
       "Date:                Thu, 17 Sep 2020   Prob (F-statistic):               0.00\n",
       "Time:                        14:49:07   Log-Likelihood:            -1.7046e+05\n",
       "No. Observations:               96453   AIC:                         3.409e+05\n",
       "Df Residuals:                   96450   BIC:                         3.409e+05\n",
       "Df Model:                           2                                         \n",
       "Covariance Type:            nonrobust                                         \n",
       "=====================================================================================\n",
       "                        coef    std err          t      P>|t|      [0.025      0.975]\n",
       "-------------------------------------------------------------------------------------\n",
       "const                -2.4381      0.021   -115.948      0.000      -2.479      -2.397\n",
       "Humidity              3.0292      0.024    126.479      0.000       2.982       3.076\n",
       "Wind Speed (km/h)     0.1193      0.001    176.164      0.000       0.118       0.121\n",
       "==============================================================================\n",
       "Omnibus:                     3935.747   Durbin-Watson:                   0.264\n",
       "Prob(Omnibus):                  0.000   Jarque-Bera (JB):             4613.311\n",
       "Skew:                           0.478   Prob(JB):                         0.00\n",
       "Kurtosis:                       3.484   Cond. No.                         88.1\n",
       "==============================================================================\n",
       "\n",
       "Warnings:\n",
       "[1] Standard Errors assume that the covariance matrix of the errors is correctly specified.\n",
       "\"\"\""
      ]
     },
     "execution_count": 6,
     "metadata": {},
     "output_type": "execute_result"
    }
   ],
   "source": [
    "X = sm.add_constant(X)\n",
    "results = sm.OLS(Y,X).fit()\n",
    "results.summary()"
   ]
  },
  {
   "cell_type": "markdown",
   "metadata": {},
   "source": [
    "1- All variables are significant because their p-values are lower than 0.05. "
   ]
  },
  {
   "cell_type": "code",
   "execution_count": 7,
   "metadata": {},
   "outputs": [
    {
     "data": {
      "text/plain": [
       "count    96453.000000\n",
       "mean         0.734899\n",
       "std          0.195473\n",
       "min          0.000000\n",
       "25%          0.600000\n",
       "50%          0.780000\n",
       "75%          0.890000\n",
       "max          1.000000\n",
       "Name: Humidity, dtype: float64"
      ]
     },
     "execution_count": 7,
     "metadata": {},
     "output_type": "execute_result"
    }
   ],
   "source": [
    "weather.Humidity.describe()"
   ]
  },
  {
   "cell_type": "code",
   "execution_count": 8,
   "metadata": {},
   "outputs": [
    {
     "data": {
      "text/plain": [
       "count    96453.000000\n",
       "mean        10.810640\n",
       "std          6.913571\n",
       "min          0.000000\n",
       "25%          5.828200\n",
       "50%          9.965900\n",
       "75%         14.135800\n",
       "max         63.852600\n",
       "Name: Wind Speed (km/h), dtype: float64"
      ]
     },
     "execution_count": 8,
     "metadata": {},
     "output_type": "execute_result"
    }
   ],
   "source": [
    "weather[\"Wind Speed (km/h)\"].describe()"
   ]
  },
  {
   "cell_type": "markdown",
   "metadata": {},
   "source": [
    "*Humidity have a coefficient 3.02918594 but Humidity has range between 0-1.*\n",
    "*Wind Speed have a coefficient 0.11929075 but WindSpeed has range between 0-63.8 so when we just looked coefficents we think that humidity have bigger impact than wind speed. However windspeed have bigger max value and It directly effects the target value. When we product coefficents and features, we see that wind speed have more impact than Humidity.* "
   ]
  },
  {
   "cell_type": "code",
   "execution_count": 9,
   "metadata": {},
   "outputs": [],
   "source": [
    "X = weather[[\"Humidity\",\"Wind Speed (km/h)\"]]\n",
    "lst = []\n",
    "for i in range(len(weather)):\n",
    "    lst.append(weather.Humidity.iloc[i]*weather[\"Wind Speed (km/h)\"].iloc[i])\n",
    "\n",
    "X[\"Humidity_Wind_speed\"] = lst \n",
    "Y = weather[\"target\"]"
   ]
  },
  {
   "cell_type": "code",
   "execution_count": 10,
   "metadata": {},
   "outputs": [
    {
     "name": "stdout",
     "output_type": "stream",
     "text": [
      "Coefficents : [-0.17751219 -0.09048213  0.29711946]\n",
      "Intercept : -0.0839363100978221\n"
     ]
    }
   ],
   "source": [
    "model = linear_model.LinearRegression()\n",
    "model.fit(X,Y)\n",
    "\n",
    "print(\"Coefficents : {}\".format(model.coef_))\n",
    "print(\"Intercept : {}\".format(model.intercept_))"
   ]
  },
  {
   "cell_type": "code",
   "execution_count": 11,
   "metadata": {},
   "outputs": [
    {
     "data": {
      "text/html": [
       "<table class=\"simpletable\">\n",
       "<caption>OLS Regression Results</caption>\n",
       "<tr>\n",
       "  <th>Dep. Variable:</th>         <td>target</td>      <th>  R-squared:         </th>  <td>   0.341</td>  \n",
       "</tr>\n",
       "<tr>\n",
       "  <th>Model:</th>                   <td>OLS</td>       <th>  Adj. R-squared:    </th>  <td>   0.341</td>  \n",
       "</tr>\n",
       "<tr>\n",
       "  <th>Method:</th>             <td>Least Squares</td>  <th>  F-statistic:       </th>  <td>1.666e+04</td> \n",
       "</tr>\n",
       "<tr>\n",
       "  <th>Date:</th>             <td>Thu, 17 Sep 2020</td> <th>  Prob (F-statistic):</th>   <td>  0.00</td>   \n",
       "</tr>\n",
       "<tr>\n",
       "  <th>Time:</th>                 <td>14:49:10</td>     <th>  Log-Likelihood:    </th> <td>-1.6669e+05</td>\n",
       "</tr>\n",
       "<tr>\n",
       "  <th>No. Observations:</th>      <td> 96453</td>      <th>  AIC:               </th>  <td>3.334e+05</td> \n",
       "</tr>\n",
       "<tr>\n",
       "  <th>Df Residuals:</th>          <td> 96449</td>      <th>  BIC:               </th>  <td>3.334e+05</td> \n",
       "</tr>\n",
       "<tr>\n",
       "  <th>Df Model:</th>              <td>     3</td>      <th>                     </th>      <td> </td>     \n",
       "</tr>\n",
       "<tr>\n",
       "  <th>Covariance Type:</th>      <td>nonrobust</td>    <th>                     </th>      <td> </td>     \n",
       "</tr>\n",
       "</table>\n",
       "<table class=\"simpletable\">\n",
       "<tr>\n",
       "           <td></td>              <th>coef</th>     <th>std err</th>      <th>t</th>      <th>P>|t|</th>  <th>[0.025</th>    <th>0.975]</th>  \n",
       "</tr>\n",
       "<tr>\n",
       "  <th>const</th>               <td>   -0.0839</td> <td>    0.033</td> <td>   -2.511</td> <td> 0.012</td> <td>   -0.149</td> <td>   -0.018</td>\n",
       "</tr>\n",
       "<tr>\n",
       "  <th>Humidity</th>            <td>   -0.1775</td> <td>    0.043</td> <td>   -4.133</td> <td> 0.000</td> <td>   -0.262</td> <td>   -0.093</td>\n",
       "</tr>\n",
       "<tr>\n",
       "  <th>Wind Speed (km/h)</th>   <td>   -0.0905</td> <td>    0.002</td> <td>  -36.797</td> <td> 0.000</td> <td>   -0.095</td> <td>   -0.086</td>\n",
       "</tr>\n",
       "<tr>\n",
       "  <th>Humidity_Wind_speed</th> <td>    0.2971</td> <td>    0.003</td> <td>   88.470</td> <td> 0.000</td> <td>    0.291</td> <td>    0.304</td>\n",
       "</tr>\n",
       "</table>\n",
       "<table class=\"simpletable\">\n",
       "<tr>\n",
       "  <th>Omnibus:</th>       <td>4849.937</td> <th>  Durbin-Watson:     </th> <td>   0.262</td>\n",
       "</tr>\n",
       "<tr>\n",
       "  <th>Prob(Omnibus):</th>  <td> 0.000</td>  <th>  Jarque-Bera (JB):  </th> <td>9295.404</td>\n",
       "</tr>\n",
       "<tr>\n",
       "  <th>Skew:</th>           <td> 0.378</td>  <th>  Prob(JB):          </th> <td>    0.00</td>\n",
       "</tr>\n",
       "<tr>\n",
       "  <th>Kurtosis:</th>       <td> 4.320</td>  <th>  Cond. No.          </th> <td>    193.</td>\n",
       "</tr>\n",
       "</table><br/><br/>Warnings:<br/>[1] Standard Errors assume that the covariance matrix of the errors is correctly specified."
      ],
      "text/plain": [
       "<class 'statsmodels.iolib.summary.Summary'>\n",
       "\"\"\"\n",
       "                            OLS Regression Results                            \n",
       "==============================================================================\n",
       "Dep. Variable:                 target   R-squared:                       0.341\n",
       "Model:                            OLS   Adj. R-squared:                  0.341\n",
       "Method:                 Least Squares   F-statistic:                 1.666e+04\n",
       "Date:                Thu, 17 Sep 2020   Prob (F-statistic):               0.00\n",
       "Time:                        14:49:10   Log-Likelihood:            -1.6669e+05\n",
       "No. Observations:               96453   AIC:                         3.334e+05\n",
       "Df Residuals:                   96449   BIC:                         3.334e+05\n",
       "Df Model:                           3                                         \n",
       "Covariance Type:            nonrobust                                         \n",
       "=======================================================================================\n",
       "                          coef    std err          t      P>|t|      [0.025      0.975]\n",
       "---------------------------------------------------------------------------------------\n",
       "const                  -0.0839      0.033     -2.511      0.012      -0.149      -0.018\n",
       "Humidity               -0.1775      0.043     -4.133      0.000      -0.262      -0.093\n",
       "Wind Speed (km/h)      -0.0905      0.002    -36.797      0.000      -0.095      -0.086\n",
       "Humidity_Wind_speed     0.2971      0.003     88.470      0.000       0.291       0.304\n",
       "==============================================================================\n",
       "Omnibus:                     4849.937   Durbin-Watson:                   0.262\n",
       "Prob(Omnibus):                  0.000   Jarque-Bera (JB):             9295.404\n",
       "Skew:                           0.378   Prob(JB):                         0.00\n",
       "Kurtosis:                       4.320   Cond. No.                         193.\n",
       "==============================================================================\n",
       "\n",
       "Warnings:\n",
       "[1] Standard Errors assume that the covariance matrix of the errors is correctly specified.\n",
       "\"\"\""
      ]
     },
     "execution_count": 11,
     "metadata": {},
     "output_type": "execute_result"
    }
   ],
   "source": [
    "X = sm.add_constant(X)\n",
    "results = sm.OLS(Y,X).fit()\n",
    "results.summary()"
   ]
  },
  {
   "cell_type": "code",
   "execution_count": 12,
   "metadata": {},
   "outputs": [
    {
     "data": {
      "text/plain": [
       "count    96453.000000\n",
       "mean         0.734899\n",
       "std          0.195473\n",
       "min          0.000000\n",
       "25%          0.600000\n",
       "50%          0.780000\n",
       "75%          0.890000\n",
       "max          1.000000\n",
       "Name: Humidity, dtype: float64"
      ]
     },
     "execution_count": 12,
     "metadata": {},
     "output_type": "execute_result"
    }
   ],
   "source": [
    "# Coefficents -> Significant\n",
    "# Normal coefficents are changed in this case.\n",
    "\n",
    "X[\"Humidity\"].describe()"
   ]
  },
  {
   "cell_type": "code",
   "execution_count": 13,
   "metadata": {},
   "outputs": [
    {
     "data": {
      "text/plain": [
       "count    96453.000000\n",
       "mean        10.810640\n",
       "std          6.913571\n",
       "min          0.000000\n",
       "25%          5.828200\n",
       "50%          9.965900\n",
       "75%         14.135800\n",
       "max         63.852600\n",
       "Name: Wind Speed (km/h), dtype: float64"
      ]
     },
     "execution_count": 13,
     "metadata": {},
     "output_type": "execute_result"
    }
   ],
   "source": [
    "X[\"Wind Speed (km/h)\"].describe()"
   ]
  },
  {
   "cell_type": "code",
   "execution_count": 14,
   "metadata": {},
   "outputs": [
    {
     "data": {
      "text/plain": [
       "count    96453.000000\n",
       "mean         7.640729\n",
       "std          5.034842\n",
       "min          0.000000\n",
       "25%          3.820852\n",
       "50%          6.701464\n",
       "75%         10.213840\n",
       "max         43.346835\n",
       "Name: Humidity_Wind_speed, dtype: float64"
      ]
     },
     "execution_count": 14,
     "metadata": {},
     "output_type": "execute_result"
    }
   ],
   "source": [
    "X[\"Humidity_Wind_speed\"].describe()"
   ]
  },
  {
   "cell_type": "markdown",
   "metadata": {},
   "source": [
    "When we product the coefficents and feature max values. We can see that Humidity_Wind_speed have the biggest impact on the target value."
   ]
  },
  {
   "cell_type": "markdown",
   "metadata": {},
   "source": [
    "**3. House prices model**"
   ]
  },
  {
   "cell_type": "markdown",
   "metadata": {},
   "source": [
    "* Load the houseprices data from Kaggle.\n",
    "* Run your house prices model again and interpret the results. Which features are statistically significant and which are not?\n",
    "* Now, exclude the insignificant features from your model. Did anything change?\n",
    "* Interpret the statistically significant coefficients by quantifying their relations with the house prices. Which features have more prominent effect on the house prices?\n",
    "* Do the results sound reasonable to you? If not, try to explain the potential reasons."
   ]
  },
  {
   "cell_type": "code",
   "execution_count": 37,
   "metadata": {},
   "outputs": [
    {
     "data": {
      "text/plain": [
       "MSSubClass        0.000000\n",
       "LotFrontage      17.739726\n",
       "LotArea           0.000000\n",
       "OverallQual       0.000000\n",
       "OverallCond       0.000000\n",
       "YearBuilt         0.000000\n",
       "YearRemodAdd      0.000000\n",
       "MasVnrArea        0.547945\n",
       "BsmtFinSF1        0.000000\n",
       "BsmtFinSF2        0.000000\n",
       "BsmtUnfSF         0.000000\n",
       "TotalBsmtSF       0.000000\n",
       "1stFlrSF          0.000000\n",
       "2ndFlrSF          0.000000\n",
       "LowQualFinSF      0.000000\n",
       "GrLivArea         0.000000\n",
       "BsmtFullBath      0.000000\n",
       "BsmtHalfBath      0.000000\n",
       "FullBath          0.000000\n",
       "HalfBath          0.000000\n",
       "BedroomAbvGr      0.000000\n",
       "KitchenAbvGr      0.000000\n",
       "TotRmsAbvGrd      0.000000\n",
       "Fireplaces        0.000000\n",
       "GarageYrBlt       5.547945\n",
       "GarageCars        0.000000\n",
       "GarageArea        0.000000\n",
       "WoodDeckSF        0.000000\n",
       "OpenPorchSF       0.000000\n",
       "EnclosedPorch     0.000000\n",
       "3SsnPorch         0.000000\n",
       "ScreenPorch       0.000000\n",
       "PoolArea          0.000000\n",
       "MiscVal           0.000000\n",
       "MoSold            0.000000\n",
       "YrSold            0.000000\n",
       "SalePrice         0.000000\n",
       "dtype: float64"
      ]
     },
     "execution_count": 37,
     "metadata": {},
     "output_type": "execute_result"
    }
   ],
   "source": [
    "house_prices = pd.read_csv(\"data/houseprices.csv\")\n",
    "house = house_prices.select_dtypes(exclude='object')\n",
    "house.isnull().sum()*100/house.shape[0]"
   ]
  },
  {
   "cell_type": "code",
   "execution_count": 44,
   "metadata": {},
   "outputs": [],
   "source": [
    "X = house[[x for x in house.columns if x not in [\"LotFrontage\",\"SalePrice\",\"GarageYrBlt\",\"MasVnrArea\"]]]\n",
    "\n",
    "Y = house[\"SalePrice\"]"
   ]
  },
  {
   "cell_type": "code",
   "execution_count": 45,
   "metadata": {},
   "outputs": [],
   "source": [
    "from sklearn.model_selection import train_test_split\n",
    "X_train, X_test, y_train, y_test = train_test_split(X, Y, test_size=0.20, random_state=42)"
   ]
  },
  {
   "cell_type": "code",
   "execution_count": 47,
   "metadata": {},
   "outputs": [
    {
     "name": "stdout",
     "output_type": "stream",
     "text": [
      "Coefficents : [-1.75548690e+02  4.09174234e-01  1.84955503e+04  3.83573710e+03\n",
      "  3.37312908e+02  1.80209917e+02  1.00461555e+01 -4.61607099e+00\n",
      "  3.82786747e-01  5.81287122e+00  1.31240039e+01  1.42134340e+01\n",
      "  4.50422890e+00  3.18416668e+01  1.10492803e+04 -3.26518493e+02\n",
      "  3.42606130e+03 -1.66531509e+03 -9.08810085e+03 -1.00971990e+04\n",
      "  5.10100134e+03  4.37021557e+03  1.16074917e+04  5.58607730e-01\n",
      "  2.55639049e+01 -6.62562003e+00  7.06908781e+00  3.85262374e+01\n",
      "  6.55989735e+01 -3.73443286e+01 -7.15692563e-01 -2.09433750e+02\n",
      " -5.14524004e+02]\n",
      "Intercept : -48411.54387291285\n"
     ]
    }
   ],
   "source": [
    "model = linear_model.LinearRegression()\n",
    "model.fit(X_train,y_train)\n",
    "\n",
    "print(\"Coefficents : {}\".format(model.coef_))\n",
    "print(\"Intercept : {}\".format(model.intercept_))"
   ]
  },
  {
   "cell_type": "code",
   "execution_count": 48,
   "metadata": {},
   "outputs": [
    {
     "data": {
      "text/html": [
       "<table class=\"simpletable\">\n",
       "<caption>OLS Regression Results</caption>\n",
       "<tr>\n",
       "  <th>Dep. Variable:</th>        <td>SalePrice</td>    <th>  R-squared:         </th> <td>   0.866</td>\n",
       "</tr>\n",
       "<tr>\n",
       "  <th>Model:</th>                   <td>OLS</td>       <th>  Adj. R-squared:    </th> <td>   0.850</td>\n",
       "</tr>\n",
       "<tr>\n",
       "  <th>Method:</th>             <td>Least Squares</td>  <th>  F-statistic:       </th> <td>   54.04</td>\n",
       "</tr>\n",
       "<tr>\n",
       "  <th>Date:</th>             <td>Thu, 17 Sep 2020</td> <th>  Prob (F-statistic):</th> <td>1.83e-95</td>\n",
       "</tr>\n",
       "<tr>\n",
       "  <th>Time:</th>                 <td>15:10:47</td>     <th>  Log-Likelihood:    </th> <td> -3444.3</td>\n",
       "</tr>\n",
       "<tr>\n",
       "  <th>No. Observations:</th>      <td>   292</td>      <th>  AIC:               </th> <td>   6953.</td>\n",
       "</tr>\n",
       "<tr>\n",
       "  <th>Df Residuals:</th>          <td>   260</td>      <th>  BIC:               </th> <td>   7070.</td>\n",
       "</tr>\n",
       "<tr>\n",
       "  <th>Df Model:</th>              <td>    31</td>      <th>                     </th>     <td> </td>   \n",
       "</tr>\n",
       "<tr>\n",
       "  <th>Covariance Type:</th>      <td>nonrobust</td>    <th>                     </th>     <td> </td>   \n",
       "</tr>\n",
       "</table>\n",
       "<table class=\"simpletable\">\n",
       "<tr>\n",
       "        <td></td>           <th>coef</th>     <th>std err</th>      <th>t</th>      <th>P>|t|</th>  <th>[0.025</th>    <th>0.975]</th>  \n",
       "</tr>\n",
       "<tr>\n",
       "  <th>const</th>         <td>  4.32e+05</td> <td> 3.16e+06</td> <td>    0.137</td> <td> 0.891</td> <td> -5.8e+06</td> <td> 6.66e+06</td>\n",
       "</tr>\n",
       "<tr>\n",
       "  <th>MSSubClass</th>    <td>  -90.3671</td> <td>   60.490</td> <td>   -1.494</td> <td> 0.136</td> <td> -209.479</td> <td>   28.745</td>\n",
       "</tr>\n",
       "<tr>\n",
       "  <th>LotArea</th>       <td>    0.8979</td> <td>    0.403</td> <td>    2.230</td> <td> 0.027</td> <td>    0.105</td> <td>    1.691</td>\n",
       "</tr>\n",
       "<tr>\n",
       "  <th>OverallQual</th>   <td> 1.392e+04</td> <td> 2801.257</td> <td>    4.970</td> <td> 0.000</td> <td> 8406.883</td> <td> 1.94e+04</td>\n",
       "</tr>\n",
       "<tr>\n",
       "  <th>OverallCond</th>   <td> 7562.2941</td> <td> 2367.198</td> <td>    3.195</td> <td> 0.002</td> <td> 2900.973</td> <td> 1.22e+04</td>\n",
       "</tr>\n",
       "<tr>\n",
       "  <th>YearBuilt</th>     <td>  271.1093</td> <td>  147.505</td> <td>    1.838</td> <td> 0.067</td> <td>  -19.348</td> <td>  561.566</td>\n",
       "</tr>\n",
       "<tr>\n",
       "  <th>YearRemodAdd</th>  <td>    0.1949</td> <td>  157.715</td> <td>    0.001</td> <td> 0.999</td> <td> -310.366</td> <td>  310.756</td>\n",
       "</tr>\n",
       "<tr>\n",
       "  <th>BsmtFinSF1</th>    <td>   22.8507</td> <td>    5.732</td> <td>    3.987</td> <td> 0.000</td> <td>   11.564</td> <td>   34.137</td>\n",
       "</tr>\n",
       "<tr>\n",
       "  <th>BsmtFinSF2</th>    <td>    5.7991</td> <td>    9.443</td> <td>    0.614</td> <td> 0.540</td> <td>  -12.796</td> <td>   24.394</td>\n",
       "</tr>\n",
       "<tr>\n",
       "  <th>BsmtUnfSF</th>     <td>    0.3119</td> <td>    5.198</td> <td>    0.060</td> <td> 0.952</td> <td>   -9.924</td> <td>   10.548</td>\n",
       "</tr>\n",
       "<tr>\n",
       "  <th>TotalBsmtSF</th>   <td>   28.9617</td> <td>    7.226</td> <td>    4.008</td> <td> 0.000</td> <td>   14.732</td> <td>   43.191</td>\n",
       "</tr>\n",
       "<tr>\n",
       "  <th>1stFlrSF</th>      <td>   50.7316</td> <td>   13.410</td> <td>    3.783</td> <td> 0.000</td> <td>   24.325</td> <td>   77.138</td>\n",
       "</tr>\n",
       "<tr>\n",
       "  <th>2ndFlrSF</th>      <td>   44.1333</td> <td>   12.616</td> <td>    3.498</td> <td> 0.001</td> <td>   19.290</td> <td>   68.976</td>\n",
       "</tr>\n",
       "<tr>\n",
       "  <th>LowQualFinSF</th>  <td>  -63.4709</td> <td>   32.580</td> <td>   -1.948</td> <td> 0.052</td> <td> -127.626</td> <td>    0.684</td>\n",
       "</tr>\n",
       "<tr>\n",
       "  <th>GrLivArea</th>     <td>   31.3940</td> <td>   12.640</td> <td>    2.484</td> <td> 0.014</td> <td>    6.505</td> <td>   56.283</td>\n",
       "</tr>\n",
       "<tr>\n",
       "  <th>BsmtFullBath</th>  <td>-9932.6861</td> <td> 6126.607</td> <td>   -1.621</td> <td> 0.106</td> <td> -2.2e+04</td> <td> 2131.399</td>\n",
       "</tr>\n",
       "<tr>\n",
       "  <th>BsmtHalfBath</th>  <td> 5540.7283</td> <td> 8857.934</td> <td>    0.626</td> <td> 0.532</td> <td>-1.19e+04</td> <td>  2.3e+04</td>\n",
       "</tr>\n",
       "<tr>\n",
       "  <th>FullBath</th>      <td> 4900.2409</td> <td> 6315.559</td> <td>    0.776</td> <td> 0.439</td> <td>-7535.915</td> <td> 1.73e+04</td>\n",
       "</tr>\n",
       "<tr>\n",
       "  <th>HalfBath</th>      <td>  399.9268</td> <td> 6191.803</td> <td>    0.065</td> <td> 0.949</td> <td>-1.18e+04</td> <td> 1.26e+04</td>\n",
       "</tr>\n",
       "<tr>\n",
       "  <th>BedroomAbvGr</th>  <td>-1.727e+04</td> <td> 3556.616</td> <td>   -4.856</td> <td> 0.000</td> <td>-2.43e+04</td> <td>-1.03e+04</td>\n",
       "</tr>\n",
       "<tr>\n",
       "  <th>KitchenAbvGr</th>  <td>-2.072e+04</td> <td> 1.28e+04</td> <td>   -1.624</td> <td> 0.106</td> <td>-4.58e+04</td> <td> 4405.795</td>\n",
       "</tr>\n",
       "<tr>\n",
       "  <th>TotRmsAbvGrd</th>  <td> 3021.1555</td> <td> 2670.327</td> <td>    1.131</td> <td> 0.259</td> <td>-2237.065</td> <td> 8279.376</td>\n",
       "</tr>\n",
       "<tr>\n",
       "  <th>Fireplaces</th>    <td>-2423.8765</td> <td> 4062.648</td> <td>   -0.597</td> <td> 0.551</td> <td>-1.04e+04</td> <td> 5576.006</td>\n",
       "</tr>\n",
       "<tr>\n",
       "  <th>GarageCars</th>    <td>  1.11e+04</td> <td> 6271.765</td> <td>    1.770</td> <td> 0.078</td> <td>-1249.130</td> <td> 2.35e+04</td>\n",
       "</tr>\n",
       "<tr>\n",
       "  <th>GarageArea</th>    <td>   -5.4155</td> <td>   20.731</td> <td>   -0.261</td> <td> 0.794</td> <td>  -46.237</td> <td>   35.406</td>\n",
       "</tr>\n",
       "<tr>\n",
       "  <th>WoodDeckSF</th>    <td>   55.2175</td> <td>   21.317</td> <td>    2.590</td> <td> 0.010</td> <td>   13.242</td> <td>   97.194</td>\n",
       "</tr>\n",
       "<tr>\n",
       "  <th>OpenPorchSF</th>   <td>   69.5084</td> <td>   46.325</td> <td>    1.500</td> <td> 0.135</td> <td>  -21.712</td> <td>  160.729</td>\n",
       "</tr>\n",
       "<tr>\n",
       "  <th>EnclosedPorch</th> <td>  -23.5603</td> <td>   40.525</td> <td>   -0.581</td> <td> 0.561</td> <td> -103.359</td> <td>   56.239</td>\n",
       "</tr>\n",
       "<tr>\n",
       "  <th>3SsnPorch</th>     <td> -212.2752</td> <td>  114.679</td> <td>   -1.851</td> <td> 0.065</td> <td> -438.094</td> <td>   13.543</td>\n",
       "</tr>\n",
       "<tr>\n",
       "  <th>ScreenPorch</th>   <td>   25.8486</td> <td>   38.777</td> <td>    0.667</td> <td> 0.506</td> <td>  -50.509</td> <td>  102.206</td>\n",
       "</tr>\n",
       "<tr>\n",
       "  <th>PoolArea</th>      <td>   49.2722</td> <td>   60.560</td> <td>    0.814</td> <td> 0.417</td> <td>  -69.979</td> <td>  168.523</td>\n",
       "</tr>\n",
       "<tr>\n",
       "  <th>MiscVal</th>       <td>   11.6799</td> <td>   27.792</td> <td>    0.420</td> <td> 0.675</td> <td>  -43.046</td> <td>   66.406</td>\n",
       "</tr>\n",
       "<tr>\n",
       "  <th>MoSold</th>        <td>  912.7795</td> <td>  754.763</td> <td>    1.209</td> <td> 0.228</td> <td> -573.447</td> <td> 2399.006</td>\n",
       "</tr>\n",
       "<tr>\n",
       "  <th>YrSold</th>        <td> -526.3356</td> <td> 1570.760</td> <td>   -0.335</td> <td> 0.738</td> <td>-3619.367</td> <td> 2566.696</td>\n",
       "</tr>\n",
       "</table>\n",
       "<table class=\"simpletable\">\n",
       "<tr>\n",
       "  <th>Omnibus:</th>       <td>130.967</td> <th>  Durbin-Watson:     </th> <td>   2.020</td> \n",
       "</tr>\n",
       "<tr>\n",
       "  <th>Prob(Omnibus):</th> <td> 0.000</td>  <th>  Jarque-Bera (JB):  </th> <td>1259.031</td> \n",
       "</tr>\n",
       "<tr>\n",
       "  <th>Skew:</th>          <td> 1.558</td>  <th>  Prob(JB):          </th> <td>4.03e-274</td>\n",
       "</tr>\n",
       "<tr>\n",
       "  <th>Kurtosis:</th>      <td>12.684</td>  <th>  Cond. No.          </th> <td>1.13e+16</td> \n",
       "</tr>\n",
       "</table><br/><br/>Warnings:<br/>[1] Standard Errors assume that the covariance matrix of the errors is correctly specified.<br/>[2] The smallest eigenvalue is 3.32e-22. This might indicate that there are<br/>strong multicollinearity problems or that the design matrix is singular."
      ],
      "text/plain": [
       "<class 'statsmodels.iolib.summary.Summary'>\n",
       "\"\"\"\n",
       "                            OLS Regression Results                            \n",
       "==============================================================================\n",
       "Dep. Variable:              SalePrice   R-squared:                       0.866\n",
       "Model:                            OLS   Adj. R-squared:                  0.850\n",
       "Method:                 Least Squares   F-statistic:                     54.04\n",
       "Date:                Thu, 17 Sep 2020   Prob (F-statistic):           1.83e-95\n",
       "Time:                        15:10:47   Log-Likelihood:                -3444.3\n",
       "No. Observations:                 292   AIC:                             6953.\n",
       "Df Residuals:                     260   BIC:                             7070.\n",
       "Df Model:                          31                                         \n",
       "Covariance Type:            nonrobust                                         \n",
       "=================================================================================\n",
       "                    coef    std err          t      P>|t|      [0.025      0.975]\n",
       "---------------------------------------------------------------------------------\n",
       "const           4.32e+05   3.16e+06      0.137      0.891    -5.8e+06    6.66e+06\n",
       "MSSubClass      -90.3671     60.490     -1.494      0.136    -209.479      28.745\n",
       "LotArea           0.8979      0.403      2.230      0.027       0.105       1.691\n",
       "OverallQual    1.392e+04   2801.257      4.970      0.000    8406.883    1.94e+04\n",
       "OverallCond    7562.2941   2367.198      3.195      0.002    2900.973    1.22e+04\n",
       "YearBuilt       271.1093    147.505      1.838      0.067     -19.348     561.566\n",
       "YearRemodAdd      0.1949    157.715      0.001      0.999    -310.366     310.756\n",
       "BsmtFinSF1       22.8507      5.732      3.987      0.000      11.564      34.137\n",
       "BsmtFinSF2        5.7991      9.443      0.614      0.540     -12.796      24.394\n",
       "BsmtUnfSF         0.3119      5.198      0.060      0.952      -9.924      10.548\n",
       "TotalBsmtSF      28.9617      7.226      4.008      0.000      14.732      43.191\n",
       "1stFlrSF         50.7316     13.410      3.783      0.000      24.325      77.138\n",
       "2ndFlrSF         44.1333     12.616      3.498      0.001      19.290      68.976\n",
       "LowQualFinSF    -63.4709     32.580     -1.948      0.052    -127.626       0.684\n",
       "GrLivArea        31.3940     12.640      2.484      0.014       6.505      56.283\n",
       "BsmtFullBath  -9932.6861   6126.607     -1.621      0.106    -2.2e+04    2131.399\n",
       "BsmtHalfBath   5540.7283   8857.934      0.626      0.532   -1.19e+04     2.3e+04\n",
       "FullBath       4900.2409   6315.559      0.776      0.439   -7535.915    1.73e+04\n",
       "HalfBath        399.9268   6191.803      0.065      0.949   -1.18e+04    1.26e+04\n",
       "BedroomAbvGr  -1.727e+04   3556.616     -4.856      0.000   -2.43e+04   -1.03e+04\n",
       "KitchenAbvGr  -2.072e+04   1.28e+04     -1.624      0.106   -4.58e+04    4405.795\n",
       "TotRmsAbvGrd   3021.1555   2670.327      1.131      0.259   -2237.065    8279.376\n",
       "Fireplaces    -2423.8765   4062.648     -0.597      0.551   -1.04e+04    5576.006\n",
       "GarageCars      1.11e+04   6271.765      1.770      0.078   -1249.130    2.35e+04\n",
       "GarageArea       -5.4155     20.731     -0.261      0.794     -46.237      35.406\n",
       "WoodDeckSF       55.2175     21.317      2.590      0.010      13.242      97.194\n",
       "OpenPorchSF      69.5084     46.325      1.500      0.135     -21.712     160.729\n",
       "EnclosedPorch   -23.5603     40.525     -0.581      0.561    -103.359      56.239\n",
       "3SsnPorch      -212.2752    114.679     -1.851      0.065    -438.094      13.543\n",
       "ScreenPorch      25.8486     38.777      0.667      0.506     -50.509     102.206\n",
       "PoolArea         49.2722     60.560      0.814      0.417     -69.979     168.523\n",
       "MiscVal          11.6799     27.792      0.420      0.675     -43.046      66.406\n",
       "MoSold          912.7795    754.763      1.209      0.228    -573.447    2399.006\n",
       "YrSold         -526.3356   1570.760     -0.335      0.738   -3619.367    2566.696\n",
       "==============================================================================\n",
       "Omnibus:                      130.967   Durbin-Watson:                   2.020\n",
       "Prob(Omnibus):                  0.000   Jarque-Bera (JB):             1259.031\n",
       "Skew:                           1.558   Prob(JB):                    4.03e-274\n",
       "Kurtosis:                      12.684   Cond. No.                     1.13e+16\n",
       "==============================================================================\n",
       "\n",
       "Warnings:\n",
       "[1] Standard Errors assume that the covariance matrix of the errors is correctly specified.\n",
       "[2] The smallest eigenvalue is 3.32e-22. This might indicate that there are\n",
       "strong multicollinearity problems or that the design matrix is singular.\n",
       "\"\"\""
      ]
     },
     "execution_count": 48,
     "metadata": {},
     "output_type": "execute_result"
    }
   ],
   "source": [
    "X_test = sm.add_constant(X_test)\n",
    "results = sm.OLS(y_test,X_test).fit()\n",
    "results.summary()"
   ]
  },
  {
   "cell_type": "markdown",
   "metadata": {},
   "source": [
    "**Significant Variables :** <br>\n",
    "MSSubClass, LotArea , OverallQual, OverallCond, YearBuilt, BsmtFinSF1, TotalBsmtSF ,<br>\n",
    "1stFlrSF, 2ndFlrSF, LowQualFinSF, GrLivArea , BedroomAbvGr, GarageCars, WoodDeckSF"
   ]
  },
  {
   "cell_type": "code",
   "execution_count": 50,
   "metadata": {},
   "outputs": [],
   "source": [
    "X = house[[\"MSSubClass\", \"LotArea\" , \"OverallQual\", \"OverallCond\", \"YearBuilt\", \"BsmtFinSF1\", \"TotalBsmtSF\",\"1stFlrSF\", \"2ndFlrSF\", \"LowQualFinSF\", \"GrLivArea\" , \"BedroomAbvGr\",\"GarageCars\",\"WoodDeckSF\"]]\n",
    "\n",
    "Y = house[\"SalePrice\"]"
   ]
  },
  {
   "cell_type": "code",
   "execution_count": 51,
   "metadata": {},
   "outputs": [],
   "source": [
    "from sklearn.model_selection import train_test_split\n",
    "X_train, X_test, y_train, y_test = train_test_split(X, Y, test_size=0.20, random_state=42)"
   ]
  },
  {
   "cell_type": "code",
   "execution_count": 52,
   "metadata": {},
   "outputs": [
    {
     "name": "stdout",
     "output_type": "stream",
     "text": [
      "Coefficents : [-1.81745818e+02  4.59216953e-01  2.03977445e+04  4.88623602e+03\n",
      "  4.06772811e+02  1.64385879e+01  3.16228998e+00  1.65382383e+01\n",
      "  1.41905365e+01  1.16379198e+01  4.23666946e+01 -6.39007249e+03\n",
      "  1.30755258e+04  2.66871646e+01]\n",
      "Intercept : -874218.2486846152\n"
     ]
    }
   ],
   "source": [
    "model = linear_model.LinearRegression()\n",
    "model.fit(X_train,y_train)\n",
    "\n",
    "print(\"Coefficents : {}\".format(model.coef_))\n",
    "print(\"Intercept : {}\".format(model.intercept_))"
   ]
  },
  {
   "cell_type": "code",
   "execution_count": 53,
   "metadata": {},
   "outputs": [
    {
     "data": {
      "text/html": [
       "<table class=\"simpletable\">\n",
       "<caption>OLS Regression Results</caption>\n",
       "<tr>\n",
       "  <th>Dep. Variable:</th>        <td>SalePrice</td>    <th>  R-squared:         </th> <td>   0.857</td> \n",
       "</tr>\n",
       "<tr>\n",
       "  <th>Model:</th>                   <td>OLS</td>       <th>  Adj. R-squared:    </th> <td>   0.850</td> \n",
       "</tr>\n",
       "<tr>\n",
       "  <th>Method:</th>             <td>Least Squares</td>  <th>  F-statistic:       </th> <td>   127.9</td> \n",
       "</tr>\n",
       "<tr>\n",
       "  <th>Date:</th>             <td>Thu, 17 Sep 2020</td> <th>  Prob (F-statistic):</th> <td>5.34e-109</td>\n",
       "</tr>\n",
       "<tr>\n",
       "  <th>Time:</th>                 <td>15:53:04</td>     <th>  Log-Likelihood:    </th> <td> -3453.7</td> \n",
       "</tr>\n",
       "<tr>\n",
       "  <th>No. Observations:</th>      <td>   292</td>      <th>  AIC:               </th> <td>   6935.</td> \n",
       "</tr>\n",
       "<tr>\n",
       "  <th>Df Residuals:</th>          <td>   278</td>      <th>  BIC:               </th> <td>   6987.</td> \n",
       "</tr>\n",
       "<tr>\n",
       "  <th>Df Model:</th>              <td>    13</td>      <th>                     </th>     <td> </td>    \n",
       "</tr>\n",
       "<tr>\n",
       "  <th>Covariance Type:</th>      <td>nonrobust</td>    <th>                     </th>     <td> </td>    \n",
       "</tr>\n",
       "</table>\n",
       "<table class=\"simpletable\">\n",
       "<tr>\n",
       "        <td></td>          <th>coef</th>     <th>std err</th>      <th>t</th>      <th>P>|t|</th>  <th>[0.025</th>    <th>0.975]</th>  \n",
       "</tr>\n",
       "<tr>\n",
       "  <th>const</th>        <td>-6.892e+05</td> <td> 2.11e+05</td> <td>   -3.260</td> <td> 0.001</td> <td>-1.11e+06</td> <td>-2.73e+05</td>\n",
       "</tr>\n",
       "<tr>\n",
       "  <th>MSSubClass</th>   <td> -127.0121</td> <td>   57.013</td> <td>   -2.228</td> <td> 0.027</td> <td> -239.245</td> <td>  -14.779</td>\n",
       "</tr>\n",
       "<tr>\n",
       "  <th>LotArea</th>      <td>    0.7917</td> <td>    0.386</td> <td>    2.050</td> <td> 0.041</td> <td>    0.031</td> <td>    1.552</td>\n",
       "</tr>\n",
       "<tr>\n",
       "  <th>OverallQual</th>  <td> 1.607e+04</td> <td> 2540.140</td> <td>    6.325</td> <td> 0.000</td> <td> 1.11e+04</td> <td> 2.11e+04</td>\n",
       "</tr>\n",
       "<tr>\n",
       "  <th>OverallCond</th>  <td> 7586.2815</td> <td> 2019.412</td> <td>    3.757</td> <td> 0.000</td> <td> 3611.000</td> <td> 1.16e+04</td>\n",
       "</tr>\n",
       "<tr>\n",
       "  <th>YearBuilt</th>    <td>  296.7584</td> <td>  108.883</td> <td>    2.725</td> <td> 0.007</td> <td>   82.419</td> <td>  511.098</td>\n",
       "</tr>\n",
       "<tr>\n",
       "  <th>BsmtFinSF1</th>   <td>   15.1313</td> <td>    5.752</td> <td>    2.631</td> <td> 0.009</td> <td>    3.808</td> <td>   26.454</td>\n",
       "</tr>\n",
       "<tr>\n",
       "  <th>TotalBsmtSF</th>  <td>   33.0413</td> <td>    8.365</td> <td>    3.950</td> <td> 0.000</td> <td>   16.575</td> <td>   49.507</td>\n",
       "</tr>\n",
       "<tr>\n",
       "  <th>1stFlrSF</th>     <td>   42.9968</td> <td>   12.206</td> <td>    3.523</td> <td> 0.000</td> <td>   18.969</td> <td>   67.025</td>\n",
       "</tr>\n",
       "<tr>\n",
       "  <th>2ndFlrSF</th>     <td>   43.6313</td> <td>   11.331</td> <td>    3.851</td> <td> 0.000</td> <td>   21.326</td> <td>   65.937</td>\n",
       "</tr>\n",
       "<tr>\n",
       "  <th>LowQualFinSF</th> <td>  -47.0596</td> <td>   30.647</td> <td>   -1.536</td> <td> 0.126</td> <td> -107.389</td> <td>   13.270</td>\n",
       "</tr>\n",
       "<tr>\n",
       "  <th>GrLivArea</th>    <td>   39.5685</td> <td>   10.784</td> <td>    3.669</td> <td> 0.000</td> <td>   18.340</td> <td>   60.797</td>\n",
       "</tr>\n",
       "<tr>\n",
       "  <th>BedroomAbvGr</th> <td>-1.449e+04</td> <td> 3114.031</td> <td>   -4.653</td> <td> 0.000</td> <td>-2.06e+04</td> <td>-8358.820</td>\n",
       "</tr>\n",
       "<tr>\n",
       "  <th>GarageCars</th>   <td> 1.042e+04</td> <td> 3761.105</td> <td>    2.770</td> <td> 0.006</td> <td> 3013.537</td> <td> 1.78e+04</td>\n",
       "</tr>\n",
       "<tr>\n",
       "  <th>WoodDeckSF</th>   <td>   48.4558</td> <td>   20.262</td> <td>    2.391</td> <td> 0.017</td> <td>    8.569</td> <td>   88.343</td>\n",
       "</tr>\n",
       "</table>\n",
       "<table class=\"simpletable\">\n",
       "<tr>\n",
       "  <th>Omnibus:</th>       <td>136.573</td> <th>  Durbin-Watson:     </th> <td>   2.037</td> \n",
       "</tr>\n",
       "<tr>\n",
       "  <th>Prob(Omnibus):</th> <td> 0.000</td>  <th>  Jarque-Bera (JB):  </th> <td>1356.140</td> \n",
       "</tr>\n",
       "<tr>\n",
       "  <th>Skew:</th>          <td> 1.634</td>  <th>  Prob(JB):          </th> <td>3.30e-295</td>\n",
       "</tr>\n",
       "<tr>\n",
       "  <th>Kurtosis:</th>      <td>13.039</td>  <th>  Cond. No.          </th> <td>1.17e+17</td> \n",
       "</tr>\n",
       "</table><br/><br/>Warnings:<br/>[1] Standard Errors assume that the covariance matrix of the errors is correctly specified.<br/>[2] The smallest eigenvalue is 2.94e-24. This might indicate that there are<br/>strong multicollinearity problems or that the design matrix is singular."
      ],
      "text/plain": [
       "<class 'statsmodels.iolib.summary.Summary'>\n",
       "\"\"\"\n",
       "                            OLS Regression Results                            \n",
       "==============================================================================\n",
       "Dep. Variable:              SalePrice   R-squared:                       0.857\n",
       "Model:                            OLS   Adj. R-squared:                  0.850\n",
       "Method:                 Least Squares   F-statistic:                     127.9\n",
       "Date:                Thu, 17 Sep 2020   Prob (F-statistic):          5.34e-109\n",
       "Time:                        15:53:04   Log-Likelihood:                -3453.7\n",
       "No. Observations:                 292   AIC:                             6935.\n",
       "Df Residuals:                     278   BIC:                             6987.\n",
       "Df Model:                          13                                         \n",
       "Covariance Type:            nonrobust                                         \n",
       "================================================================================\n",
       "                   coef    std err          t      P>|t|      [0.025      0.975]\n",
       "--------------------------------------------------------------------------------\n",
       "const        -6.892e+05   2.11e+05     -3.260      0.001   -1.11e+06   -2.73e+05\n",
       "MSSubClass    -127.0121     57.013     -2.228      0.027    -239.245     -14.779\n",
       "LotArea          0.7917      0.386      2.050      0.041       0.031       1.552\n",
       "OverallQual   1.607e+04   2540.140      6.325      0.000    1.11e+04    2.11e+04\n",
       "OverallCond   7586.2815   2019.412      3.757      0.000    3611.000    1.16e+04\n",
       "YearBuilt      296.7584    108.883      2.725      0.007      82.419     511.098\n",
       "BsmtFinSF1      15.1313      5.752      2.631      0.009       3.808      26.454\n",
       "TotalBsmtSF     33.0413      8.365      3.950      0.000      16.575      49.507\n",
       "1stFlrSF        42.9968     12.206      3.523      0.000      18.969      67.025\n",
       "2ndFlrSF        43.6313     11.331      3.851      0.000      21.326      65.937\n",
       "LowQualFinSF   -47.0596     30.647     -1.536      0.126    -107.389      13.270\n",
       "GrLivArea       39.5685     10.784      3.669      0.000      18.340      60.797\n",
       "BedroomAbvGr -1.449e+04   3114.031     -4.653      0.000   -2.06e+04   -8358.820\n",
       "GarageCars    1.042e+04   3761.105      2.770      0.006    3013.537    1.78e+04\n",
       "WoodDeckSF      48.4558     20.262      2.391      0.017       8.569      88.343\n",
       "==============================================================================\n",
       "Omnibus:                      136.573   Durbin-Watson:                   2.037\n",
       "Prob(Omnibus):                  0.000   Jarque-Bera (JB):             1356.140\n",
       "Skew:                           1.634   Prob(JB):                    3.30e-295\n",
       "Kurtosis:                      13.039   Cond. No.                     1.17e+17\n",
       "==============================================================================\n",
       "\n",
       "Warnings:\n",
       "[1] Standard Errors assume that the covariance matrix of the errors is correctly specified.\n",
       "[2] The smallest eigenvalue is 2.94e-24. This might indicate that there are\n",
       "strong multicollinearity problems or that the design matrix is singular.\n",
       "\"\"\""
      ]
     },
     "execution_count": 53,
     "metadata": {},
     "output_type": "execute_result"
    }
   ],
   "source": [
    "X_test = sm.add_constant(X_test)\n",
    "results = sm.OLS(y_test,X_test).fit()\n",
    "results.summary()"
   ]
  },
  {
   "cell_type": "markdown",
   "metadata": {},
   "source": [
    "* *There are changes in P-Values, some variables are decreased, others increased. There is no certain change in p-values.*"
   ]
  },
  {
   "cell_type": "markdown",
   "metadata": {},
   "source": [
    "**Interpretion**"
   ]
  },
  {
   "cell_type": "code",
   "execution_count": 54,
   "metadata": {},
   "outputs": [
    {
     "data": {
      "text/plain": [
       "Index(['MSSubClass', 'LotArea', 'OverallQual', 'OverallCond', 'YearBuilt',\n",
       "       'BsmtFinSF1', 'TotalBsmtSF', '1stFlrSF', '2ndFlrSF', 'LowQualFinSF',\n",
       "       'GrLivArea', 'BedroomAbvGr', 'GarageCars', 'WoodDeckSF'],\n",
       "      dtype='object')"
      ]
     },
     "execution_count": 54,
     "metadata": {},
     "output_type": "execute_result"
    }
   ],
   "source": [
    "X.columns"
   ]
  },
  {
   "cell_type": "code",
   "execution_count": 61,
   "metadata": {},
   "outputs": [
    {
     "name": "stdout",
     "output_type": "stream",
     "text": [
      "y = -874218.25 + -181.75 MSSubClass + 0.46LotArea + 20397.74 OverallQual + 4886.24 OverallCond \n",
      "+ 406.77 YearBuilt + 16.44 BsmtFinSF1 + 3.16 TotalBsmtSF + 16.54 1stFlrSF\n",
      " + 14.19 2ndFlrSF + 11.64 LowQualFinSF + 42.37 GrLivArea\n",
      " + -6390.07 BedroomAbvGr + 13075.53 GarageCars + 26.69 WoodDeckSF\n"
     ]
    }
   ],
   "source": [
    "print(\"y = {:.2f} + {:.2f} {} + {:.2f}{} + {:.2f} {} + {:.2f} {} \\n+ {:.2f} {} + {:.2f} {} + {:.2f} {} + {:.2f} {}\\n + {:.2f} {} + {:.2f} {} + {:.2f} {}\\n + {:.2f} {} + {:.2f} {} + {:.2f} {}\".format(model.intercept_, model.coef_[0],X.columns[0], model.coef_[1],X.columns[1], model.coef_[2],X.columns[2], model.coef_[3],X.columns[3], model.coef_[4],X.columns[4], model.coef_[5],X.columns[5], model.coef_[6],X.columns[6], model.coef_[7],X.columns[7], model.coef_[8],X.columns[8], model.coef_[9],X.columns[9], model.coef_[10],X.columns[10], model.coef_[11],X.columns[11], model.coef_[12],X.columns[12], model.coef_[13],X.columns[13]))"
   ]
  },
  {
   "cell_type": "code",
   "execution_count": 65,
   "metadata": {},
   "outputs": [
    {
     "data": {
      "text/plain": [
       "MSSubClass         190\n",
       "LotArea         215245\n",
       "OverallQual         10\n",
       "OverallCond          9\n",
       "YearBuilt         2010\n",
       "BsmtFinSF1        5644\n",
       "TotalBsmtSF       6110\n",
       "1stFlrSF          4692\n",
       "2ndFlrSF          2065\n",
       "LowQualFinSF       572\n",
       "GrLivArea         5642\n",
       "BedroomAbvGr         8\n",
       "GarageCars           4\n",
       "WoodDeckSF         857\n",
       "dtype: int64"
      ]
     },
     "execution_count": 65,
     "metadata": {},
     "output_type": "execute_result"
    }
   ],
   "source": [
    "X.max()"
   ]
  },
  {
   "cell_type": "code",
   "execution_count": 63,
   "metadata": {},
   "outputs": [
    {
     "data": {
      "text/plain": [
       "MSSubClass        20\n",
       "LotArea         1300\n",
       "OverallQual        1\n",
       "OverallCond        1\n",
       "YearBuilt       1872\n",
       "BsmtFinSF1         0\n",
       "TotalBsmtSF        0\n",
       "1stFlrSF         334\n",
       "2ndFlrSF           0\n",
       "LowQualFinSF       0\n",
       "GrLivArea        334\n",
       "BedroomAbvGr       0\n",
       "GarageCars         0\n",
       "WoodDeckSF         0\n",
       "dtype: int64"
      ]
     },
     "execution_count": 63,
     "metadata": {},
     "output_type": "execute_result"
    }
   ],
   "source": [
    "X.min()"
   ]
  },
  {
   "cell_type": "code",
   "execution_count": 71,
   "metadata": {},
   "outputs": [
    {
     "name": "stdout",
     "output_type": "stream",
     "text": [
      "MSSubClass have max value : -34531.71 \n",
      "MSSubClass have min value: -3634.92\n",
      "\n",
      "LotArea have max value : 98844.15 \n",
      "LotArea have min value: 596.98\n",
      "\n",
      "OverallQual have max value : 203977.44 \n",
      "OverallQual have min value: 20397.74\n",
      "\n",
      "OverallCond have max value : 43976.12 \n",
      "OverallCond have min value: 4886.24\n",
      "\n",
      "YearBuilt have max value : 817613.35 \n",
      "YearBuilt have min value: 761478.70\n",
      "\n",
      "BsmtFinSF1 have max value : 92779.39 \n",
      "BsmtFinSF1 have min value: 0.00\n",
      "\n",
      "TotalBsmtSF have max value : 19321.59 \n",
      "TotalBsmtSF have min value: 0.00\n",
      "\n",
      "1stFlrSF have max value : 77597.41 \n",
      "1stFlrSF have min value: 5523.77\n",
      "\n",
      "2ndFlrSF have max value : 29303.46 \n",
      "2ndFlrSF have min value: 0.00\n",
      "\n",
      "LowQualFinSF have max value : 6656.89 \n",
      "LowQualFinSF have min value: 0.00\n",
      "\n",
      "GrLivArea have max value : 239032.89 \n",
      "GrLivArea have min value: 14150.48\n",
      "\n",
      "BedroomAbvGr have max value : -51120.58 \n",
      "BedroomAbvGr have min value: -0.00\n",
      "\n",
      "GarageCars have max value : 52302.10 \n",
      "GarageCars have min value: 0.00\n",
      "\n",
      "WoodDeckSF have max value : 22870.90 \n",
      "WoodDeckSF have min value: 0.00\n",
      "\n"
     ]
    }
   ],
   "source": [
    "for x in range(X.shape[1]):\n",
    "    print(\"{} have max value : {:.2f} \\n{} have min value: {:.2f}\\n\".format(X.columns[x],(model.coef_[x]*X.max().iloc[x]),X.columns[x],(model.coef_[x]*X.min().iloc[x])))"
   ]
  },
  {
   "cell_type": "markdown",
   "metadata": {},
   "source": [
    "* *LotArea ,OverallCond , OverallQual , BsmtFinSF1 , GrLivArea have huge impacts.*"
   ]
  },
  {
   "cell_type": "markdown",
   "metadata": {},
   "source": [
    "* *We have biggest impact from Ovearall Quallity Feature(OverallQual) and It can be expected. On the other hand, Area have important thing to when you want to buy a house.*"
   ]
  },
  {
   "cell_type": "code",
   "execution_count": null,
   "metadata": {},
   "outputs": [],
   "source": []
  }
 ],
 "metadata": {
  "kernelspec": {
   "display_name": "Python 3",
   "language": "python",
   "name": "python3"
  },
  "language_info": {
   "codemirror_mode": {
    "name": "ipython",
    "version": 3
   },
   "file_extension": ".py",
   "mimetype": "text/x-python",
   "name": "python",
   "nbconvert_exporter": "python",
   "pygments_lexer": "ipython3",
   "version": "3.8.3"
  }
 },
 "nbformat": 4,
 "nbformat_minor": 4
}
