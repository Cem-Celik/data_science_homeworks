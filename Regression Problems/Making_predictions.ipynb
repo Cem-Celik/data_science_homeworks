{
 "cells": [
  {
   "cell_type": "markdown",
   "metadata": {},
   "source": [
    "# Making Predictions"
   ]
  },
  {
   "cell_type": "markdown",
   "metadata": {},
   "source": [
    "* Load the houseprices data from Kaggle"
   ]
  },
  {
   "cell_type": "code",
   "execution_count": 1,
   "metadata": {},
   "outputs": [],
   "source": [
    "import pandas as pd\n",
    "import numpy as np\n",
    "import seaborn as sns\n",
    "import matplotlib.pyplot as plt\n",
    "\n",
    "import warnings\n",
    "warnings.filterwarnings(action = \"ignore\")\n",
    "\n",
    "%matplotlib inline\n",
    "pd.options.display.float_format = '{:.3f}'.format\n",
    "\n",
    "from sklearn import linear_model\n",
    "import statsmodels.api as sm\n",
    "\n",
    "from sklearn.model_selection import train_test_split"
   ]
  },
  {
   "cell_type": "code",
   "execution_count": 2,
   "metadata": {},
   "outputs": [
    {
     "data": {
      "text/html": [
       "<div>\n",
       "<style scoped>\n",
       "    .dataframe tbody tr th:only-of-type {\n",
       "        vertical-align: middle;\n",
       "    }\n",
       "\n",
       "    .dataframe tbody tr th {\n",
       "        vertical-align: top;\n",
       "    }\n",
       "\n",
       "    .dataframe thead th {\n",
       "        text-align: right;\n",
       "    }\n",
       "</style>\n",
       "<table border=\"1\" class=\"dataframe\">\n",
       "  <thead>\n",
       "    <tr style=\"text-align: right;\">\n",
       "      <th></th>\n",
       "      <th>MSSubClass</th>\n",
       "      <th>MSZoning</th>\n",
       "      <th>LotFrontage</th>\n",
       "      <th>LotArea</th>\n",
       "      <th>Street</th>\n",
       "      <th>Alley</th>\n",
       "      <th>LotShape</th>\n",
       "      <th>LandContour</th>\n",
       "      <th>Utilities</th>\n",
       "      <th>LotConfig</th>\n",
       "      <th>...</th>\n",
       "      <th>PoolArea</th>\n",
       "      <th>PoolQC</th>\n",
       "      <th>Fence</th>\n",
       "      <th>MiscFeature</th>\n",
       "      <th>MiscVal</th>\n",
       "      <th>MoSold</th>\n",
       "      <th>YrSold</th>\n",
       "      <th>SaleType</th>\n",
       "      <th>SaleCondition</th>\n",
       "      <th>SalePrice</th>\n",
       "    </tr>\n",
       "  </thead>\n",
       "  <tbody>\n",
       "    <tr>\n",
       "      <th>0</th>\n",
       "      <td>60</td>\n",
       "      <td>RL</td>\n",
       "      <td>65.000</td>\n",
       "      <td>8450</td>\n",
       "      <td>Pave</td>\n",
       "      <td>NaN</td>\n",
       "      <td>Reg</td>\n",
       "      <td>Lvl</td>\n",
       "      <td>AllPub</td>\n",
       "      <td>Inside</td>\n",
       "      <td>...</td>\n",
       "      <td>0</td>\n",
       "      <td>NaN</td>\n",
       "      <td>NaN</td>\n",
       "      <td>NaN</td>\n",
       "      <td>0</td>\n",
       "      <td>2</td>\n",
       "      <td>2008</td>\n",
       "      <td>WD</td>\n",
       "      <td>Normal</td>\n",
       "      <td>208500</td>\n",
       "    </tr>\n",
       "    <tr>\n",
       "      <th>1</th>\n",
       "      <td>20</td>\n",
       "      <td>RL</td>\n",
       "      <td>80.000</td>\n",
       "      <td>9600</td>\n",
       "      <td>Pave</td>\n",
       "      <td>NaN</td>\n",
       "      <td>Reg</td>\n",
       "      <td>Lvl</td>\n",
       "      <td>AllPub</td>\n",
       "      <td>FR2</td>\n",
       "      <td>...</td>\n",
       "      <td>0</td>\n",
       "      <td>NaN</td>\n",
       "      <td>NaN</td>\n",
       "      <td>NaN</td>\n",
       "      <td>0</td>\n",
       "      <td>5</td>\n",
       "      <td>2007</td>\n",
       "      <td>WD</td>\n",
       "      <td>Normal</td>\n",
       "      <td>181500</td>\n",
       "    </tr>\n",
       "    <tr>\n",
       "      <th>2</th>\n",
       "      <td>60</td>\n",
       "      <td>RL</td>\n",
       "      <td>68.000</td>\n",
       "      <td>11250</td>\n",
       "      <td>Pave</td>\n",
       "      <td>NaN</td>\n",
       "      <td>IR1</td>\n",
       "      <td>Lvl</td>\n",
       "      <td>AllPub</td>\n",
       "      <td>Inside</td>\n",
       "      <td>...</td>\n",
       "      <td>0</td>\n",
       "      <td>NaN</td>\n",
       "      <td>NaN</td>\n",
       "      <td>NaN</td>\n",
       "      <td>0</td>\n",
       "      <td>9</td>\n",
       "      <td>2008</td>\n",
       "      <td>WD</td>\n",
       "      <td>Normal</td>\n",
       "      <td>223500</td>\n",
       "    </tr>\n",
       "    <tr>\n",
       "      <th>3</th>\n",
       "      <td>70</td>\n",
       "      <td>RL</td>\n",
       "      <td>60.000</td>\n",
       "      <td>9550</td>\n",
       "      <td>Pave</td>\n",
       "      <td>NaN</td>\n",
       "      <td>IR1</td>\n",
       "      <td>Lvl</td>\n",
       "      <td>AllPub</td>\n",
       "      <td>Corner</td>\n",
       "      <td>...</td>\n",
       "      <td>0</td>\n",
       "      <td>NaN</td>\n",
       "      <td>NaN</td>\n",
       "      <td>NaN</td>\n",
       "      <td>0</td>\n",
       "      <td>2</td>\n",
       "      <td>2006</td>\n",
       "      <td>WD</td>\n",
       "      <td>Abnorml</td>\n",
       "      <td>140000</td>\n",
       "    </tr>\n",
       "    <tr>\n",
       "      <th>4</th>\n",
       "      <td>60</td>\n",
       "      <td>RL</td>\n",
       "      <td>84.000</td>\n",
       "      <td>14260</td>\n",
       "      <td>Pave</td>\n",
       "      <td>NaN</td>\n",
       "      <td>IR1</td>\n",
       "      <td>Lvl</td>\n",
       "      <td>AllPub</td>\n",
       "      <td>FR2</td>\n",
       "      <td>...</td>\n",
       "      <td>0</td>\n",
       "      <td>NaN</td>\n",
       "      <td>NaN</td>\n",
       "      <td>NaN</td>\n",
       "      <td>0</td>\n",
       "      <td>12</td>\n",
       "      <td>2008</td>\n",
       "      <td>WD</td>\n",
       "      <td>Normal</td>\n",
       "      <td>250000</td>\n",
       "    </tr>\n",
       "  </tbody>\n",
       "</table>\n",
       "<p>5 rows × 80 columns</p>\n",
       "</div>"
      ],
      "text/plain": [
       "   MSSubClass MSZoning  LotFrontage  LotArea Street Alley LotShape  \\\n",
       "0          60       RL       65.000     8450   Pave   NaN      Reg   \n",
       "1          20       RL       80.000     9600   Pave   NaN      Reg   \n",
       "2          60       RL       68.000    11250   Pave   NaN      IR1   \n",
       "3          70       RL       60.000     9550   Pave   NaN      IR1   \n",
       "4          60       RL       84.000    14260   Pave   NaN      IR1   \n",
       "\n",
       "  LandContour Utilities LotConfig  ... PoolArea PoolQC Fence MiscFeature  \\\n",
       "0         Lvl    AllPub    Inside  ...        0    NaN   NaN         NaN   \n",
       "1         Lvl    AllPub       FR2  ...        0    NaN   NaN         NaN   \n",
       "2         Lvl    AllPub    Inside  ...        0    NaN   NaN         NaN   \n",
       "3         Lvl    AllPub    Corner  ...        0    NaN   NaN         NaN   \n",
       "4         Lvl    AllPub       FR2  ...        0    NaN   NaN         NaN   \n",
       "\n",
       "  MiscVal MoSold  YrSold  SaleType  SaleCondition  SalePrice  \n",
       "0       0      2    2008        WD         Normal     208500  \n",
       "1       0      5    2007        WD         Normal     181500  \n",
       "2       0      9    2008        WD         Normal     223500  \n",
       "3       0      2    2006        WD        Abnorml     140000  \n",
       "4       0     12    2008        WD         Normal     250000  \n",
       "\n",
       "[5 rows x 80 columns]"
      ]
     },
     "execution_count": 2,
     "metadata": {},
     "output_type": "execute_result"
    }
   ],
   "source": [
    "house = pd.read_csv(\"data/houseprices.csv\")\n",
    "house.head(5)"
   ]
  },
  {
   "cell_type": "code",
   "execution_count": 3,
   "metadata": {},
   "outputs": [],
   "source": [
    "X = house[[\"LotArea\",\"OverallQual\",\"OverallCond\",\"YearBuilt\",\"BsmtFinSF1\",\"TotalBsmtSF\",\"1stFlrSF\",\"2ndFlrSF\",\"LowQualFinSF\",\"GrLivArea\",\"BedroomAbvGr\",\"GarageCars\",\"WoodDeckSF\"]]\n",
    "Y = house[\"SalePrice\"]"
   ]
  },
  {
   "cell_type": "markdown",
   "metadata": {},
   "source": [
    "* **Split your data into train and test sets.**"
   ]
  },
  {
   "cell_type": "code",
   "execution_count": 4,
   "metadata": {},
   "outputs": [],
   "source": [
    "X_train, X_test, y_train, y_test = train_test_split(X, Y, test_size=0.2, random_state=42)"
   ]
  },
  {
   "cell_type": "markdown",
   "metadata": {},
   "source": [
    "* **Estimate your model from the previous checkpoint in the train set. Assess the goodness of fit of your model.**"
   ]
  },
  {
   "cell_type": "code",
   "execution_count": 5,
   "metadata": {},
   "outputs": [
    {
     "name": "stdout",
     "output_type": "stream",
     "text": [
      "Coefficents : [ 5.11306937e-01  2.00810152e+04  5.52395428e+03  3.97642101e+02\n",
      "  1.51774898e+01  6.80060890e+00  2.04313016e+01  1.13706263e+01\n",
      "  6.88001124e+00  3.86819392e+01 -4.84908561e+03  1.37770344e+04\n",
      "  2.69220671e+01]\n",
      "Intercept : -875664.1403881385\n"
     ]
    }
   ],
   "source": [
    "model = linear_model.LinearRegression()\n",
    "model.fit(X_train,y_train)\n",
    "\n",
    "print(\"Coefficents : {}\".format(model.coef_))\n",
    "print(\"Intercept : {}\".format(model.intercept_))"
   ]
  },
  {
   "cell_type": "code",
   "execution_count": 6,
   "metadata": {},
   "outputs": [
    {
     "data": {
      "text/html": [
       "<table class=\"simpletable\">\n",
       "<caption>OLS Regression Results</caption>\n",
       "<tr>\n",
       "  <th>Dep. Variable:</th>        <td>SalePrice</td>    <th>  R-squared:         </th> <td>   0.854</td> \n",
       "</tr>\n",
       "<tr>\n",
       "  <th>Model:</th>                   <td>OLS</td>       <th>  Adj. R-squared:    </th> <td>   0.848</td> \n",
       "</tr>\n",
       "<tr>\n",
       "  <th>Method:</th>             <td>Least Squares</td>  <th>  F-statistic:       </th> <td>   136.2</td> \n",
       "</tr>\n",
       "<tr>\n",
       "  <th>Date:</th>             <td>Fri, 18 Sep 2020</td> <th>  Prob (F-statistic):</th> <td>5.16e-109</td>\n",
       "</tr>\n",
       "<tr>\n",
       "  <th>Time:</th>                 <td>21:21:31</td>     <th>  Log-Likelihood:    </th> <td> -3456.3</td> \n",
       "</tr>\n",
       "<tr>\n",
       "  <th>No. Observations:</th>      <td>   292</td>      <th>  AIC:               </th> <td>   6939.</td> \n",
       "</tr>\n",
       "<tr>\n",
       "  <th>Df Residuals:</th>          <td>   279</td>      <th>  BIC:               </th> <td>   6986.</td> \n",
       "</tr>\n",
       "<tr>\n",
       "  <th>Df Model:</th>              <td>    12</td>      <th>                     </th>     <td> </td>    \n",
       "</tr>\n",
       "<tr>\n",
       "  <th>Covariance Type:</th>      <td>nonrobust</td>    <th>                     </th>     <td> </td>    \n",
       "</tr>\n",
       "</table>\n",
       "<table class=\"simpletable\">\n",
       "<tr>\n",
       "        <td></td>          <th>coef</th>     <th>std err</th>      <th>t</th>      <th>P>|t|</th>  <th>[0.025</th>    <th>0.975]</th>  \n",
       "</tr>\n",
       "<tr>\n",
       "  <th>const</th>        <td>-6.328e+05</td> <td> 2.11e+05</td> <td>   -2.994</td> <td> 0.003</td> <td>-1.05e+06</td> <td>-2.17e+05</td>\n",
       "</tr>\n",
       "<tr>\n",
       "  <th>LotArea</th>      <td>    1.0314</td> <td>    0.374</td> <td>    2.761</td> <td> 0.006</td> <td>    0.296</td> <td>    1.767</td>\n",
       "</tr>\n",
       "<tr>\n",
       "  <th>OverallQual</th>  <td> 1.603e+04</td> <td> 2558.062</td> <td>    6.266</td> <td> 0.000</td> <td>  1.1e+04</td> <td> 2.11e+04</td>\n",
       "</tr>\n",
       "<tr>\n",
       "  <th>OverallCond</th>  <td> 8028.5404</td> <td> 2023.853</td> <td>    3.967</td> <td> 0.000</td> <td> 4044.580</td> <td>  1.2e+04</td>\n",
       "</tr>\n",
       "<tr>\n",
       "  <th>YearBuilt</th>    <td>  259.3186</td> <td>  108.339</td> <td>    2.394</td> <td> 0.017</td> <td>   46.053</td> <td>  472.584</td>\n",
       "</tr>\n",
       "<tr>\n",
       "  <th>BsmtFinSF1</th>   <td>   14.0333</td> <td>    5.771</td> <td>    2.431</td> <td> 0.016</td> <td>    2.672</td> <td>   25.394</td>\n",
       "</tr>\n",
       "<tr>\n",
       "  <th>TotalBsmtSF</th>  <td>   34.9822</td> <td>    8.378</td> <td>    4.175</td> <td> 0.000</td> <td>   18.490</td> <td>   51.474</td>\n",
       "</tr>\n",
       "<tr>\n",
       "  <th>1stFlrSF</th>     <td>   45.0116</td> <td>   12.259</td> <td>    3.672</td> <td> 0.000</td> <td>   20.880</td> <td>   69.143</td>\n",
       "</tr>\n",
       "<tr>\n",
       "  <th>2ndFlrSF</th>     <td>   40.8992</td> <td>   11.344</td> <td>    3.605</td> <td> 0.000</td> <td>   18.568</td> <td>   63.230</td>\n",
       "</tr>\n",
       "<tr>\n",
       "  <th>LowQualFinSF</th> <td>  -48.1307</td> <td>   30.860</td> <td>   -1.560</td> <td> 0.120</td> <td> -108.879</td> <td>   12.618</td>\n",
       "</tr>\n",
       "<tr>\n",
       "  <th>GrLivArea</th>    <td>   37.7801</td> <td>   10.830</td> <td>    3.489</td> <td> 0.001</td> <td>   16.461</td> <td>   59.099</td>\n",
       "</tr>\n",
       "<tr>\n",
       "  <th>BedroomAbvGr</th> <td> -1.31e+04</td> <td> 3073.010</td> <td>   -4.264</td> <td> 0.000</td> <td>-1.92e+04</td> <td>-7055.485</td>\n",
       "</tr>\n",
       "<tr>\n",
       "  <th>GarageCars</th>   <td> 1.135e+04</td> <td> 3764.414</td> <td>    3.014</td> <td> 0.003</td> <td> 3935.223</td> <td> 1.88e+04</td>\n",
       "</tr>\n",
       "<tr>\n",
       "  <th>WoodDeckSF</th>   <td>   46.8572</td> <td>   20.393</td> <td>    2.298</td> <td> 0.022</td> <td>    6.714</td> <td>   87.001</td>\n",
       "</tr>\n",
       "</table>\n",
       "<table class=\"simpletable\">\n",
       "<tr>\n",
       "  <th>Omnibus:</th>       <td>134.268</td> <th>  Durbin-Watson:     </th> <td>   2.046</td> \n",
       "</tr>\n",
       "<tr>\n",
       "  <th>Prob(Omnibus):</th> <td> 0.000</td>  <th>  Jarque-Bera (JB):  </th> <td>1301.363</td> \n",
       "</tr>\n",
       "<tr>\n",
       "  <th>Skew:</th>          <td> 1.607</td>  <th>  Prob(JB):          </th> <td>2.59e-283</td>\n",
       "</tr>\n",
       "<tr>\n",
       "  <th>Kurtosis:</th>      <td>12.830</td>  <th>  Cond. No.          </th> <td>1.27e+17</td> \n",
       "</tr>\n",
       "</table><br/><br/>Warnings:<br/>[1] Standard Errors assume that the covariance matrix of the errors is correctly specified.<br/>[2] The smallest eigenvalue is 2.51e-24. This might indicate that there are<br/>strong multicollinearity problems or that the design matrix is singular."
      ],
      "text/plain": [
       "<class 'statsmodels.iolib.summary.Summary'>\n",
       "\"\"\"\n",
       "                            OLS Regression Results                            \n",
       "==============================================================================\n",
       "Dep. Variable:              SalePrice   R-squared:                       0.854\n",
       "Model:                            OLS   Adj. R-squared:                  0.848\n",
       "Method:                 Least Squares   F-statistic:                     136.2\n",
       "Date:                Fri, 18 Sep 2020   Prob (F-statistic):          5.16e-109\n",
       "Time:                        21:21:31   Log-Likelihood:                -3456.3\n",
       "No. Observations:                 292   AIC:                             6939.\n",
       "Df Residuals:                     279   BIC:                             6986.\n",
       "Df Model:                          12                                         \n",
       "Covariance Type:            nonrobust                                         \n",
       "================================================================================\n",
       "                   coef    std err          t      P>|t|      [0.025      0.975]\n",
       "--------------------------------------------------------------------------------\n",
       "const        -6.328e+05   2.11e+05     -2.994      0.003   -1.05e+06   -2.17e+05\n",
       "LotArea          1.0314      0.374      2.761      0.006       0.296       1.767\n",
       "OverallQual   1.603e+04   2558.062      6.266      0.000     1.1e+04    2.11e+04\n",
       "OverallCond   8028.5404   2023.853      3.967      0.000    4044.580     1.2e+04\n",
       "YearBuilt      259.3186    108.339      2.394      0.017      46.053     472.584\n",
       "BsmtFinSF1      14.0333      5.771      2.431      0.016       2.672      25.394\n",
       "TotalBsmtSF     34.9822      8.378      4.175      0.000      18.490      51.474\n",
       "1stFlrSF        45.0116     12.259      3.672      0.000      20.880      69.143\n",
       "2ndFlrSF        40.8992     11.344      3.605      0.000      18.568      63.230\n",
       "LowQualFinSF   -48.1307     30.860     -1.560      0.120    -108.879      12.618\n",
       "GrLivArea       37.7801     10.830      3.489      0.001      16.461      59.099\n",
       "BedroomAbvGr  -1.31e+04   3073.010     -4.264      0.000   -1.92e+04   -7055.485\n",
       "GarageCars    1.135e+04   3764.414      3.014      0.003    3935.223    1.88e+04\n",
       "WoodDeckSF      46.8572     20.393      2.298      0.022       6.714      87.001\n",
       "==============================================================================\n",
       "Omnibus:                      134.268   Durbin-Watson:                   2.046\n",
       "Prob(Omnibus):                  0.000   Jarque-Bera (JB):             1301.363\n",
       "Skew:                           1.607   Prob(JB):                    2.59e-283\n",
       "Kurtosis:                      12.830   Cond. No.                     1.27e+17\n",
       "==============================================================================\n",
       "\n",
       "Warnings:\n",
       "[1] Standard Errors assume that the covariance matrix of the errors is correctly specified.\n",
       "[2] The smallest eigenvalue is 2.51e-24. This might indicate that there are\n",
       "strong multicollinearity problems or that the design matrix is singular.\n",
       "\"\"\""
      ]
     },
     "execution_count": 6,
     "metadata": {},
     "output_type": "execute_result"
    }
   ],
   "source": [
    "X_test = sm.add_constant(X_test)\n",
    "results = sm.OLS(y_test,X_test).fit()\n",
    "results.summary()"
   ]
  },
  {
   "cell_type": "markdown",
   "metadata": {},
   "source": [
    "* **Predict the house prices in the test set and evaluate the performance of your model using the metrics we mentioned in this checkpoint.**"
   ]
  },
  {
   "cell_type": "code",
   "execution_count": 7,
   "metadata": {},
   "outputs": [],
   "source": [
    "test_preds = results.predict(X_test)\n",
    "train_preds = model.predict(X_train)"
   ]
  },
  {
   "cell_type": "code",
   "execution_count": 8,
   "metadata": {},
   "outputs": [
    {
     "data": {
      "image/png": "[encoded data removed]",
      "text/plain": [
       "<Figure size 432x288 with 1 Axes>"
      ]
     },
     "metadata": {
      "needs_background": "light"
     },
     "output_type": "display_data"
    }
   ],
   "source": [
    "plt.scatter(y_test,test_preds)\n",
    "plt.plot(y_test,y_test, c =\"r\")\n",
    "plt.xlabel(\"true values\")\n",
    "plt.ylabel(\"predicted values\")\n",
    "plt.title(\"Charges: true and predicted values\")\n",
    "plt.show()"
   ]
  },
  {
   "cell_type": "code",
   "execution_count": 9,
   "metadata": {},
   "outputs": [
    {
     "name": "stdout",
     "output_type": "stream",
     "text": [
      "Mean absolute error of the prediction is: 22395.19443608408\n",
      "Mean squared error of the prediction is: 1118664955.2897727\n",
      "Root mean squared error of the prediction is: 33446.449068470225\n",
      "Mean absolute percentage error of the prediction is: 20.387177757249518\n"
     ]
    }
   ],
   "source": [
    "from sklearn.metrics import mean_absolute_error\n",
    "from statsmodels.tools.eval_measures import mse, rmse\n",
    "\n",
    "print(\"Mean absolute error of the prediction is: {}\".format(mean_absolute_error(y_test, test_preds)))\n",
    "print(\"Mean squared error of the prediction is: {}\".format(mse(y_test, test_preds)))\n",
    "print(\"Root mean squared error of the prediction is: {}\".format(rmse(y_test, test_preds)))\n",
    "print(\"Mean absolute percentage error of the prediction is: {}\".format(np.mean(np.abs((y_test - test_preds) / test_preds)) * 100))"
   ]
  },
  {
   "cell_type": "markdown",
   "metadata": {},
   "source": [
    "* **Is the performance of your model satisfactory? Why?**"
   ]
  },
  {
   "cell_type": "markdown",
   "metadata": {},
   "source": [
    "Our R-squared value is 87.4 percent and It is quite enough for our model. I think the errors are enough even the errors are looking high because our target values are very big values."
   ]
  },
  {
   "cell_type": "markdown",
   "metadata": {},
   "source": [
    "* **Try to improve your model in terms of prediction performance by adding or removing some variables.**"
   ]
  },
  {
   "cell_type": "code",
   "execution_count": 10,
   "metadata": {},
   "outputs": [],
   "source": [
    "house[\"LotArea_year\"] = house[\"LotArea\"] * house [\"YearBuilt\"]\n",
    "house[\"LotArea_ov_qual\"] = house[\"LotArea\"] * house[\"OverallQual\"]\n",
    "house[\"LotArea_ov_cond\"] = house[\"LotArea\"] * house[\"OverallCond\"]\n",
    "house[\"OverallQuall_square\"] = house[\"OverallQual\"]**2"
   ]
  },
  {
   "cell_type": "code",
   "execution_count": 11,
   "metadata": {},
   "outputs": [],
   "source": [
    "X = house[[\"LotArea\",\"OverallQual\",\"OverallCond\",\"YearBuilt\",\"OverallQuall_square\",\"BsmtFinSF1\",\"TotalBsmtSF\",\"1stFlrSF\",\"2ndFlrSF\",\"LowQualFinSF\",\"GrLivArea\",\"BedroomAbvGr\",\"GarageCars\",\"WoodDeckSF\",\"LotArea_year\",\"LotArea_ov_qual\",\"LotArea_ov_cond\"]]\n",
    "Y = house[\"SalePrice\"]"
   ]
  },
  {
   "cell_type": "code",
   "execution_count": 12,
   "metadata": {},
   "outputs": [],
   "source": [
    "X_train, X_test, y_train, y_test = train_test_split(X, Y, test_size=0.2, random_state=42)"
   ]
  },
  {
   "cell_type": "code",
   "execution_count": 13,
   "metadata": {},
   "outputs": [
    {
     "name": "stdout",
     "output_type": "stream",
     "text": [
      "Coefficents : [ 2.41448399e+01 -4.69860316e+04  1.05373979e+04  5.75631789e+02\n",
      "  5.82525882e+03  1.48629273e+01  9.59124150e+00  1.79458636e+01\n",
      "  1.64531963e+01 -3.41533104e+00  3.09837288e+01 -1.01371280e+03\n",
      "  1.21741491e+04  1.93461637e+01 -1.01224833e-02 -4.30811939e-01\n",
      " -1.71890258e-01]\n",
      "Intercept : -1070708.2056154495\n"
     ]
    }
   ],
   "source": [
    "model = linear_model.LinearRegression()\n",
    "model.fit(X_train,y_train)\n",
    "\n",
    "print(\"Coefficents : {}\".format(model.coef_))\n",
    "print(\"Intercept : {}\".format(model.intercept_))"
   ]
  },
  {
   "cell_type": "code",
   "execution_count": 14,
   "metadata": {},
   "outputs": [
    {
     "data": {
      "text/html": [
       "<table class=\"simpletable\">\n",
       "<caption>OLS Regression Results</caption>\n",
       "<tr>\n",
       "  <th>Dep. Variable:</th>        <td>SalePrice</td>    <th>  R-squared:         </th> <td>   0.900</td> \n",
       "</tr>\n",
       "<tr>\n",
       "  <th>Model:</th>                   <td>OLS</td>       <th>  Adj. R-squared:    </th> <td>   0.894</td> \n",
       "</tr>\n",
       "<tr>\n",
       "  <th>Method:</th>             <td>Least Squares</td>  <th>  F-statistic:       </th> <td>   154.7</td> \n",
       "</tr>\n",
       "<tr>\n",
       "  <th>Date:</th>             <td>Fri, 18 Sep 2020</td> <th>  Prob (F-statistic):</th> <td>3.52e-127</td>\n",
       "</tr>\n",
       "<tr>\n",
       "  <th>Time:</th>                 <td>21:21:32</td>     <th>  Log-Likelihood:    </th> <td> -3401.2</td> \n",
       "</tr>\n",
       "<tr>\n",
       "  <th>No. Observations:</th>      <td>   292</td>      <th>  AIC:               </th> <td>   6836.</td> \n",
       "</tr>\n",
       "<tr>\n",
       "  <th>Df Residuals:</th>          <td>   275</td>      <th>  BIC:               </th> <td>   6899.</td> \n",
       "</tr>\n",
       "<tr>\n",
       "  <th>Df Model:</th>              <td>    16</td>      <th>                     </th>     <td> </td>    \n",
       "</tr>\n",
       "<tr>\n",
       "  <th>Covariance Type:</th>      <td>nonrobust</td>    <th>                     </th>     <td> </td>    \n",
       "</tr>\n",
       "</table>\n",
       "<table class=\"simpletable\">\n",
       "<tr>\n",
       "           <td></td>              <th>coef</th>     <th>std err</th>      <th>t</th>      <th>P>|t|</th>  <th>[0.025</th>    <th>0.975]</th>  \n",
       "</tr>\n",
       "<tr>\n",
       "  <th>const</th>               <td>-3.091e+05</td> <td>  3.8e+05</td> <td>   -0.812</td> <td> 0.417</td> <td>-1.06e+06</td> <td>  4.4e+05</td>\n",
       "</tr>\n",
       "<tr>\n",
       "  <th>LotArea</th>             <td>  -38.3055</td> <td>   37.499</td> <td>   -1.022</td> <td> 0.308</td> <td> -112.127</td> <td>   35.516</td>\n",
       "</tr>\n",
       "<tr>\n",
       "  <th>OverallQual</th>         <td> -6.43e+04</td> <td> 8346.008</td> <td>   -7.704</td> <td> 0.000</td> <td>-8.07e+04</td> <td>-4.79e+04</td>\n",
       "</tr>\n",
       "<tr>\n",
       "  <th>OverallCond</th>         <td> 7045.6541</td> <td> 3204.144</td> <td>    2.199</td> <td> 0.029</td> <td>  737.888</td> <td> 1.34e+04</td>\n",
       "</tr>\n",
       "<tr>\n",
       "  <th>YearBuilt</th>           <td>  235.2472</td> <td>  195.410</td> <td>    1.204</td> <td> 0.230</td> <td> -149.443</td> <td>  619.938</td>\n",
       "</tr>\n",
       "<tr>\n",
       "  <th>OverallQuall_square</th> <td> 5680.3739</td> <td>  668.895</td> <td>    8.492</td> <td> 0.000</td> <td> 4363.568</td> <td> 6997.180</td>\n",
       "</tr>\n",
       "<tr>\n",
       "  <th>BsmtFinSF1</th>          <td>   19.3816</td> <td>    4.850</td> <td>    3.997</td> <td> 0.000</td> <td>    9.835</td> <td>   28.928</td>\n",
       "</tr>\n",
       "<tr>\n",
       "  <th>TotalBsmtSF</th>         <td>   29.7716</td> <td>    7.020</td> <td>    4.241</td> <td> 0.000</td> <td>   15.952</td> <td>   43.592</td>\n",
       "</tr>\n",
       "<tr>\n",
       "  <th>1stFlrSF</th>            <td>   29.6835</td> <td>   10.386</td> <td>    2.858</td> <td> 0.005</td> <td>    9.238</td> <td>   50.129</td>\n",
       "</tr>\n",
       "<tr>\n",
       "  <th>2ndFlrSF</th>            <td>   29.9396</td> <td>    9.559</td> <td>    3.132</td> <td> 0.002</td> <td>   11.121</td> <td>   48.759</td>\n",
       "</tr>\n",
       "<tr>\n",
       "  <th>LowQualFinSF</th>        <td>  -23.1761</td> <td>   25.963</td> <td>   -0.893</td> <td> 0.373</td> <td>  -74.287</td> <td>   27.935</td>\n",
       "</tr>\n",
       "<tr>\n",
       "  <th>GrLivArea</th>           <td>   36.4469</td> <td>    9.062</td> <td>    4.022</td> <td> 0.000</td> <td>   18.607</td> <td>   54.286</td>\n",
       "</tr>\n",
       "<tr>\n",
       "  <th>BedroomAbvGr</th>        <td>-5197.9777</td> <td> 2723.724</td> <td>   -1.908</td> <td> 0.057</td> <td>-1.06e+04</td> <td>  164.021</td>\n",
       "</tr>\n",
       "<tr>\n",
       "  <th>GarageCars</th>          <td> 1.237e+04</td> <td> 3205.282</td> <td>    3.859</td> <td> 0.000</td> <td> 6059.424</td> <td> 1.87e+04</td>\n",
       "</tr>\n",
       "<tr>\n",
       "  <th>WoodDeckSF</th>          <td>   31.4849</td> <td>   17.107</td> <td>    1.841</td> <td> 0.067</td> <td>   -2.192</td> <td>   65.162</td>\n",
       "</tr>\n",
       "<tr>\n",
       "  <th>LotArea_year</th>        <td>    0.0156</td> <td>    0.019</td> <td>    0.815</td> <td> 0.416</td> <td>   -0.022</td> <td>    0.053</td>\n",
       "</tr>\n",
       "<tr>\n",
       "  <th>LotArea_ov_qual</th>     <td>    1.0345</td> <td>    0.294</td> <td>    3.519</td> <td> 0.001</td> <td>    0.456</td> <td>    1.613</td>\n",
       "</tr>\n",
       "<tr>\n",
       "  <th>LotArea_ov_cond</th>     <td>    0.3719</td> <td>    0.270</td> <td>    1.375</td> <td> 0.170</td> <td>   -0.161</td> <td>    0.904</td>\n",
       "</tr>\n",
       "</table>\n",
       "<table class=\"simpletable\">\n",
       "<tr>\n",
       "  <th>Omnibus:</th>       <td>104.563</td> <th>  Durbin-Watson:     </th> <td>   2.082</td> \n",
       "</tr>\n",
       "<tr>\n",
       "  <th>Prob(Omnibus):</th> <td> 0.000</td>  <th>  Jarque-Bera (JB):  </th> <td> 843.095</td> \n",
       "</tr>\n",
       "<tr>\n",
       "  <th>Skew:</th>          <td> 1.218</td>  <th>  Prob(JB):          </th> <td>8.40e-184</td>\n",
       "</tr>\n",
       "<tr>\n",
       "  <th>Kurtosis:</th>      <td>10.960</td>  <th>  Cond. No.          </th> <td>2.32e+20</td> \n",
       "</tr>\n",
       "</table><br/><br/>Warnings:<br/>[1] Standard Errors assume that the covariance matrix of the errors is correctly specified.<br/>[2] The smallest eigenvalue is 2.76e-24. This might indicate that there are<br/>strong multicollinearity problems or that the design matrix is singular."
      ],
      "text/plain": [
       "<class 'statsmodels.iolib.summary.Summary'>\n",
       "\"\"\"\n",
       "                            OLS Regression Results                            \n",
       "==============================================================================\n",
       "Dep. Variable:              SalePrice   R-squared:                       0.900\n",
       "Model:                            OLS   Adj. R-squared:                  0.894\n",
       "Method:                 Least Squares   F-statistic:                     154.7\n",
       "Date:                Fri, 18 Sep 2020   Prob (F-statistic):          3.52e-127\n",
       "Time:                        21:21:32   Log-Likelihood:                -3401.2\n",
       "No. Observations:                 292   AIC:                             6836.\n",
       "Df Residuals:                     275   BIC:                             6899.\n",
       "Df Model:                          16                                         \n",
       "Covariance Type:            nonrobust                                         \n",
       "=======================================================================================\n",
       "                          coef    std err          t      P>|t|      [0.025      0.975]\n",
       "---------------------------------------------------------------------------------------\n",
       "const               -3.091e+05    3.8e+05     -0.812      0.417   -1.06e+06     4.4e+05\n",
       "LotArea               -38.3055     37.499     -1.022      0.308    -112.127      35.516\n",
       "OverallQual          -6.43e+04   8346.008     -7.704      0.000   -8.07e+04   -4.79e+04\n",
       "OverallCond          7045.6541   3204.144      2.199      0.029     737.888    1.34e+04\n",
       "YearBuilt             235.2472    195.410      1.204      0.230    -149.443     619.938\n",
       "OverallQuall_square  5680.3739    668.895      8.492      0.000    4363.568    6997.180\n",
       "BsmtFinSF1             19.3816      4.850      3.997      0.000       9.835      28.928\n",
       "TotalBsmtSF            29.7716      7.020      4.241      0.000      15.952      43.592\n",
       "1stFlrSF               29.6835     10.386      2.858      0.005       9.238      50.129\n",
       "2ndFlrSF               29.9396      9.559      3.132      0.002      11.121      48.759\n",
       "LowQualFinSF          -23.1761     25.963     -0.893      0.373     -74.287      27.935\n",
       "GrLivArea              36.4469      9.062      4.022      0.000      18.607      54.286\n",
       "BedroomAbvGr        -5197.9777   2723.724     -1.908      0.057   -1.06e+04     164.021\n",
       "GarageCars           1.237e+04   3205.282      3.859      0.000    6059.424    1.87e+04\n",
       "WoodDeckSF             31.4849     17.107      1.841      0.067      -2.192      65.162\n",
       "LotArea_year            0.0156      0.019      0.815      0.416      -0.022       0.053\n",
       "LotArea_ov_qual         1.0345      0.294      3.519      0.001       0.456       1.613\n",
       "LotArea_ov_cond         0.3719      0.270      1.375      0.170      -0.161       0.904\n",
       "==============================================================================\n",
       "Omnibus:                      104.563   Durbin-Watson:                   2.082\n",
       "Prob(Omnibus):                  0.000   Jarque-Bera (JB):              843.095\n",
       "Skew:                           1.218   Prob(JB):                    8.40e-184\n",
       "Kurtosis:                      10.960   Cond. No.                     2.32e+20\n",
       "==============================================================================\n",
       "\n",
       "Warnings:\n",
       "[1] Standard Errors assume that the covariance matrix of the errors is correctly specified.\n",
       "[2] The smallest eigenvalue is 2.76e-24. This might indicate that there are\n",
       "strong multicollinearity problems or that the design matrix is singular.\n",
       "\"\"\""
      ]
     },
     "execution_count": 14,
     "metadata": {},
     "output_type": "execute_result"
    }
   ],
   "source": [
    "X_test = sm.add_constant(X_test)\n",
    "results = sm.OLS(y_test,X_test).fit()\n",
    "results.summary()"
   ]
  },
  {
   "cell_type": "code",
   "execution_count": 15,
   "metadata": {},
   "outputs": [],
   "source": [
    "test_preds = results.predict(X_test)\n",
    "train_preds = model.predict(X_train)"
   ]
  },
  {
   "cell_type": "code",
   "execution_count": 18,
   "metadata": {},
   "outputs": [
    {
     "data": {
      "image/png": "[encoded data removed]",
      "text/plain": [
       "<Figure size 432x288 with 1 Axes>"
      ]
     },
     "metadata": {
      "needs_background": "light"
     },
     "output_type": "display_data"
    }
   ],
   "source": [
    "plt.scatter(y_test,test_preds)\n",
    "plt.plot(y_test,y_test, c =\"r\")\n",
    "plt.xlabel(\"true values\")\n",
    "plt.ylabel(\"predicted values\")\n",
    "plt.title(\"Charges: true and predicted values\")\n",
    "plt.show()"
   ]
  },
  {
   "cell_type": "code",
   "execution_count": 19,
   "metadata": {},
   "outputs": [
    {
     "data": {
      "image/png": "[encoded data removed]",
      "text/plain": [
       "<Figure size 432x288 with 1 Axes>"
      ]
     },
     "metadata": {
      "needs_background": "light"
     },
     "output_type": "display_data"
    }
   ],
   "source": [
    "plt.scatter(y_train,train_preds)\n",
    "plt.plot(y_train,y_train, c =\"r\")\n",
    "plt.xlabel(\"true values\")\n",
    "plt.ylabel(\"predicted values\")\n",
    "plt.title(\"Charges: true and predicted values\")\n",
    "plt.show()"
   ]
  },
  {
   "cell_type": "code",
   "execution_count": 16,
   "metadata": {},
   "outputs": [
    {
     "name": "stdout",
     "output_type": "stream",
     "text": [
      "Mean absolute error of the prediction is: 19000.377620312014\n",
      "Mean squared error of the prediction is: 767186969.7902277\n",
      "Root mean squared error of the prediction is: 27698.140186485944\n",
      "Mean absolute percentage error of the prediction is: 11.336580387222318\n"
     ]
    }
   ],
   "source": [
    "print(\"Mean absolute error of the prediction is: {}\".format(mean_absolute_error(y_test, test_preds)))\n",
    "print(\"Mean squared error of the prediction is: {}\".format(mse(y_test, test_preds)))\n",
    "print(\"Root mean squared error of the prediction is: {}\".format(rmse(y_test, test_preds)))\n",
    "print(\"Mean absolute percentage error of the prediction is: {}\".format(np.mean(np.abs((y_test - test_preds) / test_preds)) * 100))"
   ]
  }
 ],
 "metadata": {
  "kernelspec": {
   "display_name": "Python 3",
   "language": "python",
   "name": "python3"
  },
  "language_info": {
   "codemirror_mode": {
    "name": "ipython",
    "version": 3
   },
   "file_extension": ".py",
   "mimetype": "text/x-python",
   "name": "python",
   "nbconvert_exporter": "python",
   "pygments_lexer": "ipython3",
   "version": "3.8.3"
  }
 },
 "nbformat": 4,
 "nbformat_minor": 4
}
