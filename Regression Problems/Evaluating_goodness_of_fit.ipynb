{
 "cells": [
  {
   "cell_type": "markdown",
   "metadata": {},
   "source": [
    "# 1. Weather model"
   ]
  },
  {
   "cell_type": "markdown",
   "metadata": {},
   "source": [
    "* Load the weather data from Kaggle\n",
    "* Like in the previous lesson, build a linear regression model where your target variable is the difference between the apparenttemperature and the temperature. As explanatory variables, use humidity and windspeed. Now, estimate your model using OLS. What are the R-squared and adjusted R-squared values? Do you think they are satisfactory? Why?"
   ]
  },
  {
   "cell_type": "code",
   "execution_count": 7,
   "metadata": {},
   "outputs": [],
   "source": [
    "import pandas as pd\n",
    "import numpy as np\n",
    "import seaborn as sns\n",
    "import matplotlib.pyplot as plt\n",
    "\n",
    "import warnings\n",
    "warnings.filterwarnings(action = \"ignore\")\n",
    "\n",
    "%matplotlib inline\n",
    "pd.options.display.float_format = '{:.3f}'.format\n",
    "\n",
    "from sklearn import linear_model\n",
    "import statsmodels.api as sm\n",
    "\n",
    "from sklearn.model_selection import train_test_split"
   ]
  },
  {
   "cell_type": "code",
   "execution_count": 8,
   "metadata": {},
   "outputs": [
    {
     "data": {
      "text/html": [
       "<div>\n",
       "<style scoped>\n",
       "    .dataframe tbody tr th:only-of-type {\n",
       "        vertical-align: middle;\n",
       "    }\n",
       "\n",
       "    .dataframe tbody tr th {\n",
       "        vertical-align: top;\n",
       "    }\n",
       "\n",
       "    .dataframe thead th {\n",
       "        text-align: right;\n",
       "    }\n",
       "</style>\n",
       "<table border=\"1\" class=\"dataframe\">\n",
       "  <thead>\n",
       "    <tr style=\"text-align: right;\">\n",
       "      <th></th>\n",
       "      <th>Formatted Date</th>\n",
       "      <th>Summary</th>\n",
       "      <th>Precip Type</th>\n",
       "      <th>Temperature (C)</th>\n",
       "      <th>Apparent Temperature (C)</th>\n",
       "      <th>Humidity</th>\n",
       "      <th>Wind Speed (km/h)</th>\n",
       "      <th>Wind Bearing (degrees)</th>\n",
       "      <th>Visibility (km)</th>\n",
       "      <th>Loud Cover</th>\n",
       "      <th>Pressure (millibars)</th>\n",
       "      <th>Daily Summary</th>\n",
       "    </tr>\n",
       "  </thead>\n",
       "  <tbody>\n",
       "    <tr>\n",
       "      <th>0</th>\n",
       "      <td>2006-04-01 00:00:00.000 +0200</td>\n",
       "      <td>Partly Cloudy</td>\n",
       "      <td>rain</td>\n",
       "      <td>9.472</td>\n",
       "      <td>7.389</td>\n",
       "      <td>0.890</td>\n",
       "      <td>14.120</td>\n",
       "      <td>251.000</td>\n",
       "      <td>15.826</td>\n",
       "      <td>0.000</td>\n",
       "      <td>1015.130</td>\n",
       "      <td>Partly cloudy throughout the day.</td>\n",
       "    </tr>\n",
       "    <tr>\n",
       "      <th>1</th>\n",
       "      <td>2006-04-01 01:00:00.000 +0200</td>\n",
       "      <td>Partly Cloudy</td>\n",
       "      <td>rain</td>\n",
       "      <td>9.356</td>\n",
       "      <td>7.228</td>\n",
       "      <td>0.860</td>\n",
       "      <td>14.265</td>\n",
       "      <td>259.000</td>\n",
       "      <td>15.826</td>\n",
       "      <td>0.000</td>\n",
       "      <td>1015.630</td>\n",
       "      <td>Partly cloudy throughout the day.</td>\n",
       "    </tr>\n",
       "    <tr>\n",
       "      <th>2</th>\n",
       "      <td>2006-04-01 02:00:00.000 +0200</td>\n",
       "      <td>Mostly Cloudy</td>\n",
       "      <td>rain</td>\n",
       "      <td>9.378</td>\n",
       "      <td>9.378</td>\n",
       "      <td>0.890</td>\n",
       "      <td>3.928</td>\n",
       "      <td>204.000</td>\n",
       "      <td>14.957</td>\n",
       "      <td>0.000</td>\n",
       "      <td>1015.940</td>\n",
       "      <td>Partly cloudy throughout the day.</td>\n",
       "    </tr>\n",
       "    <tr>\n",
       "      <th>3</th>\n",
       "      <td>2006-04-01 03:00:00.000 +0200</td>\n",
       "      <td>Partly Cloudy</td>\n",
       "      <td>rain</td>\n",
       "      <td>8.289</td>\n",
       "      <td>5.944</td>\n",
       "      <td>0.830</td>\n",
       "      <td>14.104</td>\n",
       "      <td>269.000</td>\n",
       "      <td>15.826</td>\n",
       "      <td>0.000</td>\n",
       "      <td>1016.410</td>\n",
       "      <td>Partly cloudy throughout the day.</td>\n",
       "    </tr>\n",
       "    <tr>\n",
       "      <th>4</th>\n",
       "      <td>2006-04-01 04:00:00.000 +0200</td>\n",
       "      <td>Mostly Cloudy</td>\n",
       "      <td>rain</td>\n",
       "      <td>8.756</td>\n",
       "      <td>6.978</td>\n",
       "      <td>0.830</td>\n",
       "      <td>11.045</td>\n",
       "      <td>259.000</td>\n",
       "      <td>15.826</td>\n",
       "      <td>0.000</td>\n",
       "      <td>1016.510</td>\n",
       "      <td>Partly cloudy throughout the day.</td>\n",
       "    </tr>\n",
       "  </tbody>\n",
       "</table>\n",
       "</div>"
      ],
      "text/plain": [
       "                  Formatted Date        Summary Precip Type  Temperature (C)  \\\n",
       "0  2006-04-01 00:00:00.000 +0200  Partly Cloudy        rain            9.472   \n",
       "1  2006-04-01 01:00:00.000 +0200  Partly Cloudy        rain            9.356   \n",
       "2  2006-04-01 02:00:00.000 +0200  Mostly Cloudy        rain            9.378   \n",
       "3  2006-04-01 03:00:00.000 +0200  Partly Cloudy        rain            8.289   \n",
       "4  2006-04-01 04:00:00.000 +0200  Mostly Cloudy        rain            8.756   \n",
       "\n",
       "   Apparent Temperature (C)  Humidity  Wind Speed (km/h)  \\\n",
       "0                     7.389     0.890             14.120   \n",
       "1                     7.228     0.860             14.265   \n",
       "2                     9.378     0.890              3.928   \n",
       "3                     5.944     0.830             14.104   \n",
       "4                     6.978     0.830             11.045   \n",
       "\n",
       "   Wind Bearing (degrees)  Visibility (km)  Loud Cover  Pressure (millibars)  \\\n",
       "0                 251.000           15.826       0.000              1015.130   \n",
       "1                 259.000           15.826       0.000              1015.630   \n",
       "2                 204.000           14.957       0.000              1015.940   \n",
       "3                 269.000           15.826       0.000              1016.410   \n",
       "4                 259.000           15.826       0.000              1016.510   \n",
       "\n",
       "                       Daily Summary  \n",
       "0  Partly cloudy throughout the day.  \n",
       "1  Partly cloudy throughout the day.  \n",
       "2  Partly cloudy throughout the day.  \n",
       "3  Partly cloudy throughout the day.  \n",
       "4  Partly cloudy throughout the day.  "
      ]
     },
     "execution_count": 8,
     "metadata": {},
     "output_type": "execute_result"
    }
   ],
   "source": [
    "weather = pd.read_csv(\"data/weatherHistory.csv\")\n",
    "weather.head(5)"
   ]
  },
  {
   "cell_type": "code",
   "execution_count": 26,
   "metadata": {},
   "outputs": [],
   "source": [
    "X = weather[[\"Humidity\",\"Wind Speed (km/h)\"]]\n",
    "\n",
    "Y = weather[\"Apparent Temperature (C)\"]-weather[\"Temperature (C)\"]"
   ]
  },
  {
   "cell_type": "code",
   "execution_count": 27,
   "metadata": {},
   "outputs": [],
   "source": [
    "X_train, X_test, y_train, y_test = train_test_split(X, Y, test_size=0.20, random_state=42)"
   ]
  },
  {
   "cell_type": "code",
   "execution_count": 28,
   "metadata": {},
   "outputs": [
    {
     "data": {
      "text/plain": [
       "LinearRegression()"
      ]
     },
     "execution_count": 28,
     "metadata": {},
     "output_type": "execute_result"
    }
   ],
   "source": [
    "model = linear_model.LinearRegression()\n",
    "model.fit(X_train,y_train)"
   ]
  },
  {
   "cell_type": "code",
   "execution_count": 29,
   "metadata": {},
   "outputs": [
    {
     "data": {
      "text/html": [
       "<table class=\"simpletable\">\n",
       "<caption>OLS Regression Results</caption>\n",
       "<tr>\n",
       "  <th>Dep. Variable:</th>            <td>y</td>        <th>  R-squared:         </th> <td>   0.283</td> \n",
       "</tr>\n",
       "<tr>\n",
       "  <th>Model:</th>                   <td>OLS</td>       <th>  Adj. R-squared:    </th> <td>   0.283</td> \n",
       "</tr>\n",
       "<tr>\n",
       "  <th>Method:</th>             <td>Least Squares</td>  <th>  F-statistic:       </th> <td>   3810.</td> \n",
       "</tr>\n",
       "<tr>\n",
       "  <th>Date:</th>             <td>Thu, 17 Sep 2020</td> <th>  Prob (F-statistic):</th>  <td>  0.00</td>  \n",
       "</tr>\n",
       "<tr>\n",
       "  <th>Time:</th>                 <td>20:10:56</td>     <th>  Log-Likelihood:    </th> <td> -34231.</td> \n",
       "</tr>\n",
       "<tr>\n",
       "  <th>No. Observations:</th>      <td> 19291</td>      <th>  AIC:               </th> <td>6.847e+04</td>\n",
       "</tr>\n",
       "<tr>\n",
       "  <th>Df Residuals:</th>          <td> 19288</td>      <th>  BIC:               </th> <td>6.849e+04</td>\n",
       "</tr>\n",
       "<tr>\n",
       "  <th>Df Model:</th>              <td>     2</td>      <th>                     </th>     <td> </td>    \n",
       "</tr>\n",
       "<tr>\n",
       "  <th>Covariance Type:</th>      <td>nonrobust</td>    <th>                     </th>     <td> </td>    \n",
       "</tr>\n",
       "</table>\n",
       "<table class=\"simpletable\">\n",
       "<tr>\n",
       "          <td></td>             <th>coef</th>     <th>std err</th>      <th>t</th>      <th>P>|t|</th>  <th>[0.025</th>    <th>0.975]</th>  \n",
       "</tr>\n",
       "<tr>\n",
       "  <th>const</th>             <td>    2.4347</td> <td>    0.048</td> <td>   51.220</td> <td> 0.000</td> <td>    2.342</td> <td>    2.528</td>\n",
       "</tr>\n",
       "<tr>\n",
       "  <th>Humidity</th>          <td>   -3.0331</td> <td>    0.054</td> <td>  -56.255</td> <td> 0.000</td> <td>   -3.139</td> <td>   -2.927</td>\n",
       "</tr>\n",
       "<tr>\n",
       "  <th>Wind Speed (km/h)</th> <td>   -0.1200</td> <td>    0.002</td> <td>  -77.975</td> <td> 0.000</td> <td>   -0.123</td> <td>   -0.117</td>\n",
       "</tr>\n",
       "</table>\n",
       "<table class=\"simpletable\">\n",
       "<tr>\n",
       "  <th>Omnibus:</th>       <td>852.068</td> <th>  Durbin-Watson:     </th> <td>   2.018</td> \n",
       "</tr>\n",
       "<tr>\n",
       "  <th>Prob(Omnibus):</th> <td> 0.000</td>  <th>  Jarque-Bera (JB):  </th> <td> 993.141</td> \n",
       "</tr>\n",
       "<tr>\n",
       "  <th>Skew:</th>          <td>-0.508</td>  <th>  Prob(JB):          </th> <td>2.20e-216</td>\n",
       "</tr>\n",
       "<tr>\n",
       "  <th>Kurtosis:</th>      <td> 3.450</td>  <th>  Cond. No.          </th> <td>    87.8</td> \n",
       "</tr>\n",
       "</table><br/><br/>Warnings:<br/>[1] Standard Errors assume that the covariance matrix of the errors is correctly specified."
      ],
      "text/plain": [
       "<class 'statsmodels.iolib.summary.Summary'>\n",
       "\"\"\"\n",
       "                            OLS Regression Results                            \n",
       "==============================================================================\n",
       "Dep. Variable:                      y   R-squared:                       0.283\n",
       "Model:                            OLS   Adj. R-squared:                  0.283\n",
       "Method:                 Least Squares   F-statistic:                     3810.\n",
       "Date:                Thu, 17 Sep 2020   Prob (F-statistic):               0.00\n",
       "Time:                        20:10:56   Log-Likelihood:                -34231.\n",
       "No. Observations:               19291   AIC:                         6.847e+04\n",
       "Df Residuals:                   19288   BIC:                         6.849e+04\n",
       "Df Model:                           2                                         \n",
       "Covariance Type:            nonrobust                                         \n",
       "=====================================================================================\n",
       "                        coef    std err          t      P>|t|      [0.025      0.975]\n",
       "-------------------------------------------------------------------------------------\n",
       "const                 2.4347      0.048     51.220      0.000       2.342       2.528\n",
       "Humidity             -3.0331      0.054    -56.255      0.000      -3.139      -2.927\n",
       "Wind Speed (km/h)    -0.1200      0.002    -77.975      0.000      -0.123      -0.117\n",
       "==============================================================================\n",
       "Omnibus:                      852.068   Durbin-Watson:                   2.018\n",
       "Prob(Omnibus):                  0.000   Jarque-Bera (JB):              993.141\n",
       "Skew:                          -0.508   Prob(JB):                    2.20e-216\n",
       "Kurtosis:                       3.450   Cond. No.                         87.8\n",
       "==============================================================================\n",
       "\n",
       "Warnings:\n",
       "[1] Standard Errors assume that the covariance matrix of the errors is correctly specified.\n",
       "\"\"\""
      ]
     },
     "execution_count": 29,
     "metadata": {},
     "output_type": "execute_result"
    }
   ],
   "source": [
    "X_test = sm.add_constant(X_test)\n",
    "results = sm.OLS(y_test,X_test).fit()\n",
    "results.summary()"
   ]
  },
  {
   "cell_type": "markdown",
   "metadata": {},
   "source": [
    "* *R-squared , Adj. R-squared are very low. These variables define the real variables %28.3.*"
   ]
  },
  {
   "cell_type": "markdown",
   "metadata": {},
   "source": [
    "**Next, include the interaction of humidity and windspeed to the model above and estimate the model using OLS. Now, what is the R-squared of this model? Does this model improve upon the previous one?**"
   ]
  },
  {
   "cell_type": "code",
   "execution_count": 31,
   "metadata": {},
   "outputs": [],
   "source": [
    "weather[\"Humidity_wind_speed\"] = weather.Humidity*weather[\"Wind Speed (km/h)\"]"
   ]
  },
  {
   "cell_type": "code",
   "execution_count": 32,
   "metadata": {},
   "outputs": [],
   "source": [
    "X = weather[[\"Humidity\",\"Wind Speed (km/h)\",\"Humidity_wind_speed\"]]\n",
    "\n",
    "Y = weather[\"Apparent Temperature (C)\"]-weather[\"Temperature (C)\"]"
   ]
  },
  {
   "cell_type": "code",
   "execution_count": 33,
   "metadata": {},
   "outputs": [],
   "source": [
    "X_train, X_test, y_train, y_test = train_test_split(X, Y, test_size = 0.2, random_state = 42 )"
   ]
  },
  {
   "cell_type": "code",
   "execution_count": 34,
   "metadata": {},
   "outputs": [
    {
     "data": {
      "text/plain": [
       "LinearRegression()"
      ]
     },
     "execution_count": 34,
     "metadata": {},
     "output_type": "execute_result"
    }
   ],
   "source": [
    "model = linear_model.LinearRegression()\n",
    "model.fit(X_train,y_train)"
   ]
  },
  {
   "cell_type": "code",
   "execution_count": 35,
   "metadata": {},
   "outputs": [
    {
     "data": {
      "text/html": [
       "<table class=\"simpletable\">\n",
       "<caption>OLS Regression Results</caption>\n",
       "<tr>\n",
       "  <th>Dep. Variable:</th>            <td>y</td>        <th>  R-squared:         </th> <td>   0.340</td> \n",
       "</tr>\n",
       "<tr>\n",
       "  <th>Model:</th>                   <td>OLS</td>       <th>  Adj. R-squared:    </th> <td>   0.340</td> \n",
       "</tr>\n",
       "<tr>\n",
       "  <th>Method:</th>             <td>Least Squares</td>  <th>  F-statistic:       </th> <td>   3308.</td> \n",
       "</tr>\n",
       "<tr>\n",
       "  <th>Date:</th>             <td>Thu, 17 Sep 2020</td> <th>  Prob (F-statistic):</th>  <td>  0.00</td>  \n",
       "</tr>\n",
       "<tr>\n",
       "  <th>Time:</th>                 <td>20:27:10</td>     <th>  Log-Likelihood:    </th> <td> -33438.</td> \n",
       "</tr>\n",
       "<tr>\n",
       "  <th>No. Observations:</th>      <td> 19291</td>      <th>  AIC:               </th> <td>6.688e+04</td>\n",
       "</tr>\n",
       "<tr>\n",
       "  <th>Df Residuals:</th>          <td> 19287</td>      <th>  BIC:               </th> <td>6.692e+04</td>\n",
       "</tr>\n",
       "<tr>\n",
       "  <th>Df Model:</th>              <td>     3</td>      <th>                     </th>     <td> </td>    \n",
       "</tr>\n",
       "<tr>\n",
       "  <th>Covariance Type:</th>      <td>nonrobust</td>    <th>                     </th>     <td> </td>    \n",
       "</tr>\n",
       "</table>\n",
       "<table class=\"simpletable\">\n",
       "<tr>\n",
       "           <td></td>              <th>coef</th>     <th>std err</th>      <th>t</th>      <th>P>|t|</th>  <th>[0.025</th>    <th>0.975]</th>  \n",
       "</tr>\n",
       "<tr>\n",
       "  <th>const</th>               <td>   -0.0274</td> <td>    0.076</td> <td>   -0.361</td> <td> 0.718</td> <td>   -0.176</td> <td>    0.121</td>\n",
       "</tr>\n",
       "<tr>\n",
       "  <th>Humidity</th>            <td>    0.3191</td> <td>    0.097</td> <td>    3.277</td> <td> 0.001</td> <td>    0.128</td> <td>    0.510</td>\n",
       "</tr>\n",
       "<tr>\n",
       "  <th>Wind Speed (km/h)</th>   <td>    0.0997</td> <td>    0.006</td> <td>   17.782</td> <td> 0.000</td> <td>    0.089</td> <td>    0.111</td>\n",
       "</tr>\n",
       "<tr>\n",
       "  <th>Humidity_wind_speed</th> <td>   -0.3113</td> <td>    0.008</td> <td>  -40.633</td> <td> 0.000</td> <td>   -0.326</td> <td>   -0.296</td>\n",
       "</tr>\n",
       "</table>\n",
       "<table class=\"simpletable\">\n",
       "<tr>\n",
       "  <th>Omnibus:</th>       <td>968.332</td> <th>  Durbin-Watson:     </th> <td>   2.012</td>\n",
       "</tr>\n",
       "<tr>\n",
       "  <th>Prob(Omnibus):</th> <td> 0.000</td>  <th>  Jarque-Bera (JB):  </th> <td>1655.018</td>\n",
       "</tr>\n",
       "<tr>\n",
       "  <th>Skew:</th>          <td>-0.410</td>  <th>  Prob(JB):          </th> <td>    0.00</td>\n",
       "</tr>\n",
       "<tr>\n",
       "  <th>Kurtosis:</th>      <td> 4.177</td>  <th>  Cond. No.          </th> <td>    194.</td>\n",
       "</tr>\n",
       "</table><br/><br/>Warnings:<br/>[1] Standard Errors assume that the covariance matrix of the errors is correctly specified."
      ],
      "text/plain": [
       "<class 'statsmodels.iolib.summary.Summary'>\n",
       "\"\"\"\n",
       "                            OLS Regression Results                            \n",
       "==============================================================================\n",
       "Dep. Variable:                      y   R-squared:                       0.340\n",
       "Model:                            OLS   Adj. R-squared:                  0.340\n",
       "Method:                 Least Squares   F-statistic:                     3308.\n",
       "Date:                Thu, 17 Sep 2020   Prob (F-statistic):               0.00\n",
       "Time:                        20:27:10   Log-Likelihood:                -33438.\n",
       "No. Observations:               19291   AIC:                         6.688e+04\n",
       "Df Residuals:                   19287   BIC:                         6.692e+04\n",
       "Df Model:                           3                                         \n",
       "Covariance Type:            nonrobust                                         \n",
       "=======================================================================================\n",
       "                          coef    std err          t      P>|t|      [0.025      0.975]\n",
       "---------------------------------------------------------------------------------------\n",
       "const                  -0.0274      0.076     -0.361      0.718      -0.176       0.121\n",
       "Humidity                0.3191      0.097      3.277      0.001       0.128       0.510\n",
       "Wind Speed (km/h)       0.0997      0.006     17.782      0.000       0.089       0.111\n",
       "Humidity_wind_speed    -0.3113      0.008    -40.633      0.000      -0.326      -0.296\n",
       "==============================================================================\n",
       "Omnibus:                      968.332   Durbin-Watson:                   2.012\n",
       "Prob(Omnibus):                  0.000   Jarque-Bera (JB):             1655.018\n",
       "Skew:                          -0.410   Prob(JB):                         0.00\n",
       "Kurtosis:                       4.177   Cond. No.                         194.\n",
       "==============================================================================\n",
       "\n",
       "Warnings:\n",
       "[1] Standard Errors assume that the covariance matrix of the errors is correctly specified.\n",
       "\"\"\""
      ]
     },
     "execution_count": 35,
     "metadata": {},
     "output_type": "execute_result"
    }
   ],
   "source": [
    "X_test = sm.add_constant(X_test)\n",
    "results = sm.OLS(y_test,X_test).fit()\n",
    "results.summary()"
   ]
  },
  {
   "cell_type": "markdown",
   "metadata": {},
   "source": [
    "* We improved the model a little bit but It's not enough to predict the target values."
   ]
  },
  {
   "cell_type": "markdown",
   "metadata": {},
   "source": [
    "**Add visibility as additional explanatory variable to the first model and estimate it. Did R-squared increase? What about adjusted R-squared? Compare the differences put on the table by the interaction term and the visibility in terms of the improvement in the adjusted R-squared. Which one is more useful?**"
   ]
  },
  {
   "cell_type": "code",
   "execution_count": 36,
   "metadata": {},
   "outputs": [],
   "source": [
    "X = weather[[\"Humidity\",\"Wind Speed (km/h)\",\"Humidity_wind_speed\",\"Visibility (km)\"]]\n",
    "\n",
    "Y = weather[\"Apparent Temperature (C)\"]-weather[\"Temperature (C)\"]"
   ]
  },
  {
   "cell_type": "code",
   "execution_count": 37,
   "metadata": {},
   "outputs": [],
   "source": [
    "X_train, X_test, y_train, y_test = train_test_split(X, Y, test_size=0.20, random_state=42)"
   ]
  },
  {
   "cell_type": "code",
   "execution_count": 38,
   "metadata": {},
   "outputs": [
    {
     "data": {
      "text/plain": [
       "LinearRegression()"
      ]
     },
     "execution_count": 38,
     "metadata": {},
     "output_type": "execute_result"
    }
   ],
   "source": [
    "model = linear_model.LinearRegression()\n",
    "model.fit(X_train,y_train)"
   ]
  },
  {
   "cell_type": "code",
   "execution_count": 39,
   "metadata": {},
   "outputs": [
    {
     "data": {
      "text/html": [
       "<table class=\"simpletable\">\n",
       "<caption>OLS Regression Results</caption>\n",
       "<tr>\n",
       "  <th>Dep. Variable:</th>            <td>y</td>        <th>  R-squared:         </th> <td>   0.363</td> \n",
       "</tr>\n",
       "<tr>\n",
       "  <th>Model:</th>                   <td>OLS</td>       <th>  Adj. R-squared:    </th> <td>   0.363</td> \n",
       "</tr>\n",
       "<tr>\n",
       "  <th>Method:</th>             <td>Least Squares</td>  <th>  F-statistic:       </th> <td>   2752.</td> \n",
       "</tr>\n",
       "<tr>\n",
       "  <th>Date:</th>             <td>Thu, 17 Sep 2020</td> <th>  Prob (F-statistic):</th>  <td>  0.00</td>  \n",
       "</tr>\n",
       "<tr>\n",
       "  <th>Time:</th>                 <td>20:35:27</td>     <th>  Log-Likelihood:    </th> <td> -33086.</td> \n",
       "</tr>\n",
       "<tr>\n",
       "  <th>No. Observations:</th>      <td> 19291</td>      <th>  AIC:               </th> <td>6.618e+04</td>\n",
       "</tr>\n",
       "<tr>\n",
       "  <th>Df Residuals:</th>          <td> 19286</td>      <th>  BIC:               </th> <td>6.622e+04</td>\n",
       "</tr>\n",
       "<tr>\n",
       "  <th>Df Model:</th>              <td>     4</td>      <th>                     </th>     <td> </td>    \n",
       "</tr>\n",
       "<tr>\n",
       "  <th>Covariance Type:</th>      <td>nonrobust</td>    <th>                     </th>     <td> </td>    \n",
       "</tr>\n",
       "</table>\n",
       "<table class=\"simpletable\">\n",
       "<tr>\n",
       "           <td></td>              <th>coef</th>     <th>std err</th>      <th>t</th>      <th>P>|t|</th>  <th>[0.025</th>    <th>0.975]</th>  \n",
       "</tr>\n",
       "<tr>\n",
       "  <th>const</th>               <td>   -1.2603</td> <td>    0.088</td> <td>  -14.393</td> <td> 0.000</td> <td>   -1.432</td> <td>   -1.089</td>\n",
       "</tr>\n",
       "<tr>\n",
       "  <th>Humidity</th>            <td>    1.0711</td> <td>    0.100</td> <td>   10.747</td> <td> 0.000</td> <td>    0.876</td> <td>    1.266</td>\n",
       "</tr>\n",
       "<tr>\n",
       "  <th>Wind Speed (km/h)</th>   <td>    0.1132</td> <td>    0.006</td> <td>   20.479</td> <td> 0.000</td> <td>    0.102</td> <td>    0.124</td>\n",
       "</tr>\n",
       "<tr>\n",
       "  <th>Humidity_wind_speed</th> <td>   -0.3317</td> <td>    0.008</td> <td>  -43.862</td> <td> 0.000</td> <td>   -0.346</td> <td>   -0.317</td>\n",
       "</tr>\n",
       "<tr>\n",
       "  <th>Visibility (km)</th>     <td>    0.0669</td> <td>    0.002</td> <td>   26.774</td> <td> 0.000</td> <td>    0.062</td> <td>    0.072</td>\n",
       "</tr>\n",
       "</table>\n",
       "<table class=\"simpletable\">\n",
       "<tr>\n",
       "  <th>Omnibus:</th>       <td>1075.191</td> <th>  Durbin-Watson:     </th> <td>   2.011</td>\n",
       "</tr>\n",
       "<tr>\n",
       "  <th>Prob(Omnibus):</th>  <td> 0.000</td>  <th>  Jarque-Bera (JB):  </th> <td>2074.751</td>\n",
       "</tr>\n",
       "<tr>\n",
       "  <th>Skew:</th>           <td>-0.410</td>  <th>  Prob(JB):          </th> <td>    0.00</td>\n",
       "</tr>\n",
       "<tr>\n",
       "  <th>Kurtosis:</th>       <td> 4.382</td>  <th>  Cond. No.          </th> <td>    247.</td>\n",
       "</tr>\n",
       "</table><br/><br/>Warnings:<br/>[1] Standard Errors assume that the covariance matrix of the errors is correctly specified."
      ],
      "text/plain": [
       "<class 'statsmodels.iolib.summary.Summary'>\n",
       "\"\"\"\n",
       "                            OLS Regression Results                            \n",
       "==============================================================================\n",
       "Dep. Variable:                      y   R-squared:                       0.363\n",
       "Model:                            OLS   Adj. R-squared:                  0.363\n",
       "Method:                 Least Squares   F-statistic:                     2752.\n",
       "Date:                Thu, 17 Sep 2020   Prob (F-statistic):               0.00\n",
       "Time:                        20:35:27   Log-Likelihood:                -33086.\n",
       "No. Observations:               19291   AIC:                         6.618e+04\n",
       "Df Residuals:                   19286   BIC:                         6.622e+04\n",
       "Df Model:                           4                                         \n",
       "Covariance Type:            nonrobust                                         \n",
       "=======================================================================================\n",
       "                          coef    std err          t      P>|t|      [0.025      0.975]\n",
       "---------------------------------------------------------------------------------------\n",
       "const                  -1.2603      0.088    -14.393      0.000      -1.432      -1.089\n",
       "Humidity                1.0711      0.100     10.747      0.000       0.876       1.266\n",
       "Wind Speed (km/h)       0.1132      0.006     20.479      0.000       0.102       0.124\n",
       "Humidity_wind_speed    -0.3317      0.008    -43.862      0.000      -0.346      -0.317\n",
       "Visibility (km)         0.0669      0.002     26.774      0.000       0.062       0.072\n",
       "==============================================================================\n",
       "Omnibus:                     1075.191   Durbin-Watson:                   2.011\n",
       "Prob(Omnibus):                  0.000   Jarque-Bera (JB):             2074.751\n",
       "Skew:                          -0.410   Prob(JB):                         0.00\n",
       "Kurtosis:                       4.382   Cond. No.                         247.\n",
       "==============================================================================\n",
       "\n",
       "Warnings:\n",
       "[1] Standard Errors assume that the covariance matrix of the errors is correctly specified.\n",
       "\"\"\""
      ]
     },
     "execution_count": 39,
     "metadata": {},
     "output_type": "execute_result"
    }
   ],
   "source": [
    "X_test = sm.add_constant(X_test)\n",
    "results = sm.OLS(y_test,X_test).fit()\n",
    "results.summary()"
   ]
  },
  {
   "cell_type": "markdown",
   "metadata": {},
   "source": [
    "* There is little change in R-square."
   ]
  },
  {
   "cell_type": "markdown",
   "metadata": {},
   "source": [
    "**Choose the best one from the three models above with respect to their AIC and BIC scores. Validate your choice by discussing your justification with your mentor.**"
   ]
  },
  {
   "cell_type": "markdown",
   "metadata": {},
   "source": [
    "* Smaller AIC and BIC scores are better for us. So, when we looked all scores we should choose last model."
   ]
  },
  {
   "cell_type": "markdown",
   "metadata": {},
   "source": [
    "# 2. House prices model"
   ]
  },
  {
   "cell_type": "markdown",
   "metadata": {},
   "source": [
    "**Load the houseprices data from Kaggle.**"
   ]
  },
  {
   "cell_type": "code",
   "execution_count": 42,
   "metadata": {},
   "outputs": [
    {
     "data": {
      "text/plain": [
       "MSSubClass       0.000\n",
       "LotFrontage     17.740\n",
       "LotArea          0.000\n",
       "OverallQual      0.000\n",
       "OverallCond      0.000\n",
       "YearBuilt        0.000\n",
       "YearRemodAdd     0.000\n",
       "MasVnrArea       0.548\n",
       "BsmtFinSF1       0.000\n",
       "BsmtFinSF2       0.000\n",
       "BsmtUnfSF        0.000\n",
       "TotalBsmtSF      0.000\n",
       "1stFlrSF         0.000\n",
       "2ndFlrSF         0.000\n",
       "LowQualFinSF     0.000\n",
       "GrLivArea        0.000\n",
       "BsmtFullBath     0.000\n",
       "BsmtHalfBath     0.000\n",
       "FullBath         0.000\n",
       "HalfBath         0.000\n",
       "BedroomAbvGr     0.000\n",
       "KitchenAbvGr     0.000\n",
       "TotRmsAbvGrd     0.000\n",
       "Fireplaces       0.000\n",
       "GarageYrBlt      5.548\n",
       "GarageCars       0.000\n",
       "GarageArea       0.000\n",
       "WoodDeckSF       0.000\n",
       "OpenPorchSF      0.000\n",
       "EnclosedPorch    0.000\n",
       "3SsnPorch        0.000\n",
       "ScreenPorch      0.000\n",
       "PoolArea         0.000\n",
       "MiscVal          0.000\n",
       "MoSold           0.000\n",
       "YrSold           0.000\n",
       "SalePrice        0.000\n",
       "dtype: float64"
      ]
     },
     "execution_count": 42,
     "metadata": {},
     "output_type": "execute_result"
    }
   ],
   "source": [
    "house_prices = pd.read_csv(\"data/houseprices.csv\")\n",
    "house = house_prices.select_dtypes(exclude='object')\n",
    "house.isnull().sum()*100/house.shape[0]"
   ]
  },
  {
   "cell_type": "markdown",
   "metadata": {},
   "source": [
    "**Run your house prices model again and assess the goodness of fit of your model using F-test, R-squared, adjusted R-squared, AIC and BIC.**"
   ]
  },
  {
   "cell_type": "code",
   "execution_count": 46,
   "metadata": {},
   "outputs": [],
   "source": [
    "X = house[[x for x in house.columns if x not in [\"LotFrontage\",\"SalePrice\",\"GarageYrBlt\",\"MasVnrArea\"]]]\n",
    "\n",
    "Y = house[\"SalePrice\"]"
   ]
  },
  {
   "cell_type": "code",
   "execution_count": 47,
   "metadata": {},
   "outputs": [],
   "source": [
    "X_train, X_test, y_train, y_test = train_test_split(X, Y, test_size=0.20, random_state=42)"
   ]
  },
  {
   "cell_type": "code",
   "execution_count": 48,
   "metadata": {},
   "outputs": [
    {
     "name": "stdout",
     "output_type": "stream",
     "text": [
      "Coefficents : [-1.75548690e+02  4.09174234e-01  1.84955503e+04  3.83573710e+03\n",
      "  3.37312908e+02  1.80209917e+02  1.00461555e+01 -4.61607099e+00\n",
      "  3.82786747e-01  5.81287122e+00  1.31240039e+01  1.42134340e+01\n",
      "  4.50422890e+00  3.18416668e+01  1.10492803e+04 -3.26518493e+02\n",
      "  3.42606130e+03 -1.66531509e+03 -9.08810085e+03 -1.00971990e+04\n",
      "  5.10100134e+03  4.37021557e+03  1.16074917e+04  5.58607730e-01\n",
      "  2.55639049e+01 -6.62562003e+00  7.06908781e+00  3.85262374e+01\n",
      "  6.55989735e+01 -3.73443286e+01 -7.15692563e-01 -2.09433750e+02\n",
      " -5.14524004e+02]\n",
      "Intercept : -48411.54387291285\n"
     ]
    }
   ],
   "source": [
    "model = linear_model.LinearRegression()\n",
    "model.fit(X_train,y_train)\n",
    "\n",
    "print(\"Coefficents : {}\".format(model.coef_))\n",
    "print(\"Intercept : {}\".format(model.intercept_))"
   ]
  },
  {
   "cell_type": "code",
   "execution_count": 49,
   "metadata": {},
   "outputs": [
    {
     "data": {
      "text/html": [
       "<table class=\"simpletable\">\n",
       "<caption>OLS Regression Results</caption>\n",
       "<tr>\n",
       "  <th>Dep. Variable:</th>        <td>SalePrice</td>    <th>  R-squared:         </th> <td>   0.866</td>\n",
       "</tr>\n",
       "<tr>\n",
       "  <th>Model:</th>                   <td>OLS</td>       <th>  Adj. R-squared:    </th> <td>   0.850</td>\n",
       "</tr>\n",
       "<tr>\n",
       "  <th>Method:</th>             <td>Least Squares</td>  <th>  F-statistic:       </th> <td>   54.04</td>\n",
       "</tr>\n",
       "<tr>\n",
       "  <th>Date:</th>             <td>Thu, 17 Sep 2020</td> <th>  Prob (F-statistic):</th> <td>1.83e-95</td>\n",
       "</tr>\n",
       "<tr>\n",
       "  <th>Time:</th>                 <td>20:51:09</td>     <th>  Log-Likelihood:    </th> <td> -3444.3</td>\n",
       "</tr>\n",
       "<tr>\n",
       "  <th>No. Observations:</th>      <td>   292</td>      <th>  AIC:               </th> <td>   6953.</td>\n",
       "</tr>\n",
       "<tr>\n",
       "  <th>Df Residuals:</th>          <td>   260</td>      <th>  BIC:               </th> <td>   7070.</td>\n",
       "</tr>\n",
       "<tr>\n",
       "  <th>Df Model:</th>              <td>    31</td>      <th>                     </th>     <td> </td>   \n",
       "</tr>\n",
       "<tr>\n",
       "  <th>Covariance Type:</th>      <td>nonrobust</td>    <th>                     </th>     <td> </td>   \n",
       "</tr>\n",
       "</table>\n",
       "<table class=\"simpletable\">\n",
       "<tr>\n",
       "        <td></td>           <th>coef</th>     <th>std err</th>      <th>t</th>      <th>P>|t|</th>  <th>[0.025</th>    <th>0.975]</th>  \n",
       "</tr>\n",
       "<tr>\n",
       "  <th>const</th>         <td>  4.32e+05</td> <td> 3.16e+06</td> <td>    0.137</td> <td> 0.891</td> <td> -5.8e+06</td> <td> 6.66e+06</td>\n",
       "</tr>\n",
       "<tr>\n",
       "  <th>MSSubClass</th>    <td>  -90.3671</td> <td>   60.490</td> <td>   -1.494</td> <td> 0.136</td> <td> -209.479</td> <td>   28.745</td>\n",
       "</tr>\n",
       "<tr>\n",
       "  <th>LotArea</th>       <td>    0.8979</td> <td>    0.403</td> <td>    2.230</td> <td> 0.027</td> <td>    0.105</td> <td>    1.691</td>\n",
       "</tr>\n",
       "<tr>\n",
       "  <th>OverallQual</th>   <td> 1.392e+04</td> <td> 2801.257</td> <td>    4.970</td> <td> 0.000</td> <td> 8406.883</td> <td> 1.94e+04</td>\n",
       "</tr>\n",
       "<tr>\n",
       "  <th>OverallCond</th>   <td> 7562.2941</td> <td> 2367.198</td> <td>    3.195</td> <td> 0.002</td> <td> 2900.973</td> <td> 1.22e+04</td>\n",
       "</tr>\n",
       "<tr>\n",
       "  <th>YearBuilt</th>     <td>  271.1093</td> <td>  147.505</td> <td>    1.838</td> <td> 0.067</td> <td>  -19.348</td> <td>  561.566</td>\n",
       "</tr>\n",
       "<tr>\n",
       "  <th>YearRemodAdd</th>  <td>    0.1949</td> <td>  157.715</td> <td>    0.001</td> <td> 0.999</td> <td> -310.366</td> <td>  310.756</td>\n",
       "</tr>\n",
       "<tr>\n",
       "  <th>BsmtFinSF1</th>    <td>   22.8507</td> <td>    5.732</td> <td>    3.987</td> <td> 0.000</td> <td>   11.564</td> <td>   34.137</td>\n",
       "</tr>\n",
       "<tr>\n",
       "  <th>BsmtFinSF2</th>    <td>    5.7991</td> <td>    9.443</td> <td>    0.614</td> <td> 0.540</td> <td>  -12.796</td> <td>   24.394</td>\n",
       "</tr>\n",
       "<tr>\n",
       "  <th>BsmtUnfSF</th>     <td>    0.3119</td> <td>    5.198</td> <td>    0.060</td> <td> 0.952</td> <td>   -9.924</td> <td>   10.548</td>\n",
       "</tr>\n",
       "<tr>\n",
       "  <th>TotalBsmtSF</th>   <td>   28.9617</td> <td>    7.226</td> <td>    4.008</td> <td> 0.000</td> <td>   14.732</td> <td>   43.191</td>\n",
       "</tr>\n",
       "<tr>\n",
       "  <th>1stFlrSF</th>      <td>   50.7316</td> <td>   13.410</td> <td>    3.783</td> <td> 0.000</td> <td>   24.325</td> <td>   77.138</td>\n",
       "</tr>\n",
       "<tr>\n",
       "  <th>2ndFlrSF</th>      <td>   44.1333</td> <td>   12.616</td> <td>    3.498</td> <td> 0.001</td> <td>   19.290</td> <td>   68.976</td>\n",
       "</tr>\n",
       "<tr>\n",
       "  <th>LowQualFinSF</th>  <td>  -63.4709</td> <td>   32.580</td> <td>   -1.948</td> <td> 0.052</td> <td> -127.626</td> <td>    0.684</td>\n",
       "</tr>\n",
       "<tr>\n",
       "  <th>GrLivArea</th>     <td>   31.3940</td> <td>   12.640</td> <td>    2.484</td> <td> 0.014</td> <td>    6.505</td> <td>   56.283</td>\n",
       "</tr>\n",
       "<tr>\n",
       "  <th>BsmtFullBath</th>  <td>-9932.6861</td> <td> 6126.607</td> <td>   -1.621</td> <td> 0.106</td> <td> -2.2e+04</td> <td> 2131.399</td>\n",
       "</tr>\n",
       "<tr>\n",
       "  <th>BsmtHalfBath</th>  <td> 5540.7283</td> <td> 8857.934</td> <td>    0.626</td> <td> 0.532</td> <td>-1.19e+04</td> <td>  2.3e+04</td>\n",
       "</tr>\n",
       "<tr>\n",
       "  <th>FullBath</th>      <td> 4900.2409</td> <td> 6315.559</td> <td>    0.776</td> <td> 0.439</td> <td>-7535.915</td> <td> 1.73e+04</td>\n",
       "</tr>\n",
       "<tr>\n",
       "  <th>HalfBath</th>      <td>  399.9268</td> <td> 6191.803</td> <td>    0.065</td> <td> 0.949</td> <td>-1.18e+04</td> <td> 1.26e+04</td>\n",
       "</tr>\n",
       "<tr>\n",
       "  <th>BedroomAbvGr</th>  <td>-1.727e+04</td> <td> 3556.616</td> <td>   -4.856</td> <td> 0.000</td> <td>-2.43e+04</td> <td>-1.03e+04</td>\n",
       "</tr>\n",
       "<tr>\n",
       "  <th>KitchenAbvGr</th>  <td>-2.072e+04</td> <td> 1.28e+04</td> <td>   -1.624</td> <td> 0.106</td> <td>-4.58e+04</td> <td> 4405.795</td>\n",
       "</tr>\n",
       "<tr>\n",
       "  <th>TotRmsAbvGrd</th>  <td> 3021.1555</td> <td> 2670.327</td> <td>    1.131</td> <td> 0.259</td> <td>-2237.065</td> <td> 8279.376</td>\n",
       "</tr>\n",
       "<tr>\n",
       "  <th>Fireplaces</th>    <td>-2423.8765</td> <td> 4062.648</td> <td>   -0.597</td> <td> 0.551</td> <td>-1.04e+04</td> <td> 5576.006</td>\n",
       "</tr>\n",
       "<tr>\n",
       "  <th>GarageCars</th>    <td>  1.11e+04</td> <td> 6271.765</td> <td>    1.770</td> <td> 0.078</td> <td>-1249.130</td> <td> 2.35e+04</td>\n",
       "</tr>\n",
       "<tr>\n",
       "  <th>GarageArea</th>    <td>   -5.4155</td> <td>   20.731</td> <td>   -0.261</td> <td> 0.794</td> <td>  -46.237</td> <td>   35.406</td>\n",
       "</tr>\n",
       "<tr>\n",
       "  <th>WoodDeckSF</th>    <td>   55.2175</td> <td>   21.317</td> <td>    2.590</td> <td> 0.010</td> <td>   13.242</td> <td>   97.194</td>\n",
       "</tr>\n",
       "<tr>\n",
       "  <th>OpenPorchSF</th>   <td>   69.5084</td> <td>   46.325</td> <td>    1.500</td> <td> 0.135</td> <td>  -21.712</td> <td>  160.729</td>\n",
       "</tr>\n",
       "<tr>\n",
       "  <th>EnclosedPorch</th> <td>  -23.5603</td> <td>   40.525</td> <td>   -0.581</td> <td> 0.561</td> <td> -103.359</td> <td>   56.239</td>\n",
       "</tr>\n",
       "<tr>\n",
       "  <th>3SsnPorch</th>     <td> -212.2752</td> <td>  114.679</td> <td>   -1.851</td> <td> 0.065</td> <td> -438.094</td> <td>   13.543</td>\n",
       "</tr>\n",
       "<tr>\n",
       "  <th>ScreenPorch</th>   <td>   25.8486</td> <td>   38.777</td> <td>    0.667</td> <td> 0.506</td> <td>  -50.509</td> <td>  102.206</td>\n",
       "</tr>\n",
       "<tr>\n",
       "  <th>PoolArea</th>      <td>   49.2722</td> <td>   60.560</td> <td>    0.814</td> <td> 0.417</td> <td>  -69.979</td> <td>  168.523</td>\n",
       "</tr>\n",
       "<tr>\n",
       "  <th>MiscVal</th>       <td>   11.6799</td> <td>   27.792</td> <td>    0.420</td> <td> 0.675</td> <td>  -43.046</td> <td>   66.406</td>\n",
       "</tr>\n",
       "<tr>\n",
       "  <th>MoSold</th>        <td>  912.7795</td> <td>  754.763</td> <td>    1.209</td> <td> 0.228</td> <td> -573.447</td> <td> 2399.006</td>\n",
       "</tr>\n",
       "<tr>\n",
       "  <th>YrSold</th>        <td> -526.3356</td> <td> 1570.760</td> <td>   -0.335</td> <td> 0.738</td> <td>-3619.367</td> <td> 2566.696</td>\n",
       "</tr>\n",
       "</table>\n",
       "<table class=\"simpletable\">\n",
       "<tr>\n",
       "  <th>Omnibus:</th>       <td>130.967</td> <th>  Durbin-Watson:     </th> <td>   2.020</td> \n",
       "</tr>\n",
       "<tr>\n",
       "  <th>Prob(Omnibus):</th> <td> 0.000</td>  <th>  Jarque-Bera (JB):  </th> <td>1259.031</td> \n",
       "</tr>\n",
       "<tr>\n",
       "  <th>Skew:</th>          <td> 1.558</td>  <th>  Prob(JB):          </th> <td>4.03e-274</td>\n",
       "</tr>\n",
       "<tr>\n",
       "  <th>Kurtosis:</th>      <td>12.684</td>  <th>  Cond. No.          </th> <td>1.13e+16</td> \n",
       "</tr>\n",
       "</table><br/><br/>Warnings:<br/>[1] Standard Errors assume that the covariance matrix of the errors is correctly specified.<br/>[2] The smallest eigenvalue is 3.32e-22. This might indicate that there are<br/>strong multicollinearity problems or that the design matrix is singular."
      ],
      "text/plain": [
       "<class 'statsmodels.iolib.summary.Summary'>\n",
       "\"\"\"\n",
       "                            OLS Regression Results                            \n",
       "==============================================================================\n",
       "Dep. Variable:              SalePrice   R-squared:                       0.866\n",
       "Model:                            OLS   Adj. R-squared:                  0.850\n",
       "Method:                 Least Squares   F-statistic:                     54.04\n",
       "Date:                Thu, 17 Sep 2020   Prob (F-statistic):           1.83e-95\n",
       "Time:                        20:51:09   Log-Likelihood:                -3444.3\n",
       "No. Observations:                 292   AIC:                             6953.\n",
       "Df Residuals:                     260   BIC:                             7070.\n",
       "Df Model:                          31                                         \n",
       "Covariance Type:            nonrobust                                         \n",
       "=================================================================================\n",
       "                    coef    std err          t      P>|t|      [0.025      0.975]\n",
       "---------------------------------------------------------------------------------\n",
       "const           4.32e+05   3.16e+06      0.137      0.891    -5.8e+06    6.66e+06\n",
       "MSSubClass      -90.3671     60.490     -1.494      0.136    -209.479      28.745\n",
       "LotArea           0.8979      0.403      2.230      0.027       0.105       1.691\n",
       "OverallQual    1.392e+04   2801.257      4.970      0.000    8406.883    1.94e+04\n",
       "OverallCond    7562.2941   2367.198      3.195      0.002    2900.973    1.22e+04\n",
       "YearBuilt       271.1093    147.505      1.838      0.067     -19.348     561.566\n",
       "YearRemodAdd      0.1949    157.715      0.001      0.999    -310.366     310.756\n",
       "BsmtFinSF1       22.8507      5.732      3.987      0.000      11.564      34.137\n",
       "BsmtFinSF2        5.7991      9.443      0.614      0.540     -12.796      24.394\n",
       "BsmtUnfSF         0.3119      5.198      0.060      0.952      -9.924      10.548\n",
       "TotalBsmtSF      28.9617      7.226      4.008      0.000      14.732      43.191\n",
       "1stFlrSF         50.7316     13.410      3.783      0.000      24.325      77.138\n",
       "2ndFlrSF         44.1333     12.616      3.498      0.001      19.290      68.976\n",
       "LowQualFinSF    -63.4709     32.580     -1.948      0.052    -127.626       0.684\n",
       "GrLivArea        31.3940     12.640      2.484      0.014       6.505      56.283\n",
       "BsmtFullBath  -9932.6861   6126.607     -1.621      0.106    -2.2e+04    2131.399\n",
       "BsmtHalfBath   5540.7283   8857.934      0.626      0.532   -1.19e+04     2.3e+04\n",
       "FullBath       4900.2409   6315.559      0.776      0.439   -7535.915    1.73e+04\n",
       "HalfBath        399.9268   6191.803      0.065      0.949   -1.18e+04    1.26e+04\n",
       "BedroomAbvGr  -1.727e+04   3556.616     -4.856      0.000   -2.43e+04   -1.03e+04\n",
       "KitchenAbvGr  -2.072e+04   1.28e+04     -1.624      0.106   -4.58e+04    4405.795\n",
       "TotRmsAbvGrd   3021.1555   2670.327      1.131      0.259   -2237.065    8279.376\n",
       "Fireplaces    -2423.8765   4062.648     -0.597      0.551   -1.04e+04    5576.006\n",
       "GarageCars      1.11e+04   6271.765      1.770      0.078   -1249.130    2.35e+04\n",
       "GarageArea       -5.4155     20.731     -0.261      0.794     -46.237      35.406\n",
       "WoodDeckSF       55.2175     21.317      2.590      0.010      13.242      97.194\n",
       "OpenPorchSF      69.5084     46.325      1.500      0.135     -21.712     160.729\n",
       "EnclosedPorch   -23.5603     40.525     -0.581      0.561    -103.359      56.239\n",
       "3SsnPorch      -212.2752    114.679     -1.851      0.065    -438.094      13.543\n",
       "ScreenPorch      25.8486     38.777      0.667      0.506     -50.509     102.206\n",
       "PoolArea         49.2722     60.560      0.814      0.417     -69.979     168.523\n",
       "MiscVal          11.6799     27.792      0.420      0.675     -43.046      66.406\n",
       "MoSold          912.7795    754.763      1.209      0.228    -573.447    2399.006\n",
       "YrSold         -526.3356   1570.760     -0.335      0.738   -3619.367    2566.696\n",
       "==============================================================================\n",
       "Omnibus:                      130.967   Durbin-Watson:                   2.020\n",
       "Prob(Omnibus):                  0.000   Jarque-Bera (JB):             1259.031\n",
       "Skew:                           1.558   Prob(JB):                    4.03e-274\n",
       "Kurtosis:                      12.684   Cond. No.                     1.13e+16\n",
       "==============================================================================\n",
       "\n",
       "Warnings:\n",
       "[1] Standard Errors assume that the covariance matrix of the errors is correctly specified.\n",
       "[2] The smallest eigenvalue is 3.32e-22. This might indicate that there are\n",
       "strong multicollinearity problems or that the design matrix is singular.\n",
       "\"\"\""
      ]
     },
     "execution_count": 49,
     "metadata": {},
     "output_type": "execute_result"
    }
   ],
   "source": [
    "X_test = sm.add_constant(X_test)\n",
    "results = sm.OLS(y_test,X_test).fit()\n",
    "results.summary()"
   ]
  },
  {
   "cell_type": "markdown",
   "metadata": {},
   "source": [
    "* *F-statistic:\t54.04*\n",
    "* R-squared, adjusted R-squared are very satisfying. \n",
    "* AIC:\t6953. BIC:\t7070."
   ]
  },
  {
   "cell_type": "markdown",
   "metadata": {},
   "source": [
    "**Do you think your model is satisfactory? If so, why?**"
   ]
  },
  {
   "cell_type": "markdown",
   "metadata": {},
   "source": [
    "I think, I found a good model because of R-squared value. We have 86 percent success on the target value. "
   ]
  },
  {
   "cell_type": "markdown",
   "metadata": {},
   "source": [
    "**In order to improve the goodness of fit of your model, try different model specifications by adding or removing some variables.**"
   ]
  },
  {
   "cell_type": "code",
   "execution_count": 79,
   "metadata": {},
   "outputs": [],
   "source": [
    "house[\"LotArea_year\"] = house[\"LotArea\"] * house [\"YearBuilt\"]\n",
    "house[\"LotArea_ov_qual\"] = house[\"LotArea\"] * house[\"OverallQual\"]\n",
    "house[\"LotArea_ov_cond\"] = house[\"LotArea\"] * house[\"OverallCond\"]"
   ]
  },
  {
   "cell_type": "code",
   "execution_count": 80,
   "metadata": {},
   "outputs": [],
   "source": [
    "X = house[[\"LotArea\",\"OverallQual\",\"LotArea_ov_qual\",\"OverallCond\",\"LotArea_ov_cond\",\"YearBuilt\",\"LotArea_year\",\"BsmtFinSF1\",\"TotalBsmtSF\",\"1stFlrSF\",\"2ndFlrSF\",\"LowQualFinSF\",\"GrLivArea\",\"BedroomAbvGr\",\"GarageCars\",\"WoodDeckSF\"]]\n",
    "Y = house[\"SalePrice\"]"
   ]
  },
  {
   "cell_type": "code",
   "execution_count": 81,
   "metadata": {},
   "outputs": [],
   "source": [
    "X_train, X_test, y_train, y_test = train_test_split(X, Y, test_size=0.20, random_state=42)"
   ]
  },
  {
   "cell_type": "code",
   "execution_count": 82,
   "metadata": {},
   "outputs": [
    {
     "name": "stdout",
     "output_type": "stream",
     "text": [
      "Coefficents : [ 3.35425844e+00  2.16258713e+04 -1.54901426e-01  5.39138015e+03\n",
      "  1.25307311e-02  4.04086485e+02 -9.87460614e-04  1.58351610e+01\n",
      "  8.03618592e+00  2.00907087e+01  1.19322688e+01  7.55342231e+00\n",
      "  3.95763998e+01 -5.26649113e+03  1.33128067e+04  2.60336400e+01]\n",
      "Intercept : -897698.9021217629\n"
     ]
    }
   ],
   "source": [
    "model = linear_model.LinearRegression()\n",
    "model.fit(X_train,y_train)\n",
    "\n",
    "print(\"Coefficents : {}\".format(model.coef_))\n",
    "print(\"Intercept : {}\".format(model.intercept_))"
   ]
  },
  {
   "cell_type": "code",
   "execution_count": 83,
   "metadata": {},
   "outputs": [
    {
     "data": {
      "text/html": [
       "<table class=\"simpletable\">\n",
       "<caption>OLS Regression Results</caption>\n",
       "<tr>\n",
       "  <th>Dep. Variable:</th>        <td>SalePrice</td>    <th>  R-squared:         </th> <td>   0.874</td> \n",
       "</tr>\n",
       "<tr>\n",
       "  <th>Model:</th>                   <td>OLS</td>       <th>  Adj. R-squared:    </th> <td>   0.867</td> \n",
       "</tr>\n",
       "<tr>\n",
       "  <th>Method:</th>             <td>Least Squares</td>  <th>  F-statistic:       </th> <td>   127.3</td> \n",
       "</tr>\n",
       "<tr>\n",
       "  <th>Date:</th>             <td>Fri, 18 Sep 2020</td> <th>  Prob (F-statistic):</th> <td>2.02e-114</td>\n",
       "</tr>\n",
       "<tr>\n",
       "  <th>Time:</th>                 <td>09:13:40</td>     <th>  Log-Likelihood:    </th> <td> -3435.2</td> \n",
       "</tr>\n",
       "<tr>\n",
       "  <th>No. Observations:</th>      <td>   292</td>      <th>  AIC:               </th> <td>   6902.</td> \n",
       "</tr>\n",
       "<tr>\n",
       "  <th>Df Residuals:</th>          <td>   276</td>      <th>  BIC:               </th> <td>   6961.</td> \n",
       "</tr>\n",
       "<tr>\n",
       "  <th>Df Model:</th>              <td>    15</td>      <th>                     </th>     <td> </td>    \n",
       "</tr>\n",
       "<tr>\n",
       "  <th>Covariance Type:</th>      <td>nonrobust</td>    <th>                     </th>     <td> </td>    \n",
       "</tr>\n",
       "</table>\n",
       "<table class=\"simpletable\">\n",
       "<tr>\n",
       "         <td></td>            <th>coef</th>     <th>std err</th>      <th>t</th>      <th>P>|t|</th>  <th>[0.025</th>    <th>0.975]</th>  \n",
       "</tr>\n",
       "<tr>\n",
       "  <th>const</th>           <td>  2.16e+05</td> <td> 4.21e+05</td> <td>    0.513</td> <td> 0.608</td> <td>-6.13e+05</td> <td> 1.04e+06</td>\n",
       "</tr>\n",
       "<tr>\n",
       "  <th>LotArea</th>         <td>  -94.2967</td> <td>   41.399</td> <td>   -2.278</td> <td> 0.024</td> <td> -175.794</td> <td>  -12.800</td>\n",
       "</tr>\n",
       "<tr>\n",
       "  <th>OverallQual</th>     <td> -709.8159</td> <td> 4133.514</td> <td>   -0.172</td> <td> 0.864</td> <td>-8847.036</td> <td> 7427.405</td>\n",
       "</tr>\n",
       "<tr>\n",
       "  <th>LotArea_ov_qual</th> <td>    1.5008</td> <td>    0.324</td> <td>    4.635</td> <td> 0.000</td> <td>    0.863</td> <td>    2.138</td>\n",
       "</tr>\n",
       "<tr>\n",
       "  <th>OverallCond</th>     <td> 2369.0293</td> <td> 3539.845</td> <td>    0.669</td> <td> 0.504</td> <td>-4599.497</td> <td> 9337.556</td>\n",
       "</tr>\n",
       "<tr>\n",
       "  <th>LotArea_ov_cond</th> <td>    0.4984</td> <td>    0.303</td> <td>    1.646</td> <td> 0.101</td> <td>   -0.098</td> <td>    1.095</td>\n",
       "</tr>\n",
       "<tr>\n",
       "  <th>YearBuilt</th>       <td> -104.2656</td> <td>  214.509</td> <td>   -0.486</td> <td> 0.627</td> <td> -526.548</td> <td>  318.016</td>\n",
       "</tr>\n",
       "<tr>\n",
       "  <th>LotArea_year</th>    <td>    0.0422</td> <td>    0.021</td> <td>    1.990</td> <td> 0.048</td> <td>    0.000</td> <td>    0.084</td>\n",
       "</tr>\n",
       "<tr>\n",
       "  <th>BsmtFinSF1</th>      <td>   18.0891</td> <td>    5.436</td> <td>    3.328</td> <td> 0.001</td> <td>    7.388</td> <td>   28.790</td>\n",
       "</tr>\n",
       "<tr>\n",
       "  <th>TotalBsmtSF</th>     <td>   31.3611</td> <td>    7.870</td> <td>    3.985</td> <td> 0.000</td> <td>   15.868</td> <td>   46.854</td>\n",
       "</tr>\n",
       "<tr>\n",
       "  <th>1stFlrSF</th>        <td>   40.1380</td> <td>   11.565</td> <td>    3.471</td> <td> 0.001</td> <td>   17.371</td> <td>   62.905</td>\n",
       "</tr>\n",
       "<tr>\n",
       "  <th>2ndFlrSF</th>        <td>   34.7724</td> <td>   10.701</td> <td>    3.249</td> <td> 0.001</td> <td>   13.705</td> <td>   55.839</td>\n",
       "</tr>\n",
       "<tr>\n",
       "  <th>LowQualFinSF</th>    <td>  -36.7325</td> <td>   29.061</td> <td>   -1.264</td> <td> 0.207</td> <td>  -93.942</td> <td>   20.477</td>\n",
       "</tr>\n",
       "<tr>\n",
       "  <th>GrLivArea</th>       <td>   38.1779</td> <td>   10.160</td> <td>    3.758</td> <td> 0.000</td> <td>   18.177</td> <td>   58.179</td>\n",
       "</tr>\n",
       "<tr>\n",
       "  <th>BedroomAbvGr</th>    <td>-1.096e+04</td> <td> 2958.275</td> <td>   -3.705</td> <td> 0.000</td> <td>-1.68e+04</td> <td>-5135.606</td>\n",
       "</tr>\n",
       "<tr>\n",
       "  <th>GarageCars</th>      <td> 1.483e+04</td> <td> 3579.848</td> <td>    4.143</td> <td> 0.000</td> <td> 7785.067</td> <td> 2.19e+04</td>\n",
       "</tr>\n",
       "<tr>\n",
       "  <th>WoodDeckSF</th>      <td>   34.1556</td> <td>   19.181</td> <td>    1.781</td> <td> 0.076</td> <td>   -3.604</td> <td>   71.916</td>\n",
       "</tr>\n",
       "</table>\n",
       "<table class=\"simpletable\">\n",
       "<tr>\n",
       "  <th>Omnibus:</th>       <td>102.807</td> <th>  Durbin-Watson:     </th> <td>   2.126</td> \n",
       "</tr>\n",
       "<tr>\n",
       "  <th>Prob(Omnibus):</th> <td> 0.000</td>  <th>  Jarque-Bera (JB):  </th> <td> 732.694</td> \n",
       "</tr>\n",
       "<tr>\n",
       "  <th>Skew:</th>          <td> 1.235</td>  <th>  Prob(JB):          </th> <td>7.90e-160</td>\n",
       "</tr>\n",
       "<tr>\n",
       "  <th>Kurtosis:</th>      <td>10.357</td>  <th>  Cond. No.          </th> <td>2.05e+20</td> \n",
       "</tr>\n",
       "</table><br/><br/>Warnings:<br/>[1] Standard Errors assume that the covariance matrix of the errors is correctly specified.<br/>[2] The smallest eigenvalue is 3.53e-24. This might indicate that there are<br/>strong multicollinearity problems or that the design matrix is singular."
      ],
      "text/plain": [
       "<class 'statsmodels.iolib.summary.Summary'>\n",
       "\"\"\"\n",
       "                            OLS Regression Results                            \n",
       "==============================================================================\n",
       "Dep. Variable:              SalePrice   R-squared:                       0.874\n",
       "Model:                            OLS   Adj. R-squared:                  0.867\n",
       "Method:                 Least Squares   F-statistic:                     127.3\n",
       "Date:                Fri, 18 Sep 2020   Prob (F-statistic):          2.02e-114\n",
       "Time:                        09:13:40   Log-Likelihood:                -3435.2\n",
       "No. Observations:                 292   AIC:                             6902.\n",
       "Df Residuals:                     276   BIC:                             6961.\n",
       "Df Model:                          15                                         \n",
       "Covariance Type:            nonrobust                                         \n",
       "===================================================================================\n",
       "                      coef    std err          t      P>|t|      [0.025      0.975]\n",
       "-----------------------------------------------------------------------------------\n",
       "const             2.16e+05   4.21e+05      0.513      0.608   -6.13e+05    1.04e+06\n",
       "LotArea           -94.2967     41.399     -2.278      0.024    -175.794     -12.800\n",
       "OverallQual      -709.8159   4133.514     -0.172      0.864   -8847.036    7427.405\n",
       "LotArea_ov_qual     1.5008      0.324      4.635      0.000       0.863       2.138\n",
       "OverallCond      2369.0293   3539.845      0.669      0.504   -4599.497    9337.556\n",
       "LotArea_ov_cond     0.4984      0.303      1.646      0.101      -0.098       1.095\n",
       "YearBuilt        -104.2656    214.509     -0.486      0.627    -526.548     318.016\n",
       "LotArea_year        0.0422      0.021      1.990      0.048       0.000       0.084\n",
       "BsmtFinSF1         18.0891      5.436      3.328      0.001       7.388      28.790\n",
       "TotalBsmtSF        31.3611      7.870      3.985      0.000      15.868      46.854\n",
       "1stFlrSF           40.1380     11.565      3.471      0.001      17.371      62.905\n",
       "2ndFlrSF           34.7724     10.701      3.249      0.001      13.705      55.839\n",
       "LowQualFinSF      -36.7325     29.061     -1.264      0.207     -93.942      20.477\n",
       "GrLivArea          38.1779     10.160      3.758      0.000      18.177      58.179\n",
       "BedroomAbvGr    -1.096e+04   2958.275     -3.705      0.000   -1.68e+04   -5135.606\n",
       "GarageCars       1.483e+04   3579.848      4.143      0.000    7785.067    2.19e+04\n",
       "WoodDeckSF         34.1556     19.181      1.781      0.076      -3.604      71.916\n",
       "==============================================================================\n",
       "Omnibus:                      102.807   Durbin-Watson:                   2.126\n",
       "Prob(Omnibus):                  0.000   Jarque-Bera (JB):              732.694\n",
       "Skew:                           1.235   Prob(JB):                    7.90e-160\n",
       "Kurtosis:                      10.357   Cond. No.                     2.05e+20\n",
       "==============================================================================\n",
       "\n",
       "Warnings:\n",
       "[1] Standard Errors assume that the covariance matrix of the errors is correctly specified.\n",
       "[2] The smallest eigenvalue is 3.53e-24. This might indicate that there are\n",
       "strong multicollinearity problems or that the design matrix is singular.\n",
       "\"\"\""
      ]
     },
     "execution_count": 83,
     "metadata": {},
     "output_type": "execute_result"
    }
   ],
   "source": [
    "X_test = sm.add_constant(X_test)\n",
    "results = sm.OLS(y_test,X_test).fit()\n",
    "results.summary()"
   ]
  },
  {
   "cell_type": "markdown",
   "metadata": {},
   "source": [
    "**For each model you try, get the goodness of fit metrics and compare your models with each other. Which model is the best and why?**"
   ]
  },
  {
   "cell_type": "markdown",
   "metadata": {},
   "source": [
    "I think last model is the best model which we got. If we compare the r-squared values, I think 0.87 enough for our model."
   ]
  },
  {
   "cell_type": "code",
   "execution_count": null,
   "metadata": {},
   "outputs": [],
   "source": []
  }
 ],
 "metadata": {
  "kernelspec": {
   "display_name": "Python 3",
   "language": "python",
   "name": "python3"
  },
  "language_info": {
   "codemirror_mode": {
    "name": "ipython",
    "version": 3
   },
   "file_extension": ".py",
   "mimetype": "text/x-python",
   "name": "python",
   "nbconvert_exporter": "python",
   "pygments_lexer": "ipython3",
   "version": "3.8.3"
  }
 },
 "nbformat": 4,
 "nbformat_minor": 4
}
