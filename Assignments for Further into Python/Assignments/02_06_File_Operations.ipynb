{
 "cells": [
  {
   "cell_type": "markdown",
   "metadata": {},
   "source": [
    "# Assignments for \"File Operations\""
   ]
  },
  {
   "cell_type": "markdown",
   "metadata": {},
   "source": [
    "1. Please write a poem you wanted in a `.txt` file and save it to the disk."
   ]
  },
  {
   "cell_type": "code",
   "execution_count": 4,
   "metadata": {},
   "outputs": [],
   "source": [
    "with open('poem.txt','w') as f:\n",
    "    f.write(\"\"\"In my night, so brief, alas\\n\\\n",
    "    The wind is about to meet the leaves.\\n\\\n",
    "    My night so brief is filled with devastating anguish\\n\\\n",
    "    Hark! Do you hear the whisper of the shadows?\\n\\\n",
    "    This happiness feels foreign to me.\\n\\\n",
    "    I am accustomed to despair.\\n\\\n",
    "    Hark! Do you hear the whisper of the shadows?\\n\\\n",
    "    There, in the night, something is happening\\n\"\"\")"
   ]
  },
  {
   "cell_type": "markdown",
   "metadata": {},
   "source": [
    "2. Append a new poem into the file you have created."
   ]
  },
  {
   "cell_type": "code",
   "execution_count": 5,
   "metadata": {},
   "outputs": [],
   "source": [
    "with open('poem.txt','a') as f:\n",
    "    f.write(\"\"\"The moon is red and anxious.\\n\\\n",
    "    And, clinging to this roof\\n\\\n",
    "    That could collapse at any moment,\\n\\\n",
    "    The clouds, like a crowd of mourning women,\\n\\\n",
    "    Await the birth of the rain.\\n\\\n",
    "    One second, and then nothing.\\n\\\n",
    "    Behind this window,\\n\\\n",
    "    The night trembles\\n\\\n",
    "    And the earth stops spinning.\\n\\\n",
    "    Behind this window, a stranger\\n\\\n",
    "    Worries about me and you.\\n\\\n",
    "    You in your greenery,\\n\\\n",
    "    Lay your hands – those burning memories –\\n\\\n",
    "    On my loving hands.\\n\\\n",
    "    And entrust your lips, replete with life's warmth,\\n\\\n",
    "    To the touch of my loving lips\\n\\\n",
    "    The wind will carry us!\\n\\\n",
    "    The wind will carry us!\\n\\\n",
    "    Forough Farrokhzad\"\"\")"
   ]
  },
  {
   "cell_type": "markdown",
   "metadata": {},
   "source": [
    "3. Read and print all poems."
   ]
  },
  {
   "cell_type": "code",
   "execution_count": 6,
   "metadata": {},
   "outputs": [
    {
     "name": "stdout",
     "output_type": "stream",
     "text": [
      "In my night, so brief, alas\n",
      "    The wind is about to meet the leaves.\n",
      "    My night so brief is filled with devastating anguish\n",
      "    Hark! Do you hear the whisper of the shadows?\n",
      "    This happiness feels foreign to me.\n",
      "    I am accustomed to despair.\n",
      "    Hark! Do you hear the whisper of the shadows?\n",
      "    There, in the night, something is happening\n",
      "The moon is red and anxious.\n",
      "    And, clinging to this roof\n",
      "    That could collapse at any moment,\n",
      "    The clouds, like a crowd of mourning women,\n",
      "    Await the birth of the rain.\n",
      "    One second, and then nothing.\n",
      "    Behind this window,\n",
      "    The night trembles\n",
      "    And the earth stops spinning.\n",
      "    Behind this window, a stranger\n",
      "    Worries about me and you.\n",
      "    You in your greenery,\n",
      "    Lay your hands – those burning memories –\n",
      "    On my loving hands.\n",
      "    And entrust your lips, replete with life's warmth,\n",
      "    To the touch of my loving lips\n",
      "    The wind will carry us!\n",
      "    The wind will carry us!\n",
      "    Forough Farrokhzad\n"
     ]
    }
   ],
   "source": [
    "with open('poem.txt','r') as f:\n",
    "    print(f.read())"
   ]
  }
 ],
 "metadata": {
  "kernelspec": {
   "display_name": "Python 3",
   "language": "python",
   "name": "python3"
  },
  "language_info": {
   "codemirror_mode": {
    "name": "ipython",
    "version": 3
   },
   "file_extension": ".py",
   "mimetype": "text/x-python",
   "name": "python",
   "nbconvert_exporter": "python",
   "pygments_lexer": "ipython3",
   "version": "3.8.3"
  }
 },
 "nbformat": 4,
 "nbformat_minor": 4
}
