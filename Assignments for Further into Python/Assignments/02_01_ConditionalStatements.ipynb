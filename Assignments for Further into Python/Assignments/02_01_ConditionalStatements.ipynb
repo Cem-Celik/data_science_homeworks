{
 "cells": [
  {
   "cell_type": "markdown",
   "metadata": {},
   "source": [
    "# Assignments for \"Conditional Statements\""
   ]
  },
  {
   "cell_type": "markdown",
   "metadata": {},
   "source": [
    "1. Please get Celcius or Fahrenheit degrees from users and type a code to convert these heat units to each other.  \n",
    "    For conversion, please use this formula: C = (5/9) * (F - 32)\n",
    "    \n",
    "        Example : \"40C\" --> \"104F\"\n",
    "                  \"52F\" --> \"11.1C\""
   ]
  },
  {
   "cell_type": "code",
   "execution_count": null,
   "metadata": {},
   "outputs": [],
   "source": [
    "degree = input(\"Please enter your degree (e.g. 15F , 20C)\")\n",
    "\n",
    "if degree[-1] == 'C':\n",
    "    other = (int(degree[0:2]) *(9/5))+32\n",
    "    print(\"{} -----> {:.1f}F\".format(degree,other))\n",
    "elif degree[-1] == 'F':\n",
    "    other = ((int(degree[0:2])-32)*(5/9))\n",
    "    print(\"{} -----> {:.1f}C\".format(degree,other))\n",
    "else:\n",
    "    print(\"Your input is invalid\")"
   ]
  },
  {
   "cell_type": "markdown",
   "metadata": {},
   "source": [
    "2. A company decided to give a bonus of 5% to the employees if his/her year of service is more than 5 years.\n",
    "Ask the user for their salary and year of service and print the net bonus amount."
   ]
  },
  {
   "cell_type": "code",
   "execution_count": null,
   "metadata": {},
   "outputs": [],
   "source": [
    "salary = int(input(\"Please enter your salary : \"))\n",
    "year_of_service = int(input(\"Please enter your year of service :\"))\n",
    "\n",
    "if(year_of_service > 5):\n",
    "    print(salary*0.05)\n",
    "else:\n",
    "    print(\"You have 0 bonus\")\n",
    "    "
   ]
  },
  {
   "cell_type": "markdown",
   "metadata": {},
   "source": [
    "3. Take input of ages of 3 people by the user and determine the oldest and youngest among them."
   ]
  },
  {
   "cell_type": "code",
   "execution_count": 10,
   "metadata": {},
   "outputs": [
    {
     "name": "stdout",
     "output_type": "stream",
     "text": [
      "Type your age : 15\n",
      "Type your age : 6\n",
      "Type your age : 9\n",
      "This is oldest : 15\n",
      "This is youngest : 6 \n"
     ]
    }
   ],
   "source": [
    "three_people=[]\n",
    "for x in range(3):\n",
    "    three_people.append(int(input(\"Type your age : \"))) \n",
    "\n",
    "\n",
    "oldest = three_people[0];\n",
    "youngest = three_people[0];\n",
    "for x in range(3):\n",
    "    if oldest < three_people[x]:\n",
    "        oldest = three_people[x]\n",
    "for x in range(3):\n",
    "    if youngest > three_people[x]:\n",
    "        youngest = three_people[x]\n",
    "print(\"This is oldest : {}\".format(oldest))\n",
    "print(\"This is youngest : {} \".format(youngest))"
   ]
  },
  {
   "cell_type": "markdown",
   "metadata": {},
   "source": [
    "4. A student will not be allowed to attend to the exam if his / her attendance to classes is less than 75%. Take followings input from the user:\n",
    "    - Number of classes held,\n",
    "    - Number of classes attended.\n",
    "   \n",
    "    Then, print the percentage of classes attended and whether the student is allowed to attend in an exam or not."
   ]
  },
  {
   "cell_type": "code",
   "execution_count": 12,
   "metadata": {},
   "outputs": [
    {
     "name": "stdout",
     "output_type": "stream",
     "text": [
      "Please type number of classes held :100\n",
      "Please type number of classes attended :76\n",
      "You are allowed for exam\n"
     ]
    }
   ],
   "source": [
    "number_held = int(input(\"Please type number of classes held :\"))\n",
    "number_attended = int(input(\"Please type number of classes attended :\"))\n",
    "\n",
    "if (100*number_attended/number_held) < 75:\n",
    "    print(\"Your are not allowed to attend in an exam\")\n",
    "else:\n",
    "    print(\"You are allowed for exam\")"
   ]
  },
  {
   "cell_type": "markdown",
   "metadata": {},
   "source": [
    "5. In this exercise, you will create a program that reads a letter of the alphabet from the user. According to the answer:\n",
    "\n",
    "    - If the user enters `a, e, i, o, u`, then your program should display a message indicating that the entered letter is a vowel.\n",
    "    - If the user enters `y`, then your program should display a message indicating that y is sometimes a vowel and sometimes a consonant.\n",
    "    - Otherwise, your program should display a message indicating that the letter is a consonant."
   ]
  },
  {
   "cell_type": "code",
   "execution_count": 18,
   "metadata": {},
   "outputs": [
    {
     "name": "stdout",
     "output_type": "stream",
     "text": [
      "Type a letter for us  : z\n",
      "Entered letter is 'z' a constant letter\n"
     ]
    }
   ],
   "source": [
    "chrt = input(\"Type a letter for us  : \")\n",
    "\n",
    "vowel = ['a','e','i','o','u']\n",
    "\n",
    "if chrt in vowel:\n",
    "    print(\"Entered letter is '{}' and that is a vowel\".format(chrt))\n",
    "elif chrt=='y':\n",
    "    print(\" 'y' letter is sometimes a vowel and sometimes a constant\")\n",
    "else:\n",
    "    print(\"Entered letter is '{}' a constant letter\".format(chrt))"
   ]
  }
 ],
 "metadata": {
  "kernelspec": {
   "display_name": "Python 3",
   "language": "python",
   "name": "python3"
  },
  "language_info": {
   "codemirror_mode": {
    "name": "ipython",
    "version": 3
   },
   "file_extension": ".py",
   "mimetype": "text/x-python",
   "name": "python",
   "nbconvert_exporter": "python",
   "pygments_lexer": "ipython3",
   "version": "3.8.3"
  }
 },
 "nbformat": 4,
 "nbformat_minor": 4
}
