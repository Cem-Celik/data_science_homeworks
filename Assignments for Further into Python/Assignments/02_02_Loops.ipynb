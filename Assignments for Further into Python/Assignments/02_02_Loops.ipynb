{
 "cells": [
  {
   "cell_type": "markdown",
   "metadata": {},
   "source": [
    "# Assignments for \"Loops\""
   ]
  },
  {
   "cell_type": "markdown",
   "metadata": {},
   "source": [
    "1. Please form a multiplication table from user input.\n",
    "\n",
    "    Example :\n",
    "\n",
    "        Enter a number : 6\n",
    "        6 x 1 = 6                                                               \n",
    "        6 x 2 = 12                                                              \n",
    "        6 x 3 = 18                                                              \n",
    "        6 x 4 = 24                                                              \n",
    "        6 x 5 = 30                                                              \n",
    "        6 x 6 = 36                                                              \n",
    "        6 x 7 = 42                                                              \n",
    "        6 x 8 = 48                                                              \n",
    "        6 x 9 = 54                                                              \n",
    "        6 x 10 = 60 "
   ]
  },
  {
   "cell_type": "code",
   "execution_count": 4,
   "metadata": {},
   "outputs": [
    {
     "name": "stdout",
     "output_type": "stream",
     "text": [
      "Please enter a number for multiplication : 3\n",
      "3 x 1 = 3\n",
      "3 x 2 = 6\n",
      "3 x 3 = 9\n",
      "3 x 4 = 12\n",
      "3 x 5 = 15\n",
      "3 x 6 = 18\n",
      "3 x 7 = 21\n",
      "3 x 8 = 24\n",
      "3 x 9 = 27\n",
      "3 x 10 = 30\n"
     ]
    }
   ],
   "source": [
    "def multi():\n",
    "    number = int(input(\"Please enter a number for multiplication : \"))\n",
    "    \n",
    "    for x in range(1,11):\n",
    "        print(\"{} x {} = {}\".format(number,x,(x*number)))\n",
    "        \n",
    "multi()"
   ]
  },
  {
   "cell_type": "markdown",
   "metadata": {},
   "source": [
    "2. Simply by using list compherension, form a list by taking square of odds numbers and by calculating cube of even numbers from 1 to 20. <br><br>\n"
   ]
  },
  {
   "cell_type": "code",
   "execution_count": 13,
   "metadata": {},
   "outputs": [
    {
     "name": "stdout",
     "output_type": "stream",
     "text": [
      "Normal list ----> [1, 2, 3, 4, 5, 6, 7, 8, 9, 10, 11, 12, 13, 14, 15, 16, 17, 18, 19, 20]\n",
      "odds ----- > [1, 9, 25, 49, 81, 121, 169, 225, 289, 361]\n",
      "evens ----- > [4, 16, 36, 64, 100, 144, 196, 256, 324, 400]\n",
      "all of them by order ----- > [1, 4, 27, 16, 125, 36, 343, 64, 729, 100, 1331, 144, 2197, 196, 3375, 256, 4913, 324, 6859, 400]\n"
     ]
    }
   ],
   "source": [
    "def cube_or_square():\n",
    "    lst = list(range(1,21))\n",
    "    odds =[]\n",
    "    evens =[]\n",
    "    new_list = []\n",
    "    for x in lst:\n",
    "        if(x%2==0):\n",
    "            new_list.append((x**2))\n",
    "            evens.append((x**2))\n",
    "        else:\n",
    "            new_list.append((x**3))\n",
    "            odds.append((x**2))\n",
    "    print(\"Normal list ----> {}\".format(lst))\n",
    "    print(\"odds ----- > {}\".format(odds))\n",
    "    print(\"evens ----- > {}\".format(evens))\n",
    "    print(\"all of them by order ----- > {}\".format(new_list))\n",
    "    \n",
    "cube_or_square()"
   ]
  },
  {
   "cell_type": "markdown",
   "metadata": {},
   "source": [
    "3. Please type a code that inverts the initial user input.\n",
    "\n",
    "    Example : \"automobile\" --> \"elibomotua\"<br><br>"
   ]
  },
  {
   "cell_type": "code",
   "execution_count": 22,
   "metadata": {
    "scrolled": true
   },
   "outputs": [
    {
     "name": "stdout",
     "output_type": "stream",
     "text": [
      "Please give a word :automobile\n",
      "elibomotua\n"
     ]
    }
   ],
   "source": [
    "def invert():\n",
    "    word = input(\"Please give a word :\")\n",
    "    a = \"\"\n",
    "    y = len(word) + 1\n",
    "   \n",
    "    for x in range(-1,-y,-1):\n",
    "        a = a + (word[x])\n",
    "    print(a)\n",
    "invert()"
   ]
  },
  {
   "cell_type": "markdown",
   "metadata": {},
   "source": [
    "4. Using `range(1, 201)`, make two lists. One is containing all even numbers and the other containing all odd numbers.<br><br>"
   ]
  },
  {
   "cell_type": "code",
   "execution_count": 23,
   "metadata": {},
   "outputs": [
    {
     "name": "stdout",
     "output_type": "stream",
     "text": [
      "Normal list ----> [1, 2, 3, 4, 5, 6, 7, 8, 9, 10, 11, 12, 13, 14, 15, 16, 17, 18, 19, 20, 21, 22, 23, 24, 25, 26, 27, 28, 29, 30, 31, 32, 33, 34, 35, 36, 37, 38, 39, 40, 41, 42, 43, 44, 45, 46, 47, 48, 49, 50, 51, 52, 53, 54, 55, 56, 57, 58, 59, 60, 61, 62, 63, 64, 65, 66, 67, 68, 69, 70, 71, 72, 73, 74, 75, 76, 77, 78, 79, 80, 81, 82, 83, 84, 85, 86, 87, 88, 89, 90, 91, 92, 93, 94, 95, 96, 97, 98, 99, 100, 101, 102, 103, 104, 105, 106, 107, 108, 109, 110, 111, 112, 113, 114, 115, 116, 117, 118, 119, 120, 121, 122, 123, 124, 125, 126, 127, 128, 129, 130, 131, 132, 133, 134, 135, 136, 137, 138, 139, 140, 141, 142, 143, 144, 145, 146, 147, 148, 149, 150, 151, 152, 153, 154, 155, 156, 157, 158, 159, 160, 161, 162, 163, 164, 165, 166, 167, 168, 169, 170, 171, 172, 173, 174, 175, 176, 177, 178, 179, 180, 181, 182, 183, 184, 185, 186, 187, 188, 189, 190, 191, 192, 193, 194, 195, 196, 197, 198, 199, 200]\n",
      "odds ----- > [1, 3, 5, 7, 9, 11, 13, 15, 17, 19, 21, 23, 25, 27, 29, 31, 33, 35, 37, 39, 41, 43, 45, 47, 49, 51, 53, 55, 57, 59, 61, 63, 65, 67, 69, 71, 73, 75, 77, 79, 81, 83, 85, 87, 89, 91, 93, 95, 97, 99, 101, 103, 105, 107, 109, 111, 113, 115, 117, 119, 121, 123, 125, 127, 129, 131, 133, 135, 137, 139, 141, 143, 145, 147, 149, 151, 153, 155, 157, 159, 161, 163, 165, 167, 169, 171, 173, 175, 177, 179, 181, 183, 185, 187, 189, 191, 193, 195, 197, 199]\n",
      "evens ----- > [2, 4, 6, 8, 10, 12, 14, 16, 18, 20, 22, 24, 26, 28, 30, 32, 34, 36, 38, 40, 42, 44, 46, 48, 50, 52, 54, 56, 58, 60, 62, 64, 66, 68, 70, 72, 74, 76, 78, 80, 82, 84, 86, 88, 90, 92, 94, 96, 98, 100, 102, 104, 106, 108, 110, 112, 114, 116, 118, 120, 122, 124, 126, 128, 130, 132, 134, 136, 138, 140, 142, 144, 146, 148, 150, 152, 154, 156, 158, 160, 162, 164, 166, 168, 170, 172, 174, 176, 178, 180, 182, 184, 186, 188, 190, 192, 194, 196, 198, 200]\n"
     ]
    }
   ],
   "source": [
    "def odds_or_evens():\n",
    "    lst = list(range(1,201))\n",
    "    odds =[]\n",
    "    evens =[]\n",
    "    \n",
    "    for x in lst:\n",
    "        if(x%2==0):\n",
    "            evens.append(x)\n",
    "        else:\n",
    "            odds.append(x)\n",
    "    print(\"Normal list ----> {}\".format(lst))\n",
    "    print(\"odds ----- > {}\".format(odds))\n",
    "    print(\"evens ----- > {}\".format(evens))\n",
    "   \n",
    "odds_or_evens()"
   ]
  },
  {
   "cell_type": "markdown",
   "metadata": {},
   "source": [
    "5. Define a function called `count` that has two arguments called `sequence` and `item`. Return the number of times the item occurs in the list.<br>\n",
    "\n",
    "    Example:\n",
    "    ```python\n",
    "    count([1,2,1,1], 1)\n",
    "    ```\n",
    "    It should return 3. Because `1` appears 3 times in the list.<br><br>"
   ]
  },
  {
   "cell_type": "code",
   "execution_count": 31,
   "metadata": {},
   "outputs": [
    {
     "data": {
      "text/plain": [
       "4"
      ]
     },
     "execution_count": 31,
     "metadata": {},
     "output_type": "execute_result"
    }
   ],
   "source": [
    "def count(sequence,item):\n",
    "    number_of_items = 0\n",
    "    for x in range(len(sequence)):\n",
    "        if item == sequence[x]:\n",
    "            number_of_items+=1\n",
    "    \n",
    "    return number_of_items\n",
    "count([1,2,1,1,1], 1)"
   ]
  },
  {
   "cell_type": "markdown",
   "metadata": {},
   "source": [
    "6. Write a function called `digit_sum` that takes a positive integer n as input and returns the sum of all that number's digits as a single-digit number.\n",
    "\n",
    "    Example:\n",
    "        27684 --> 2 + 7 + 6 + 8 + 4 = 27 --> 2 + 7 = 9<br>"
   ]
  },
  {
   "cell_type": "code",
   "execution_count": 21,
   "metadata": {},
   "outputs": [
    {
     "name": "stdout",
     "output_type": "stream",
     "text": [
      "False\n",
      "Please give a number : 27684\n",
      "9\n"
     ]
    }
   ],
   "source": [
    "def digit_sum():\n",
    "    number = ''\n",
    "    while not number.isdigit():\n",
    "        number = input(\"Please give a number : \")\n",
    "    \n",
    "    while not len(number) == 1:\n",
    "        dummy = 0\n",
    "        for x in range(len(number)):\n",
    "            dummy += int(number[x])\n",
    "        number = str(dummy)\n",
    "    print(number)\n",
    "digit_sum()"
   ]
  },
  {
   "cell_type": "markdown",
   "metadata": {},
   "source": [
    "7. Write a program to find greatest common divisor (GCD) or highest common factor (HCF) of given two numbers.<br><br>"
   ]
  },
  {
   "cell_type": "code",
   "execution_count": 9,
   "metadata": {},
   "outputs": [
    {
     "name": "stdout",
     "output_type": "stream",
     "text": [
      "Please enter a number : 32\n",
      "Please enter the second number : 8\n",
      "8\n"
     ]
    }
   ],
   "source": [
    "def gcd():\n",
    "    number = ''\n",
    "    number2 = ''\n",
    "    while not number.isdigit() and not number2.isdigit():\n",
    "        number = input(\"Please enter a number : \")\n",
    "        number2 = input(\"Please enter the second number : \")\n",
    "        \n",
    "    number = int(number)\n",
    "    number2 = int(number2)\n",
    "    hcf = 1\n",
    "    if number > number2:\n",
    "        for x in range(1,int(number2)+1):\n",
    "            if number2%x==0 and number%x==0 and hcf<x:\n",
    "                hcf=x\n",
    "    else:\n",
    "        for x in range(1,int(number)+1):\n",
    "            if number2%x==0 and number%x==0 and hcf<x:\n",
    "                hcf=x\n",
    "    print(hcf)\n",
    "gcd()"
   ]
  },
  {
   "cell_type": "markdown",
   "metadata": {},
   "source": [
    "8. Write a Python program that iterates integers from 1 to 50. For multiples of three print `fizz` instead of the number and for the multiples of five print `buzz`. For numbers which are multiples of both three and five print `fizzbuzz`.\n"
   ]
  },
  {
   "cell_type": "code",
   "execution_count": 14,
   "metadata": {},
   "outputs": [
    {
     "name": "stdout",
     "output_type": "stream",
     "text": [
      "3 -----> fizz\n",
      "5 ------> buzz\n",
      "6 -----> fizz\n",
      "9 -----> fizz\n",
      "10 ------> buzz\n",
      "12 -----> fizz\n",
      "15  -----> fizzbuzz\n",
      "18 -----> fizz\n",
      "20 ------> buzz\n",
      "21 -----> fizz\n",
      "24 -----> fizz\n",
      "25 ------> buzz\n",
      "27 -----> fizz\n",
      "30  -----> fizzbuzz\n",
      "33 -----> fizz\n",
      "35 ------> buzz\n",
      "36 -----> fizz\n",
      "39 -----> fizz\n",
      "40 ------> buzz\n",
      "42 -----> fizz\n",
      "45  -----> fizzbuzz\n",
      "48 -----> fizz\n"
     ]
    }
   ],
   "source": [
    "def fizzbuzz():\n",
    "    numbers = list(range(1,51))\n",
    "    \n",
    "    for x in range(1,len(numbers)):\n",
    "        if x%15==0:\n",
    "            print(\"{}  -----> fizzbuzz\".format(x))\n",
    "        elif x%3==0:\n",
    "            print(\"{} -----> fizz\".format(x))\n",
    "        elif x%5==0:\n",
    "            print(\"{} ------> buzz\".format(x))\n",
    "    \n",
    "fizzbuzz()        "
   ]
  },
  {
   "cell_type": "markdown",
   "metadata": {},
   "source": [
    "9. Please form a list out of Fibonacci numbers from 1 to 50. The first two Fibonacci numbers are 1. The next numbers are the sum of the previous two."
   ]
  },
  {
   "cell_type": "code",
   "execution_count": 25,
   "metadata": {},
   "outputs": [
    {
     "name": "stdout",
     "output_type": "stream",
     "text": [
      "Fibonacci series between 1 and 50 :  --> [1, 1, 1, 2, 2, 3, 4, 5, 7, 9, 12, 16, 21, 28, 37, 49]\n"
     ]
    }
   ],
   "source": [
    "def fibo():\n",
    "    limit = 0\n",
    "    lst = []\n",
    "    while limit<51:\n",
    "        leng = len(lst)\n",
    "        if leng<3:\n",
    "            lst.append(1)\n",
    "        else:\n",
    "            dummy = lst[leng-2] + lst[leng-3]\n",
    "            lst.append(dummy)\n",
    "            dummy = 0\n",
    "        limit = lst[-1]\n",
    "        \n",
    "    if(lst[-1] > 50):\n",
    "        lst.pop(-1)\n",
    "    print(\"Fibonacci series between 1 and 50 :  --> {}\".format(lst))\n",
    "fibo()"
   ]
  }
 ],
 "metadata": {
  "kernelspec": {
   "display_name": "Python 3",
   "language": "python",
   "name": "python3"
  }
 },
 "nbformat": 4,
 "nbformat_minor": 4
}
