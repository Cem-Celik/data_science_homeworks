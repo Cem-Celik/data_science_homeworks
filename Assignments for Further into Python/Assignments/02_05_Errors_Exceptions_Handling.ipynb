{
 "cells": [
  {
   "cell_type": "markdown",
   "metadata": {},
   "source": [
    "# Assignments for \"Errors and Exception Handling \""
   ]
  },
  {
   "cell_type": "markdown",
   "metadata": {},
   "source": [
    "1. Let us define a division operation inside a function (using `def`) but to get an error, define the denominator as 0. So, type properly except statement."
   ]
  },
  {
   "cell_type": "code",
   "execution_count": 4,
   "metadata": {},
   "outputs": [
    {
     "name": "stdout",
     "output_type": "stream",
     "text": [
      "Type your first number :  5\n",
      "Type your second number:  0\n",
      "You can't divide by zero\n"
     ]
    }
   ],
   "source": [
    "def div():\n",
    "    first = int(input(\"Type your first number :  \"))\n",
    "    second = int(input(\"Type your second number:  \"))\n",
    "    \n",
    "    try:\n",
    "        third = first/second\n",
    "    except:\n",
    "        print(\"You can't divide by zero\")\n",
    "        \n",
    "div()"
   ]
  },
  {
   "cell_type": "markdown",
   "metadata": {},
   "source": [
    "2. It is possible to get multiple errors after the execution of one try block. So, please define an error-exception issue with `NameError`."
   ]
  },
  {
   "cell_type": "code",
   "execution_count": 8,
   "metadata": {},
   "outputs": [
    {
     "name": "stdout",
     "output_type": "stream",
     "text": [
      "You typed wrong name(s) for some variable(s)\n"
     ]
    }
   ],
   "source": [
    "def multiple_errs():\n",
    "    try:\n",
    "        city = paris\n",
    "    except NameError as err:\n",
    "        print(\"You typed wrong name(s) for some variable(s)\")\n",
    "    except:\n",
    "        print(\"There are some errors please check your code\")\n",
    "multiple_errs()"
   ]
  },
  {
   "cell_type": "markdown",
   "metadata": {},
   "source": [
    "3. Please define a function and with this function, generate a `ValueError` exception simply by entering a string instead of numerical value."
   ]
  },
  {
   "cell_type": "code",
   "execution_count": 13,
   "metadata": {},
   "outputs": [
    {
     "name": "stdout",
     "output_type": "stream",
     "text": [
      "Type a number : asd\n",
      "Please try again and type number instead of str \n",
      "invalid literal for int() with base 10: 'asd'\n"
     ]
    }
   ],
   "source": [
    "def value_err():\n",
    "    try:\n",
    "        number = int(input(\"Type a number : \"))\n",
    "        \n",
    "    except NameError as err:\n",
    "        print(\"You typed wrong name(s) for some variable(s)\")\n",
    "    except ValueError as v_err:\n",
    "        print(\"Please try again and type number instead of str \\n{}\".format(v_err))\n",
    "    except:\n",
    "        print(\"There are some errors please check your code\")\n",
    "value_err()"
   ]
  }
 ],
 "metadata": {
  "kernelspec": {
   "display_name": "Python 3",
   "language": "python",
   "name": "python3"
  },
  "language_info": {
   "codemirror_mode": {
    "name": "ipython",
    "version": 3
   },
   "file_extension": ".py",
   "mimetype": "text/x-python",
   "name": "python",
   "nbconvert_exporter": "python",
   "pygments_lexer": "ipython3",
   "version": "3.8.3"
  }
 },
 "nbformat": 4,
 "nbformat_minor": 4
}
