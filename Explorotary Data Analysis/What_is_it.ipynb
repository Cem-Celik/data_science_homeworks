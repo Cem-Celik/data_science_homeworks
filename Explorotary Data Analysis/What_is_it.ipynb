{
 "cells": [
  {
   "cell_type": "markdown",
   "metadata": {},
   "source": [
    "**1- What is the purpose the data exploration?**\n"
   ]
  },
  {
   "cell_type": "markdown",
   "metadata": {},
   "source": [
    "When you think about every problem or situtaion, you need to look the big picture firstly. You need to explore the aspects with some tools. In Data Analytics, We are describing the data with graphical and statistical ways. In order to these tools, we can understand better the nature of the data"
   ]
  },
  {
   "cell_type": "markdown",
   "metadata": {},
   "source": [
    "**2- Suppose you are working on a dataset containing customer reviews of an e-commerce company's products. Customer reviews collected through the company's website are rated between 1 and 5 depending on whether the content is positive or negative.**\n",
    "\n",
    "        - What kind of problems do you expect to encounter in this raw data? \n",
    "        - If your task is to identify the characteristics that reveal that the customers' comments are positive or negative, how would you do that and what methods would you use for    this?\n",
    "        - What are the useful features that can be extracted from raw data? How can you access this data and understand whether it is useful?"
   ]
  },
  {
   "cell_type": "markdown",
   "metadata": {},
   "source": [
    "a- I think rating gap is narrow so maybe there will be difficulties to understand products' real rating.\n",
    "\n",
    "b- We can examine the comments and We can extract some verb like (\"love\",\"like\",\"hate\") and we can compare with web site rate\n",
    "\n",
    "c- We can search which type of customer likes which products types? We can extract the customers into different categories and we can look sales amounts of products. We can extract different customer types and we can give them speacial offers."
   ]
  },
  {
   "cell_type": "markdown",
   "metadata": {},
   "source": [
    "**3- Why do you think missing values should be taking care of?**"
   ]
  },
  {
   "cell_type": "markdown",
   "metadata": {},
   "source": [
    "Missing values gives us wrong information because it changes the distribution statistical way and most machine learning algorithms is not able to deal with missing values."
   ]
  },
  {
   "cell_type": "markdown",
   "metadata": {},
   "source": [
    "**4- Do you think that outliers have an impact on a dataset? If so, how would you explain this impact?**"
   ]
  },
  {
   "cell_type": "markdown",
   "metadata": {},
   "source": [
    "Outliers have an abnormal distance from the main values so it changes everything about the distribution. When we start to understand nature of a distribution if we don't separate these values when they are totaly waste, we can get different meanings. This means what we do on distribution will be wrongful things."
   ]
  },
  {
   "cell_type": "markdown",
   "metadata": {},
   "source": [
    "**5- Please briefly summarize you first actions when you start analyzing the data?**"
   ]
  },
  {
   "cell_type": "markdown",
   "metadata": {},
   "source": [
    "- First, I can think about Why am I need this data? What is the main problem?\n",
    "- I need to explore the data and I need to lookout for connections between inside of data.\n",
    "- I need to extract to necessary data with filling \"na\" values and extract outliers.\n",
    "- Then I need to look correlation with data values."
   ]
  },
  {
   "cell_type": "code",
   "execution_count": null,
   "metadata": {},
   "outputs": [],
   "source": []
  }
 ],
 "metadata": {
  "kernelspec": {
   "display_name": "Python 3",
   "language": "python",
   "name": "python3"
  },
  "language_info": {
   "codemirror_mode": {
    "name": "ipython",
    "version": 3
   },
   "file_extension": ".py",
   "mimetype": "text/x-python",
   "name": "python",
   "nbconvert_exporter": "python",
   "pygments_lexer": "ipython3",
   "version": "3.8.3"
  }
 },
 "nbformat": 4,
 "nbformat_minor": 4
}
