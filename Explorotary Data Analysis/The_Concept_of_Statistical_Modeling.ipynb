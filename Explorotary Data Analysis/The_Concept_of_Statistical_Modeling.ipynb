{
 "cells": [
  {
   "cell_type": "markdown",
   "metadata": {},
   "source": [
    "# ASSIGNMENT"
   ]
  },
  {
   "cell_type": "markdown",
   "metadata": {},
   "source": [
    "**1 - Try to model the result of throwing a coin. Include features in your model that you consider important when explaining the result. Discuss the pros and cons of adding too many features to your model with your mentor.**\n",
    "\n"
   ]
  },
  {
   "cell_type": "markdown",
   "metadata": {},
   "source": [
    "Some guess for possible features:\n",
    "- First face of coin\n",
    "- Force magnitude to coin\n",
    "- Material of Coin\n",
    "- Wind or atmosphere? ...\n",
    "\n",
    "Of course, adding a feature is giving us some information for target value but If we have more feature than we need. It became a burden for implement operation or explain some relations between features. "
   ]
  },
  {
   "cell_type": "markdown",
   "metadata": {},
   "source": [
    "2- If you have used Netflix before, you should have noticed that it offers some suggestions for you to watch. In data science, this is an example called referral systems. Read about Netflix's non-technical blog post about how they model their suggestion systems. Then derive the features they use in the referral engines and discuss any other features that can be included in this model."
   ]
  },
  {
   "cell_type": "markdown",
   "metadata": {},
   "source": [
    "- Viewer interactions with Netflix services like viewer ratings, viewing history, etc.\n",
    "- Information about the categories, year of release, title, genres, and more.\n",
    "- Other viewers with similar watching preferences and tastes.\n",
    "- Time duration of a viewer watching a show\n",
    "- The device on which a viewer is watching."
   ]
  },
  {
   "cell_type": "code",
   "execution_count": null,
   "metadata": {},
   "outputs": [],
   "source": []
  }
 ],
 "metadata": {
  "kernelspec": {
   "display_name": "Python 3",
   "language": "python",
   "name": "python3"
  },
  "language_info": {
   "codemirror_mode": {
    "name": "ipython",
    "version": 3
   },
   "file_extension": ".py",
   "mimetype": "text/x-python",
   "name": "python",
   "nbconvert_exporter": "python",
   "pygments_lexer": "ipython3",
   "version": "3.8.3"
  }
 },
 "nbformat": 4,
 "nbformat_minor": 4
}
