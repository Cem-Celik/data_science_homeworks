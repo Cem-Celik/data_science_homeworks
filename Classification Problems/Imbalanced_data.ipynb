{
 "cells": [
  {
   "cell_type": "markdown",
   "metadata": {},
   "source": [
    "# IMBALANCED DATA"
   ]
  },
  {
   "cell_type": "code",
   "execution_count": 1,
   "metadata": {},
   "outputs": [
    {
     "name": "stdout",
     "output_type": "stream",
     "text": [
      "Requirement already satisfied: pandas-datareader in c:\\users\\cemce\\anaconda3\\lib\\site-packages (0.9.0)\n",
      "Requirement already satisfied: requests>=2.19.0 in c:\\users\\cemce\\anaconda3\\lib\\site-packages (from pandas-datareader) (2.24.0)\n",
      "Requirement already satisfied: pandas>=0.23 in c:\\users\\cemce\\anaconda3\\lib\\site-packages (from pandas-datareader) (1.0.5)\n",
      "Requirement already satisfied: lxml in c:\\users\\cemce\\anaconda3\\lib\\site-packages (from pandas-datareader) (4.5.2)\n",
      "Requirement already satisfied: certifi>=2017.4.17 in c:\\users\\cemce\\anaconda3\\lib\\site-packages (from requests>=2.19.0->pandas-datareader) (2020.6.20)\n",
      "Requirement already satisfied: idna<3,>=2.5 in c:\\users\\cemce\\anaconda3\\lib\\site-packages (from requests>=2.19.0->pandas-datareader) (2.10)\n",
      "Requirement already satisfied: urllib3!=1.25.0,!=1.25.1,<1.26,>=1.21.1 in c:\\users\\cemce\\anaconda3\\lib\\site-packages (from requests>=2.19.0->pandas-datareader) (1.25.9)\n",
      "Requirement already satisfied: chardet<4,>=3.0.2 in c:\\users\\cemce\\anaconda3\\lib\\site-packages (from requests>=2.19.0->pandas-datareader) (3.0.4)\n",
      "Requirement already satisfied: numpy>=1.13.3 in c:\\users\\cemce\\anaconda3\\lib\\site-packages (from pandas>=0.23->pandas-datareader) (1.18.5)\n",
      "Requirement already satisfied: pytz>=2017.2 in c:\\users\\cemce\\anaconda3\\lib\\site-packages (from pandas>=0.23->pandas-datareader) (2020.1)\n",
      "Requirement already satisfied: python-dateutil>=2.6.1 in c:\\users\\cemce\\anaconda3\\lib\\site-packages (from pandas>=0.23->pandas-datareader) (2.8.1)\n",
      "Requirement already satisfied: six>=1.5 in c:\\users\\cemce\\anaconda3\\lib\\site-packages (from python-dateutil>=2.6.1->pandas>=0.23->pandas-datareader) (1.15.0)\n"
     ]
    }
   ],
   "source": [
    "!pip install pandas-datareader"
   ]
  },
  {
   "cell_type": "code",
   "execution_count": 2,
   "metadata": {},
   "outputs": [],
   "source": [
    "import pandas as pd\n",
    "import numpy as np\n",
    "\n",
    "import warnings\n",
    "warnings.filterwarnings(action=\"ignore\")"
   ]
  },
  {
   "cell_type": "markdown",
   "metadata": {},
   "source": [
    "* **Create a logistic regression model and measure the performance of it.**"
   ]
  },
  {
   "cell_type": "code",
   "execution_count": 3,
   "metadata": {},
   "outputs": [
    {
     "data": {
      "text/html": [
       "<div>\n",
       "<style scoped>\n",
       "    .dataframe tbody tr th:only-of-type {\n",
       "        vertical-align: middle;\n",
       "    }\n",
       "\n",
       "    .dataframe tbody tr th {\n",
       "        vertical-align: top;\n",
       "    }\n",
       "\n",
       "    .dataframe thead th {\n",
       "        text-align: right;\n",
       "    }\n",
       "</style>\n",
       "<table border=\"1\" class=\"dataframe\">\n",
       "  <thead>\n",
       "    <tr style=\"text-align: right;\">\n",
       "      <th></th>\n",
       "      <th>age</th>\n",
       "      <th>sex</th>\n",
       "      <th>cp</th>\n",
       "      <th>trestbps</th>\n",
       "      <th>chol</th>\n",
       "      <th>fbs</th>\n",
       "      <th>restecg</th>\n",
       "      <th>thalach</th>\n",
       "      <th>exang</th>\n",
       "      <th>oldpeak</th>\n",
       "      <th>slope</th>\n",
       "      <th>ca</th>\n",
       "      <th>thal</th>\n",
       "      <th>num</th>\n",
       "    </tr>\n",
       "  </thead>\n",
       "  <tbody>\n",
       "    <tr>\n",
       "      <th>0</th>\n",
       "      <td>37.0</td>\n",
       "      <td>1.0</td>\n",
       "      <td>3.0</td>\n",
       "      <td>130.0</td>\n",
       "      <td>250.0</td>\n",
       "      <td>0.0</td>\n",
       "      <td>0.0</td>\n",
       "      <td>187.0</td>\n",
       "      <td>0.0</td>\n",
       "      <td>3.5</td>\n",
       "      <td>3.0</td>\n",
       "      <td>0.0</td>\n",
       "      <td>3.0</td>\n",
       "      <td>negative</td>\n",
       "    </tr>\n",
       "    <tr>\n",
       "      <th>1</th>\n",
       "      <td>41.0</td>\n",
       "      <td>0.0</td>\n",
       "      <td>2.0</td>\n",
       "      <td>130.0</td>\n",
       "      <td>204.0</td>\n",
       "      <td>0.0</td>\n",
       "      <td>2.0</td>\n",
       "      <td>172.0</td>\n",
       "      <td>0.0</td>\n",
       "      <td>1.4</td>\n",
       "      <td>1.0</td>\n",
       "      <td>0.0</td>\n",
       "      <td>3.0</td>\n",
       "      <td>negative</td>\n",
       "    </tr>\n",
       "    <tr>\n",
       "      <th>2</th>\n",
       "      <td>56.0</td>\n",
       "      <td>1.0</td>\n",
       "      <td>2.0</td>\n",
       "      <td>120.0</td>\n",
       "      <td>236.0</td>\n",
       "      <td>0.0</td>\n",
       "      <td>0.0</td>\n",
       "      <td>178.0</td>\n",
       "      <td>0.0</td>\n",
       "      <td>0.8</td>\n",
       "      <td>1.0</td>\n",
       "      <td>0.0</td>\n",
       "      <td>3.0</td>\n",
       "      <td>negative</td>\n",
       "    </tr>\n",
       "    <tr>\n",
       "      <th>3</th>\n",
       "      <td>57.0</td>\n",
       "      <td>0.0</td>\n",
       "      <td>4.0</td>\n",
       "      <td>120.0</td>\n",
       "      <td>354.0</td>\n",
       "      <td>0.0</td>\n",
       "      <td>0.0</td>\n",
       "      <td>163.0</td>\n",
       "      <td>1.0</td>\n",
       "      <td>0.6</td>\n",
       "      <td>1.0</td>\n",
       "      <td>0.0</td>\n",
       "      <td>3.0</td>\n",
       "      <td>negative</td>\n",
       "    </tr>\n",
       "    <tr>\n",
       "      <th>4</th>\n",
       "      <td>57.0</td>\n",
       "      <td>1.0</td>\n",
       "      <td>4.0</td>\n",
       "      <td>140.0</td>\n",
       "      <td>192.0</td>\n",
       "      <td>0.0</td>\n",
       "      <td>0.0</td>\n",
       "      <td>148.0</td>\n",
       "      <td>0.0</td>\n",
       "      <td>0.4</td>\n",
       "      <td>2.0</td>\n",
       "      <td>0.0</td>\n",
       "      <td>6.0</td>\n",
       "      <td>negative</td>\n",
       "    </tr>\n",
       "    <tr>\n",
       "      <th>...</th>\n",
       "      <td>...</td>\n",
       "      <td>...</td>\n",
       "      <td>...</td>\n",
       "      <td>...</td>\n",
       "      <td>...</td>\n",
       "      <td>...</td>\n",
       "      <td>...</td>\n",
       "      <td>...</td>\n",
       "      <td>...</td>\n",
       "      <td>...</td>\n",
       "      <td>...</td>\n",
       "      <td>...</td>\n",
       "      <td>...</td>\n",
       "      <td>...</td>\n",
       "    </tr>\n",
       "    <tr>\n",
       "      <th>171</th>\n",
       "      <td>64.0</td>\n",
       "      <td>1.0</td>\n",
       "      <td>4.0</td>\n",
       "      <td>145.0</td>\n",
       "      <td>212.0</td>\n",
       "      <td>0.0</td>\n",
       "      <td>2.0</td>\n",
       "      <td>132.0</td>\n",
       "      <td>0.0</td>\n",
       "      <td>2.0</td>\n",
       "      <td>2.0</td>\n",
       "      <td>2.0</td>\n",
       "      <td>6.0</td>\n",
       "      <td>positive</td>\n",
       "    </tr>\n",
       "    <tr>\n",
       "      <th>172</th>\n",
       "      <td>38.0</td>\n",
       "      <td>1.0</td>\n",
       "      <td>1.0</td>\n",
       "      <td>120.0</td>\n",
       "      <td>231.0</td>\n",
       "      <td>0.0</td>\n",
       "      <td>0.0</td>\n",
       "      <td>182.0</td>\n",
       "      <td>1.0</td>\n",
       "      <td>3.8</td>\n",
       "      <td>2.0</td>\n",
       "      <td>0.0</td>\n",
       "      <td>7.0</td>\n",
       "      <td>positive</td>\n",
       "    </tr>\n",
       "    <tr>\n",
       "      <th>173</th>\n",
       "      <td>61.0</td>\n",
       "      <td>1.0</td>\n",
       "      <td>4.0</td>\n",
       "      <td>138.0</td>\n",
       "      <td>166.0</td>\n",
       "      <td>0.0</td>\n",
       "      <td>2.0</td>\n",
       "      <td>125.0</td>\n",
       "      <td>1.0</td>\n",
       "      <td>3.6</td>\n",
       "      <td>2.0</td>\n",
       "      <td>1.0</td>\n",
       "      <td>3.0</td>\n",
       "      <td>positive</td>\n",
       "    </tr>\n",
       "    <tr>\n",
       "      <th>174</th>\n",
       "      <td>58.0</td>\n",
       "      <td>1.0</td>\n",
       "      <td>4.0</td>\n",
       "      <td>114.0</td>\n",
       "      <td>318.0</td>\n",
       "      <td>0.0</td>\n",
       "      <td>1.0</td>\n",
       "      <td>140.0</td>\n",
       "      <td>0.0</td>\n",
       "      <td>4.4</td>\n",
       "      <td>3.0</td>\n",
       "      <td>3.0</td>\n",
       "      <td>6.0</td>\n",
       "      <td>positive</td>\n",
       "    </tr>\n",
       "    <tr>\n",
       "      <th>175</th>\n",
       "      <td>70.0</td>\n",
       "      <td>1.0</td>\n",
       "      <td>4.0</td>\n",
       "      <td>145.0</td>\n",
       "      <td>174.0</td>\n",
       "      <td>0.0</td>\n",
       "      <td>0.0</td>\n",
       "      <td>125.0</td>\n",
       "      <td>1.0</td>\n",
       "      <td>2.6</td>\n",
       "      <td>3.0</td>\n",
       "      <td>0.0</td>\n",
       "      <td>7.0</td>\n",
       "      <td>positive</td>\n",
       "    </tr>\n",
       "  </tbody>\n",
       "</table>\n",
       "<p>176 rows × 14 columns</p>\n",
       "</div>"
      ],
      "text/plain": [
       "      age  sex   cp  trestbps   chol  fbs  restecg  thalach  exang  oldpeak  \\\n",
       "0    37.0  1.0  3.0     130.0  250.0  0.0      0.0    187.0    0.0      3.5   \n",
       "1    41.0  0.0  2.0     130.0  204.0  0.0      2.0    172.0    0.0      1.4   \n",
       "2    56.0  1.0  2.0     120.0  236.0  0.0      0.0    178.0    0.0      0.8   \n",
       "3    57.0  0.0  4.0     120.0  354.0  0.0      0.0    163.0    1.0      0.6   \n",
       "4    57.0  1.0  4.0     140.0  192.0  0.0      0.0    148.0    0.0      0.4   \n",
       "..    ...  ...  ...       ...    ...  ...      ...      ...    ...      ...   \n",
       "171  64.0  1.0  4.0     145.0  212.0  0.0      2.0    132.0    0.0      2.0   \n",
       "172  38.0  1.0  1.0     120.0  231.0  0.0      0.0    182.0    1.0      3.8   \n",
       "173  61.0  1.0  4.0     138.0  166.0  0.0      2.0    125.0    1.0      3.6   \n",
       "174  58.0  1.0  4.0     114.0  318.0  0.0      1.0    140.0    0.0      4.4   \n",
       "175  70.0  1.0  4.0     145.0  174.0  0.0      0.0    125.0    1.0      2.6   \n",
       "\n",
       "     slope   ca thal       num  \n",
       "0      3.0  0.0  3.0  negative  \n",
       "1      1.0  0.0  3.0  negative  \n",
       "2      1.0  0.0  3.0  negative  \n",
       "3      1.0  0.0  3.0  negative  \n",
       "4      2.0  0.0  6.0  negative  \n",
       "..     ...  ...  ...       ...  \n",
       "171    2.0  2.0  6.0  positive  \n",
       "172    2.0  0.0  7.0  positive  \n",
       "173    2.0  1.0  3.0  positive  \n",
       "174    3.0  3.0  6.0  positive  \n",
       "175    3.0  0.0  7.0  positive  \n",
       "\n",
       "[176 rows x 14 columns]"
      ]
     },
     "execution_count": 3,
     "metadata": {},
     "output_type": "execute_result"
    }
   ],
   "source": [
    "df = pd.read_csv('data/cleveland-0_vs_4.dat',skiprows = 18,error_bad_lines=False)\n",
    "df.columns =['age', 'sex','cp','trestbps','chol','fbs','restecg','thalach','exang','oldpeak','slope','ca','thal','num'] \n",
    "df"
   ]
  },
  {
   "cell_type": "code",
   "execution_count": 4,
   "metadata": {},
   "outputs": [
    {
     "data": {
      "text/plain": [
       "age         0.0\n",
       "sex         0.0\n",
       "cp          0.0\n",
       "trestbps    0.0\n",
       "chol        0.0\n",
       "fbs         0.0\n",
       "restecg     0.0\n",
       "thalach     0.0\n",
       "exang       0.0\n",
       "oldpeak     0.0\n",
       "slope       0.0\n",
       "ca          0.0\n",
       "thal        0.0\n",
       "num         0.0\n",
       "dtype: float64"
      ]
     },
     "execution_count": 4,
     "metadata": {},
     "output_type": "execute_result"
    }
   ],
   "source": [
    "df.isnull().sum()*100/df.shape[0]"
   ]
  },
  {
   "cell_type": "code",
   "execution_count": 5,
   "metadata": {},
   "outputs": [
    {
     "name": "stdout",
     "output_type": "stream",
     "text": [
      "<class 'pandas.core.frame.DataFrame'>\n",
      "RangeIndex: 176 entries, 0 to 175\n",
      "Data columns (total 14 columns):\n",
      " #   Column    Non-Null Count  Dtype  \n",
      "---  ------    --------------  -----  \n",
      " 0   age       176 non-null    float64\n",
      " 1   sex       176 non-null    float64\n",
      " 2   cp        176 non-null    float64\n",
      " 3   trestbps  176 non-null    float64\n",
      " 4   chol      176 non-null    float64\n",
      " 5   fbs       176 non-null    float64\n",
      " 6   restecg   176 non-null    float64\n",
      " 7   thalach   176 non-null    float64\n",
      " 8   exang     176 non-null    float64\n",
      " 9   oldpeak   176 non-null    float64\n",
      " 10  slope     176 non-null    float64\n",
      " 11  ca        176 non-null    object \n",
      " 12  thal      176 non-null    object \n",
      " 13  num       176 non-null    object \n",
      "dtypes: float64(11), object(3)\n",
      "memory usage: 19.4+ KB\n"
     ]
    }
   ],
   "source": [
    "df.info()"
   ]
  },
  {
   "cell_type": "code",
   "execution_count": 6,
   "metadata": {},
   "outputs": [
    {
     "data": {
      "text/plain": [
       "0.0       132\n",
       "1.0        24\n",
       "2.0         9\n",
       "3.0         8\n",
       "<null>      3\n",
       "Name: ca, dtype: int64"
      ]
     },
     "execution_count": 6,
     "metadata": {},
     "output_type": "execute_result"
    }
   ],
   "source": [
    "df.ca.value_counts()"
   ]
  },
  {
   "cell_type": "code",
   "execution_count": 7,
   "metadata": {},
   "outputs": [],
   "source": [
    "df.thal[df[df.thal == \"<null>\"].index] =\"0.0\""
   ]
  },
  {
   "cell_type": "code",
   "execution_count": 8,
   "metadata": {},
   "outputs": [
    {
     "data": {
      "text/plain": [
       "0.0       132\n",
       "1.0        24\n",
       "2.0         9\n",
       "3.0         8\n",
       "<null>      3\n",
       "Name: ca, dtype: int64"
      ]
     },
     "execution_count": 8,
     "metadata": {},
     "output_type": "execute_result"
    }
   ],
   "source": [
    "df.ca.value_counts()"
   ]
  },
  {
   "cell_type": "code",
   "execution_count": 9,
   "metadata": {},
   "outputs": [],
   "source": [
    "df.ca[df[df.ca == \"<null>\"].index] =\"0.0\""
   ]
  },
  {
   "cell_type": "code",
   "execution_count": 10,
   "metadata": {},
   "outputs": [],
   "source": [
    "df['ca'] = df['ca'].astype(float)\n",
    "df['thal'] = df['thal'].astype(float)"
   ]
  },
  {
   "cell_type": "code",
   "execution_count": 11,
   "metadata": {},
   "outputs": [],
   "source": [
    "dummy = pd.get_dummies(df.num)\n",
    "df[\"is_positive\"] = dummy.positive\n",
    "X = df.drop([\"num\",\"is_positive\"], axis=1)\n",
    "y= df.is_positive"
   ]
  },
  {
   "cell_type": "code",
   "execution_count": 12,
   "metadata": {},
   "outputs": [],
   "source": [
    "from sklearn.model_selection import train_test_split\n",
    "\n",
    "X_train, X_test, y_train, y_test = train_test_split(X, y, test_size=0.2, random_state=42)"
   ]
  },
  {
   "cell_type": "code",
   "execution_count": 29,
   "metadata": {},
   "outputs": [
    {
     "name": "stdout",
     "output_type": "stream",
     "text": [
      "One vs. Rest : \n",
      " -------------- \n",
      " Test accuracy : 0.94 \n",
      " Train accuracy : 0.97\n"
     ]
    }
   ],
   "source": [
    "from sklearn.linear_model import LinearRegression,LogisticRegression\n",
    "\n",
    "model_one = LogisticRegression()\n",
    "model_one.fit(X_train,y_train)\n",
    "ytest_score_one = model_one.score(X_test,y_test)\n",
    "ytrain_score_one = model_one.score(X_train,y_train)\n",
    "\n",
    "print(\"One vs. Rest : \\n -------------- \\n Test accuracy : {:.2f} \\n Train accuracy : {:.2f}\".format(ytest_score_one,ytrain_score_one))"
   ]
  },
  {
   "cell_type": "code",
   "execution_count": 28,
   "metadata": {},
   "outputs": [
    {
     "name": "stdout",
     "output_type": "stream",
     "text": [
      "Softmax : \n",
      " ---------------- \n",
      " Test accuracy : 0.94 \n",
      " Train accuracy : 0.98\n"
     ]
    }
   ],
   "source": [
    "model_softmax = LogisticRegression(multi_class=\"multinomial\")\n",
    "model_softmax.fit(X_train,y_train)\n",
    "ytest_score_soft = model_softmax.score(X_test,y_test)\n",
    "ytrain_score_sof = model_softmax.score(X_train,y_train)\n",
    "\n",
    "print(\"Softmax : \\n ---------------- \\n Test accuracy : {:.2f} \\n Train accuracy : {:.2f}\".format(ytest_score_soft,ytrain_score_sof))"
   ]
  },
  {
   "cell_type": "code",
   "execution_count": 38,
   "metadata": {},
   "outputs": [
    {
     "name": "stdout",
     "output_type": "stream",
     "text": [
      "[[57  0]\n",
      " [19 32]]\n"
     ]
    }
   ],
   "source": [
    "from sklearn.metrics import accuracy_score,precision_score,recall_score,confusion_matrix,classification_report\n",
    "\n",
    "ytest_pred_softmax = model_softmax.predict(X_test)\n",
    "conf_test_soft = confusion_matrix(y_test,ytest_pred_softmax)\n",
    "print(conf_test_soft)"
   ]
  },
  {
   "cell_type": "code",
   "execution_count": 31,
   "metadata": {},
   "outputs": [
    {
     "name": "stdout",
     "output_type": "stream",
     "text": [
      "[[130   0]\n",
      " [  4   6]]\n"
     ]
    }
   ],
   "source": [
    "ytrain_pred_softmax = model_one.predict(X_train)\n",
    "conf_train_soft = confusion_matrix(y_train,ytrain_pred_softmax)\n",
    "print(conf_train_soft)"
   ]
  },
  {
   "cell_type": "markdown",
   "metadata": {},
   "source": [
    "* *We might understand accuracy is very good for our model but When we looked the confussion matrix we have just 10 positive estimate and 4 of them actually is wrong*"
   ]
  },
  {
   "cell_type": "markdown",
   "metadata": {},
   "source": [
    "* **By experimenting with different methods and class ratios; overcome class imbalance, determine the best performing method and class ratio.**"
   ]
  },
  {
   "cell_type": "code",
   "execution_count": 34,
   "metadata": {},
   "outputs": [
    {
     "name": "stdout",
     "output_type": "stream",
     "text": [
      "Requirement already up-to-date: imbalanced-learn in c:\\users\\cemce\\anaconda3\\lib\\site-packages (0.7.0)\n",
      "Requirement already satisfied, skipping upgrade: scikit-learn>=0.23 in c:\\users\\cemce\\anaconda3\\lib\\site-packages (from imbalanced-learn) (0.23.1)\n",
      "Requirement already satisfied, skipping upgrade: joblib>=0.11 in c:\\users\\cemce\\anaconda3\\lib\\site-packages (from imbalanced-learn) (0.16.0)\n",
      "Requirement already satisfied, skipping upgrade: numpy>=1.13.3 in c:\\users\\cemce\\anaconda3\\lib\\site-packages (from imbalanced-learn) (1.18.5)\n",
      "Requirement already satisfied, skipping upgrade: scipy>=0.19.1 in c:\\users\\cemce\\anaconda3\\lib\\site-packages (from imbalanced-learn) (1.5.0)\n",
      "Requirement already satisfied, skipping upgrade: threadpoolctl>=2.0.0 in c:\\users\\cemce\\anaconda3\\lib\\site-packages (from scikit-learn>=0.23->imbalanced-learn) (2.1.0)\n"
     ]
    }
   ],
   "source": [
    "!pip install -U imbalanced-learn"
   ]
  },
  {
   "cell_type": "code",
   "execution_count": 32,
   "metadata": {},
   "outputs": [],
   "source": [
    "from imblearn.over_sampling import SMOTE,ADASYN\n",
    "\n",
    "X = df.drop([\"num\",\"is_positive\"], axis=1)\n",
    "y= df.is_positive\n",
    "\n",
    "sm = SMOTE(random_state=27, sampling_strategy=1.0)\n",
    "X_smote, y_smote = sm.fit_sample(X, y)"
   ]
  },
  {
   "cell_type": "code",
   "execution_count": 43,
   "metadata": {},
   "outputs": [],
   "source": [
    "def model_metrics(X,y):    \n",
    "    X_train, X_test, y_train, y_test = train_test_split(X, y, test_size=0.33, random_state=42)\n",
    "\n",
    "    logreg_softmax = LogisticRegression(multi_class=\"multinomial\")\n",
    "    logreg_softmax.fit(X_train,y_train)\n",
    "\n",
    "    test_pred_soft = logreg_softmax.predict(X_test)\n",
    "    train_pred_soft = logreg_softmax.predict(X_train)\n",
    "\n",
    "    print(\"Softmax: \\n -----------------\\n\")\n",
    "\n",
    "    test_score_soft = accuracy_score(y_test,test_pred_soft)\n",
    "    train_score_soft = accuracy_score(y_train,train_pred_soft)\n",
    "    print(\"Accuracy Scores : \\n -------------\\n Test Score : {} \\n Train Score : {}\".format(test_score_soft,train_score_soft))\n",
    "\n",
    "\n",
    "    test_conf_soft = confusion_matrix(y_test,test_pred_soft)\n",
    "    train_conf_soft = confusion_matrix(y_train,train_pred_soft)\n",
    "    print(\"Confussion matrix : \\n ---------------\\n Test Confussion matrix : \\n {} \\n Train Confussion matrix : \\n {}\".format(test_conf_soft,train_conf_soft))\n",
    "\n",
    "    print(\"Train dataset : \")\n",
    "    print(classification_report(y_train,train_pred_soft))\n",
    "    print(\"Test dataset : \")\n",
    "    print(classification_report(y_test,test_pred_soft))"
   ]
  },
  {
   "cell_type": "code",
   "execution_count": 44,
   "metadata": {},
   "outputs": [
    {
     "name": "stdout",
     "output_type": "stream",
     "text": [
      "Softmax: \n",
      " -----------------\n",
      "\n",
      "Accuracy Scores : \n",
      " -------------\n",
      " Test Score : 0.9351851851851852 \n",
      " Train Score : 0.9954128440366973\n",
      "Confussion matrix : \n",
      " ---------------\n",
      " Test Confussion matrix : \n",
      " [[50  7]\n",
      " [ 0 51]] \n",
      " Train Confussion matrix : \n",
      " [[105   1]\n",
      " [  0 112]]\n",
      "Train dataset : \n",
      "              precision    recall  f1-score   support\n",
      "\n",
      "           0       1.00      0.99      1.00       106\n",
      "           1       0.99      1.00      1.00       112\n",
      "\n",
      "    accuracy                           1.00       218\n",
      "   macro avg       1.00      1.00      1.00       218\n",
      "weighted avg       1.00      1.00      1.00       218\n",
      "\n",
      "Test dataset : \n",
      "              precision    recall  f1-score   support\n",
      "\n",
      "           0       1.00      0.88      0.93        57\n",
      "           1       0.88      1.00      0.94        51\n",
      "\n",
      "    accuracy                           0.94       108\n",
      "   macro avg       0.94      0.94      0.94       108\n",
      "weighted avg       0.94      0.94      0.94       108\n",
      "\n"
     ]
    }
   ],
   "source": [
    "model_metrics(X_smote,y_smote)"
   ]
  },
  {
   "cell_type": "markdown",
   "metadata": {},
   "source": [
    "* *Adasyn*"
   ]
  },
  {
   "cell_type": "code",
   "execution_count": 46,
   "metadata": {},
   "outputs": [],
   "source": [
    "X = df.drop([\"num\",\"is_positive\"], axis=1)\n",
    "y= df.is_positive\n",
    "\n",
    "ad = ADASYN()\n",
    "X_adasyn, y_adasyn = ad.fit_sample(X, y)"
   ]
  },
  {
   "cell_type": "code",
   "execution_count": 47,
   "metadata": {},
   "outputs": [
    {
     "name": "stdout",
     "output_type": "stream",
     "text": [
      "Softmax: \n",
      " -----------------\n",
      "\n",
      "Accuracy Scores : \n",
      " -------------\n",
      " Test Score : 0.9357798165137615 \n",
      " Train Score : 0.9908675799086758\n",
      "Confussion matrix : \n",
      " ---------------\n",
      " Test Confussion matrix : \n",
      " [[50  7]\n",
      " [ 0 52]] \n",
      " Train Confussion matrix : \n",
      " [[104   2]\n",
      " [  0 113]]\n",
      "Train dataset : \n",
      "              precision    recall  f1-score   support\n",
      "\n",
      "           0       1.00      0.98      0.99       106\n",
      "           1       0.98      1.00      0.99       113\n",
      "\n",
      "    accuracy                           0.99       219\n",
      "   macro avg       0.99      0.99      0.99       219\n",
      "weighted avg       0.99      0.99      0.99       219\n",
      "\n",
      "Test dataset : \n",
      "              precision    recall  f1-score   support\n",
      "\n",
      "           0       1.00      0.88      0.93        57\n",
      "           1       0.88      1.00      0.94        52\n",
      "\n",
      "    accuracy                           0.94       109\n",
      "   macro avg       0.94      0.94      0.94       109\n",
      "weighted avg       0.94      0.94      0.94       109\n",
      "\n"
     ]
    }
   ],
   "source": [
    "model_metrics(X_adasyn,y_adasyn)"
   ]
  },
  {
   "cell_type": "code",
   "execution_count": 48,
   "metadata": {},
   "outputs": [],
   "source": [
    "df.to_csv (r'data\\heart_disease.csv', index = False, header=True)"
   ]
  },
  {
   "cell_type": "code",
   "execution_count": null,
   "metadata": {},
   "outputs": [],
   "source": []
  }
 ],
 "metadata": {
  "kernelspec": {
   "display_name": "Python 3",
   "language": "python",
   "name": "python3"
  },
  "language_info": {
   "codemirror_mode": {
    "name": "ipython",
    "version": 3
   },
   "file_extension": ".py",
   "mimetype": "text/x-python",
   "name": "python",
   "nbconvert_exporter": "python",
   "pygments_lexer": "ipython3",
   "version": "3.8.3"
  }
 },
 "nbformat": 4,
 "nbformat_minor": 4
}
