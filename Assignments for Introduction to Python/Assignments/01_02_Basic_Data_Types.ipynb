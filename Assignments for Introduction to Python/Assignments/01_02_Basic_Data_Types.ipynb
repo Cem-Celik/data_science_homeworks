{
 "cells": [
  {
   "cell_type": "markdown",
   "metadata": {},
   "source": [
    "# Assignments for \"Basic Data Types\" "
   ]
  },
  {
   "cell_type": "markdown",
   "metadata": {},
   "source": [
    "1. Suppose you invested in Bitcoin at the end of 2017 when Bitcoin gained a lot of value. What would be your money at the end of a week if you had invested \\$1000 with an average daily increase of 12\\% ? You can solve the problem using Python."
   ]
  },
  {
   "cell_type": "code",
   "execution_count": 5,
   "metadata": {},
   "outputs": [
    {
     "name": "stdout",
     "output_type": "stream",
     "text": [
      "2210.68\n"
     ]
    }
   ],
   "source": [
    "##### Help\n",
    "\n",
    "# Create a variable capital ($1000)\n",
    "capital = 1000\n",
    "\n",
    "# Create a variable for daily growth (12%)\n",
    "daily_growth=0.12\n",
    "# Create a variable for period (7)\n",
    "period = 7\n",
    "# Calculate the final growth rate\n",
    "final_growth=(1+daily_growth)**period\n",
    "# Calculate result\n",
    "result=capital*final_growth\n",
    "# Print result\n",
    "print(\"{:.2f}\".format(result))"
   ]
  },
  {
   "cell_type": "markdown",
   "metadata": {},
   "source": [
    "2. Print the text in quotes with Python. However, you must get the numbers from variables using `.format()` notation. <br> Because the text is long, you might consider writing in two lines:\n",
    "\n",
    "        `\"When we buy bitcoin with 1000 USD at the beginning of the week, we would earn 1210.68 USD at the end of the week, with an average gain of 12\\%.\"`"
   ]
  },
  {
   "cell_type": "code",
   "execution_count": 28,
   "metadata": {},
   "outputs": [
    {
     "name": "stdout",
     "output_type": "stream",
     "text": [
      "\"When we buy bitcoin with 1000 USD at the beginning of the week, we would earn 1210.68 USD at the end of the week, with an average gain of 12%.\"\n"
     ]
    }
   ],
   "source": [
    "print(\"\"\"\\\"When we buy bitcoin with {} USD at the beginning of the week,\\\n",
    " we would earn {:.2f} USD at the end of the week,\\\n",
    " with an average gain of {:.0f}%.\\\"\"\"\".format(capital,(result-capital),(daily_growth*100)))"
   ]
  },
  {
   "cell_type": "markdown",
   "metadata": {},
   "source": [
    "3. Get the temperature in Fahrenheit from user and write a code to convert it to Celcius. For conversion, you can use this formula: C = (5/9) * (F - 32)\n",
    "\n",
    "        Enter the temperature in Fahrenheit: \n",
    "        user --> 26\n",
    "        output --> Temperature (C) : -3.33"
   ]
  },
  {
   "cell_type": "code",
   "execution_count": 36,
   "metadata": {},
   "outputs": [
    {
     "name": "stdout",
     "output_type": "stream",
     "text": [
      "Enter the temperature in Fahrenheit: 26\n",
      "user -----> 26 F\n",
      "output ------> -3.33 C\n"
     ]
    }
   ],
   "source": [
    "f = input(\"Enter the temperature in Fahrenheit: \")\n",
    "f=int(f)\n",
    "c = (5/9)*(f-32)\n",
    "print(\"user -----> {} F\".format(f))\n",
    "print(\"output ------> {:.2f} C\".format(c))"
   ]
  },
  {
   "cell_type": "markdown",
   "metadata": {},
   "source": [
    "4. Get a three digit number the from user and calculate the sum of the digits in the integer.\n",
    "\n",
    "        user --> 365\n",
    "        output --> \"The sum of digits in the number is 14"
   ]
  },
  {
   "cell_type": "code",
   "execution_count": 41,
   "metadata": {},
   "outputs": [
    {
     "name": "stdout",
     "output_type": "stream",
     "text": [
      "Enter a number that have 3 digits: 365\n",
      "user ----> 365\n",
      "output -----> \"The sum of digits in the number is 14\"\n"
     ]
    }
   ],
   "source": [
    "tempStr = ''\n",
    "while len(tempStr)!=3:\n",
    "    tempStr = input(\"Enter a number that have 3 digits: \")\n",
    "tempInt= int(tempStr)\n",
    "print(\"user ----> {}\".format(tempInt))\n",
    "tempInt = int(tempStr[0])+int(tempStr[1])+int(tempStr[2])\n",
    "print(\"output -----> \\\"The sum of digits in the number is {}\\\"\".format(tempInt))"
   ]
  },
  {
   "cell_type": "markdown",
   "metadata": {},
   "source": [
    "5. Write some code to calculate the hypotenuse of a right angled triangle. Get the side lengths from the user.\n",
    "\n",
    "        user --> first side lenth : 6\n",
    "        user --> first side lenth : 8\n",
    "        output --> \"The length of the hypotenuse is 10"
   ]
  },
  {
   "cell_type": "code",
   "execution_count": 43,
   "metadata": {},
   "outputs": [
    {
     "name": "stdout",
     "output_type": "stream",
     "text": [
      "First side len:3\n",
      "user --->  first side len : 3\n",
      "Second side len : 4\n",
      "user --->  second side len : 4\n",
      "The length of the hypotenuse is 5.0\n"
     ]
    }
   ],
   "source": [
    "a = int(input(\"First side len:\"))\n",
    "print(\"user --->  first side len : {}\".format(a))\n",
    "b = int(input(\"Second side len : \"))\n",
    "print(\"user --->  second side len : {}\".format(b))\n",
    "print(\"The length of the hypotenuse is {}\".format((a**2+b**2)**0.5))"
   ]
  }
 ],
 "metadata": {
  "kernelspec": {
   "display_name": "Python 3",
   "language": "python",
   "name": "python3"
  },
  "language_info": {
   "codemirror_mode": {
    "name": "ipython",
    "version": 3
   },
   "file_extension": ".py",
   "mimetype": "text/x-python",
   "name": "python",
   "nbconvert_exporter": "python",
   "pygments_lexer": "ipython3",
   "version": "3.8.3"
  }
 },
 "nbformat": 4,
 "nbformat_minor": 4
}
