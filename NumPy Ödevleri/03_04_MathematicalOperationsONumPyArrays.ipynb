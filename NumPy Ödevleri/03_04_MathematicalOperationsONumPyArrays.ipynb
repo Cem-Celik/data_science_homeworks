{
 "cells": [
  {
   "cell_type": "markdown",
   "metadata": {},
   "source": [
    "# <font color=blue>Assignments for \"Mathematical Operations on NumPy Arrays\"</font>"
   ]
  },
  {
   "cell_type": "markdown",
   "metadata": {},
   "source": [
    "1. Load the array you saved in the previous lesson from the disk."
   ]
  },
  {
   "cell_type": "code",
   "execution_count": 66,
   "metadata": {},
   "outputs": [
    {
     "name": "stdout",
     "output_type": "stream",
     "text": [
      "[[ 1  1  1  1  1  1  1  1  1  1  1  1  1  1  1]\n",
      " [ 1  0  0  0  0 37 35  7  0  7  0  0  4  7  0]\n",
      " [ 2  0  0  0  0 37 37 10  0  7  0  0  4  7  0]\n",
      " [ 3  0  0  0  0 37 30 78  0  7  0  0  4  7  0]\n",
      " [ 4  0  0  0  0 35 26 42  0  7  0  0  4  7  0]\n",
      " [ 5  0  0  0  0 36 28 14  0  7  0  0  4  7  0]\n",
      " [ 6  0  0  0  0 36 31 36  0  7  0  0  5  7  0]\n",
      " [ 7  0  0  0  0 37 30 50  0  7  0  0  4  7  0]\n",
      " [ 8  0  0  0  0 36 27  6  0  7  0  0  4  7  0]\n",
      " [ 9  0  0  0  0 38 26 11  0  7  0  0  4  7  0]\n",
      " [10  0  0  0  0 37 36 10  0  7  0  0  4  7  0]\n",
      " [11  0  0  0  0 35 26 28  0  7  0  0  4  7  0]\n",
      " [12  0  0  0  0 37 36 15  0  7  0  0  4  7  0]\n",
      " [13  0  0  0  0 37 36 10  0  7  0  0  4  7  0]\n",
      " [14  0  0  0  0 37 26  4  0  7  0  0  4  7  0]\n",
      " [15  0  0  0  0 37 29 17  0  7  0  0  4  7  0]\n",
      " [16  0  0  0  0 39 44  7  0  7  0  0  4  7  0]\n",
      " [17  0  0  0  0 38 44 10  0  7  0  0  4  7  0]\n",
      " [18  0  0  0  0 35 28  6  0  7  0  0  4  7  0]\n",
      " [19  0  0  0  0 37 37 10  0  7  0  0  4  7  0]\n",
      " [ 3  0  0  0  0 37 30 78  0  7  0  0  4  7  0]\n",
      " [ 5  0  0  0  0 36 28 14  0  7  0  0  4  7  0]\n",
      " [ 6  0  0  0  0 36 31 36  0  7  0  0  5  7  0]\n",
      " [ 7  0  0  0  0 37 30 50  0  7  0  0  4  7  0]\n",
      " [12  0  0  0  0 37 36 15  0  7  0  0  4  7  0]]\n"
     ]
    }
   ],
   "source": [
    "import numpy as np\n",
    "import csv\n",
    "\n",
    "arr = np.load(\"npfile.npy\")\n",
    "print(arr)"
   ]
  },
  {
   "cell_type": "markdown",
   "metadata": {},
   "source": [
    "2. Display the mean and the standard deviation for each column."
   ]
  },
  {
   "cell_type": "code",
   "execution_count": 65,
   "metadata": {},
   "outputs": [
    {
     "name": "stdout",
     "output_type": "stream",
     "text": [
      "0. coloumn's mean ------> -3.8e+01\n",
      "0. coloums's standart deviation --> 30.65\n",
      "1. coloumn's mean ------> -3.8e+01\n",
      "1. coloums's standart deviation --> 30.65\n",
      "2. coloumn's mean ------> -3.8e+01\n",
      "2. coloums's standart deviation --> 30.65\n",
      "3. coloumn's mean ------> -3.9e+01\n",
      "3. coloums's standart deviation --> 30.89\n",
      "4. coloumn's mean ------> -2.2e+01\n",
      "4. coloums's standart deviation --> 34.43\n",
      "5. coloumn's mean ------> -3.7e+01\n",
      "5. coloums's standart deviation --> 30.25\n",
      "6. coloumn's mean ------> -3.9e+01\n",
      "6. coloums's standart deviation --> 31.13\n",
      "7. coloumn's mean ------> -2.1e+01\n",
      "7. coloums's standart deviation --> 33.43\n",
      "8. coloumn's mean ------> -3.7e+01\n",
      "8. coloums's standart deviation --> 30.25\n",
      "9. coloumn's mean ------> -3.8e+01\n",
      "9. coloums's standart deviation --> 31.37\n",
      "10. coloumn's mean ------> -8.6\n",
      "10. coloums's standart deviation --> 27.37\n",
      "11. coloumn's mean ------> -3.7e+01\n",
      "11. coloums's standart deviation --> 30.25\n",
      "12. coloumn's mean ------> -3.8e+01\n",
      "12. coloums's standart deviation --> 31.62\n",
      "13. coloumn's mean ------> -1.7e+01\n",
      "13. coloums's standart deviation --> 28.26\n",
      "14. coloumn's mean ------> -3.7e+01\n",
      "14. coloums's standart deviation --> 30.25\n",
      "15. coloumn's mean ------> -3.8e+01\n",
      "15. coloums's standart deviation --> 31.87\n",
      "16. coloumn's mean ------> -2.2e+01\n",
      "16. coloums's standart deviation --> 33.24\n",
      "17. coloumn's mean ------> -3.7e+01\n",
      "17. coloums's standart deviation --> 30.25\n",
      "18. coloumn's mean ------> -3.8e+01\n",
      "18. coloums's standart deviation --> 32.12\n",
      "19. coloumn's mean ------> -1.7e+01\n",
      "19. coloums's standart deviation --> 28.38\n",
      "20. coloumn's mean ------> -3.7e+01\n",
      "20. coloums's standart deviation --> 30.03\n",
      "21. coloumn's mean ------> -3.8e+01\n",
      "21. coloums's standart deviation --> 32.38\n",
      "22. coloumn's mean ------> -1.4e+01\n",
      "22. coloums's standart deviation --> 27.29\n",
      "23. coloumn's mean ------> -3.7e+01\n",
      "23. coloums's standart deviation --> 30.25\n",
      "24. coloumn's mean ------> -3.7e+01\n",
      "24. coloums's standart deviation --> 32.63\n",
      "25. coloumn's mean ------> -2.4e+01\n",
      "25. coloums's standart deviation --> 35.35\n",
      "26. coloumn's mean ------> -3.7e+01\n",
      "26. coloums's standart deviation --> 30.25\n",
      "27. coloumn's mean ------> -3.7e+01\n",
      "27. coloums's standart deviation --> 32.90\n",
      "28. coloumn's mean ------> -2.3e+01\n",
      "28. coloums's standart deviation --> 34.91\n",
      "29. coloumn's mean ------> -3.7e+01\n",
      "29. coloums's standart deviation --> 30.25\n",
      "30. coloumn's mean ------> -3.7e+01\n",
      "30. coloums's standart deviation --> 33.16\n",
      "31. coloumn's mean ------> -2.1e+01\n",
      "31. coloums's standart deviation --> 33.53\n",
      "32. coloumn's mean ------> -3.7e+01\n",
      "32. coloums's standart deviation --> 30.25\n",
      "33. coloumn's mean ------> -3.7e+01\n",
      "33. coloums's standart deviation --> 33.43\n",
      "34. coloumn's mean ------> -2e+01\n",
      "34. coloums's standart deviation --> 30.33\n",
      "35. coloumn's mean ------> -3.7e+01\n",
      "35. coloums's standart deviation --> 30.25\n",
      "36. coloumn's mean ------> -3.7e+01\n",
      "36. coloums's standart deviation --> 33.70\n",
      "37. coloumn's mean ------> -2e+01\n",
      "37. coloums's standart deviation --> 32.26\n",
      "38. coloumn's mean ------> -3.7e+01\n",
      "38. coloums's standart deviation --> 30.25\n",
      "39. coloumn's mean ------> -3.6e+01\n",
      "39. coloums's standart deviation --> 33.97\n",
      "40. coloumn's mean ------> -2.1e+01\n",
      "40. coloums's standart deviation --> 33.53\n",
      "41. coloumn's mean ------> -3.7e+01\n",
      "41. coloums's standart deviation --> 30.25\n",
      "42. coloumn's mean ------> -3.6e+01\n",
      "42. coloums's standart deviation --> 34.24\n",
      "43. coloumn's mean ------> -2.4e+01\n",
      "43. coloums's standart deviation --> 36.32\n",
      "44. coloumn's mean ------> -3.7e+01\n",
      "44. coloums's standart deviation --> 30.25\n",
      "45. coloumn's mean ------> -3.6e+01\n",
      "45. coloums's standart deviation --> 34.52\n",
      "46. coloumn's mean ------> -2.1e+01\n",
      "46. coloums's standart deviation --> 32.73\n",
      "47. coloumn's mean ------> -3.7e+01\n",
      "47. coloums's standart deviation --> 30.25\n",
      "48. coloumn's mean ------> -3.6e+01\n",
      "48. coloums's standart deviation --> 34.80\n",
      "49. coloumn's mean ------> -2e+01\n",
      "49. coloums's standart deviation --> 34.31\n",
      "50. coloumn's mean ------> -3.7e+01\n",
      "50. coloums's standart deviation --> 30.25\n",
      "51. coloumn's mean ------> -3.6e+01\n",
      "51. coloums's standart deviation --> 35.08\n",
      "52. coloumn's mean ------> -1.9e+01\n",
      "52. coloums's standart deviation --> 33.14\n",
      "53. coloumn's mean ------> -3.7e+01\n",
      "53. coloums's standart deviation --> 30.25\n",
      "54. coloumn's mean ------> -3.5e+01\n",
      "54. coloums's standart deviation --> 35.36\n",
      "55. coloumn's mean ------> -2.4e+01\n",
      "55. coloums's standart deviation --> 34.89\n",
      "56. coloumn's mean ------> -3.7e+01\n",
      "56. coloums's standart deviation --> 30.25\n",
      "57. coloumn's mean ------> -3.5e+01\n",
      "57. coloums's standart deviation --> 35.65\n",
      "58. coloumn's mean ------> -2.1e+01\n",
      "58. coloums's standart deviation --> 33.43\n",
      "59. coloumn's mean ------> -3.7e+01\n",
      "59. coloums's standart deviation --> 30.25\n",
      "60. coloumn's mean ------> -3.8e+01\n",
      "60. coloums's standart deviation --> 31.37\n",
      "61. coloumn's mean ------> -8.6\n",
      "61. coloums's standart deviation --> 27.37\n",
      "62. coloumn's mean ------> -3.7e+01\n",
      "62. coloums's standart deviation --> 30.25\n",
      "63. coloumn's mean ------> -3.8e+01\n",
      "63. coloums's standart deviation --> 31.87\n",
      "64. coloumn's mean ------> -2.2e+01\n",
      "64. coloums's standart deviation --> 33.24\n",
      "65. coloumn's mean ------> -3.7e+01\n",
      "65. coloums's standart deviation --> 30.25\n",
      "66. coloumn's mean ------> -3.8e+01\n",
      "66. coloums's standart deviation --> 32.12\n",
      "67. coloumn's mean ------> -1.7e+01\n",
      "67. coloums's standart deviation --> 28.38\n",
      "68. coloumn's mean ------> -3.7e+01\n",
      "68. coloums's standart deviation --> 30.03\n",
      "69. coloumn's mean ------> -3.8e+01\n",
      "69. coloums's standart deviation --> 32.38\n",
      "70. coloumn's mean ------> -1.4e+01\n",
      "70. coloums's standart deviation --> 27.29\n",
      "71. coloumn's mean ------> -3.7e+01\n",
      "71. coloums's standart deviation --> 30.25\n",
      "72. coloumn's mean ------> -3.7e+01\n",
      "72. coloums's standart deviation --> 33.70\n",
      "73. coloumn's mean ------> -2e+01\n",
      "73. coloums's standart deviation --> 32.26\n",
      "74. coloumn's mean ------> -3.7e+01\n",
      "74. coloums's standart deviation --> 30.25\n"
     ]
    }
   ],
   "source": [
    "for x in range(arr.shape[0]):\n",
    "    print(\"{}. coloumn's mean ------> {:.2}\".format(x,np.mean(arr[x])))\n",
    "    print(\"{}. coloums's standart deviation --> {:.2f}\".format(x,np.std(arr[x])))\n",
    "    "
   ]
  },
  {
   "cell_type": "markdown",
   "metadata": {},
   "source": [
    "3. Subtract 1, 25, 25, 10, 4 from columns in order. (Remember it can be subtracted in one line of code.)"
   ]
  },
  {
   "cell_type": "code",
   "execution_count": 69,
   "metadata": {},
   "outputs": [
    {
     "name": "stdout",
     "output_type": "stream",
     "text": [
      "[36 28 14  0  7]\n",
      "[ 35   3 -11 -10   3]\n"
     ]
    }
   ],
   "source": [
    "arr = np.load(\"npfile.npy\")\n",
    "arr = arr.reshape(75,5)\n",
    "print(arr[16])\n",
    "arr = arr -[1,25,25,10,4]\n",
    "print(arr[16])"
   ]
  },
  {
   "cell_type": "markdown",
   "metadata": {},
   "source": [
    "4. Multiply each element by 2. (Remember it can be multiplied in one line of code.)"
   ]
  },
  {
   "cell_type": "code",
   "execution_count": 70,
   "metadata": {},
   "outputs": [
    {
     "name": "stdout",
     "output_type": "stream",
     "text": [
      "[16  0  0  0  0 39 44  7  0  7  0  0  4  7  0]\n",
      "[32  0  0  0  0 78 88 14  0 14  0  0  8 14  0]\n"
     ]
    }
   ],
   "source": [
    "arr = np.load(\"npfile.npy\")\n",
    "print(arr[16])\n",
    "arr = arr*2\n",
    "print(arr[16])"
   ]
  }
 ],
 "metadata": {
  "kernelspec": {
   "display_name": "Python 3",
   "language": "python",
   "name": "python3"
  },
  "language_info": {
   "codemirror_mode": {
    "name": "ipython",
    "version": 3
   },
   "file_extension": ".py",
   "mimetype": "text/x-python",
   "name": "python",
   "nbconvert_exporter": "python",
   "pygments_lexer": "ipython3",
   "version": "3.8.3"
  }
 },
 "nbformat": 4,
 "nbformat_minor": 4
}
