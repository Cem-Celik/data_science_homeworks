{
 "cells": [
  {
   "cell_type": "markdown",
   "metadata": {},
   "source": [
    "# <font color=blue>Assignments for \"Mathematical Operations on NumPy Arrays\"</font>"
   ]
  },
  {
   "cell_type": "markdown",
   "metadata": {},
   "source": [
    "1. Load the array you saved in the previous lesson from the disk."
   ]
  },
  {
   "cell_type": "code",
   "execution_count": 1,
   "metadata": {},
   "outputs": [
    {
     "name": "stdout",
     "output_type": "stream",
     "text": [
      "[[ 1  1  1  1  1]\n",
      " [ 0 37 35  7  4]\n",
      " [ 0 37 37 10  4]\n",
      " [ 0 37 30 78  4]\n",
      " [ 0 35 26 42  4]\n",
      " [ 0 36 28 14  4]\n",
      " [ 0 36 31 36  5]\n",
      " [ 0 37 30 50  4]\n",
      " [ 0 36 27  6  4]\n",
      " [ 0 38 26 11  4]\n",
      " [ 0 37 36 10  4]\n",
      " [ 0 35 26 28  4]\n",
      " [ 0 37 36 15  4]\n",
      " [ 0 37 36 10  4]\n",
      " [ 0 37 26  4  4]\n",
      " [ 0 37 29 17  4]\n",
      " [ 0 39 44  7  4]\n",
      " [ 0 38 44 10  4]\n",
      " [ 0 35 28  6  4]\n",
      " [ 0 37 37 10  4]]\n"
     ]
    }
   ],
   "source": [
    "import numpy as np\n",
    "import csv\n",
    "\n",
    "arr = np.load(\"npfile.npy\")\n",
    "print(arr)"
   ]
  },
  {
   "cell_type": "markdown",
   "metadata": {},
   "source": [
    "2. Display the mean and the standard deviation for each column."
   ]
  },
  {
   "cell_type": "code",
   "execution_count": 2,
   "metadata": {},
   "outputs": [
    {
     "name": "stdout",
     "output_type": "stream",
     "text": [
      "0. coloumn's mean ------> 1.0\n",
      "0. coloums's standart deviation --> 0.00\n",
      "1. coloumn's mean ------> 1.7e+01\n",
      "1. coloums's standart deviation --> 16.01\n",
      "2. coloumn's mean ------> 1.8e+01\n",
      "2. coloums's standart deviation --> 16.16\n",
      "3. coloumn's mean ------> 3e+01\n",
      "3. coloums's standart deviation --> 28.03\n",
      "4. coloumn's mean ------> 2.1e+01\n",
      "4. coloums's standart deviation --> 16.68\n",
      "5. coloumn's mean ------> 1.6e+01\n",
      "5. coloums's standart deviation --> 13.76\n",
      "6. coloumn's mean ------> 2.2e+01\n",
      "6. coloums's standart deviation --> 15.78\n",
      "7. coloumn's mean ------> 2.4e+01\n",
      "7. coloums's standart deviation --> 19.27\n",
      "8. coloumn's mean ------> 1.5e+01\n",
      "8. coloums's standart deviation --> 14.22\n",
      "9. coloumn's mean ------> 1.6e+01\n",
      "9. coloums's standart deviation --> 14.20\n",
      "10. coloumn's mean ------> 1.7e+01\n",
      "10. coloums's standart deviation --> 15.92\n",
      "11. coloumn's mean ------> 1.9e+01\n",
      "11. coloums's standart deviation --> 13.94\n",
      "12. coloumn's mean ------> 1.8e+01\n",
      "12. coloums's standart deviation --> 15.58\n",
      "13. coloumn's mean ------> 1.7e+01\n",
      "13. coloums's standart deviation --> 15.92\n",
      "14. coloumn's mean ------> 1.4e+01\n",
      "14. coloums's standart deviation --> 14.62\n",
      "15. coloumn's mean ------> 1.7e+01\n",
      "15. coloums's standart deviation --> 14.15\n",
      "16. coloumn's mean ------> 1.9e+01\n",
      "16. coloums's standart deviation --> 18.73\n",
      "17. coloumn's mean ------> 1.9e+01\n",
      "17. coloums's standart deviation --> 18.18\n",
      "18. coloumn's mean ------> 1.5e+01\n",
      "18. coloums's standart deviation --> 14.11\n",
      "19. coloumn's mean ------> 1.8e+01\n",
      "19. coloums's standart deviation --> 16.16\n"
     ]
    }
   ],
   "source": [
    "for x in range(arr.shape[0]):\n",
    "    print(\"{}. coloumn's mean ------> {:.2}\".format(x,np.mean(arr[x])))\n",
    "    print(\"{}. coloums's standart deviation --> {:.2f}\".format(x,np.std(arr[x])))\n",
    "    "
   ]
  },
  {
   "cell_type": "markdown",
   "metadata": {},
   "source": [
    "3. Subtract 1, 25, 25, 10, 4 from columns in order. (Remember it can be subtracted in one line of code.)"
   ]
  },
  {
   "cell_type": "code",
   "execution_count": 4,
   "metadata": {},
   "outputs": [
    {
     "name": "stdout",
     "output_type": "stream",
     "text": [
      "[ 0 39 44  7  4]\n",
      "[-1 14 19 -3  0]\n"
     ]
    }
   ],
   "source": [
    "arr = np.load(\"npfile.npy\")\n",
    "\n",
    "print(arr[16])\n",
    "arr = arr -[1,25,25,10,4]\n",
    "print(arr[16])"
   ]
  },
  {
   "cell_type": "markdown",
   "metadata": {},
   "source": [
    "4. Multiply each element by 2. (Remember it can be multiplied in one line of code.)"
   ]
  },
  {
   "cell_type": "code",
   "execution_count": 5,
   "metadata": {},
   "outputs": [
    {
     "name": "stdout",
     "output_type": "stream",
     "text": [
      "[ 0 39 44  7  4]\n",
      "[ 0 78 88 14  8]\n"
     ]
    }
   ],
   "source": [
    "arr = np.load(\"npfile.npy\")\n",
    "print(arr[16])\n",
    "arr = arr*2\n",
    "print(arr[16])"
   ]
  }
 ],
 "metadata": {
  "kernelspec": {
   "display_name": "Python 3",
   "language": "python",
   "name": "python3"
  },
  "language_info": {
   "codemirror_mode": {
    "name": "ipython",
    "version": 3
   },
   "file_extension": ".py",
   "mimetype": "text/x-python",
   "name": "python",
   "nbconvert_exporter": "python",
   "pygments_lexer": "ipython3",
   "version": "3.8.3"
  }
 },
 "nbformat": 4,
 "nbformat_minor": 4
}
