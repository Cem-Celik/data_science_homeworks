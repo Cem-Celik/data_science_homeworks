{
 "cells": [
  {
   "cell_type": "markdown",
   "metadata": {},
   "source": [
    "# <font color=blue>Assignments for \"Indexing and Slicing of NumPy Arrays\"</font>"
   ]
  },
  {
   "cell_type": "markdown",
   "metadata": {},
   "source": [
    "For the assignment, you are going to use [Earthquakes](https://bootrain-lms-assets.s3.eu-central-1.amazonaws.com/bootrain-lms-static/datasets/Earthquakes.csv) dataset."
   ]
  },
  {
   "cell_type": "markdown",
   "metadata": {},
   "source": [
    "1. Load the Earthquakes dataset. Export the dataset to an array as you covered in the previous lesson."
   ]
  },
  {
   "cell_type": "code",
   "execution_count": 3,
   "metadata": {},
   "outputs": [
    {
     "name": "stdout",
     "output_type": "stream",
     "text": [
      "[[   0    0    0 ...    4    7    0]\n",
      " [   1    0    0 ...    4    7    0]\n",
      " [   2    0    0 ...    4    7    0]\n",
      " ...\n",
      " [6571    4    0 ...    4    2    0]\n",
      " [6572    3    0 ...    5    2    0]\n",
      " [6573    2    0 ...    4    2    0]]\n"
     ]
    }
   ],
   "source": [
    "import numpy as np\n",
    "import csv\n",
    "\n",
    "with open('Earthquakes.csv') as csvfile:\n",
    "    csv_reader = csv.reader(csvfile, quotechar='\"', quoting = csv.QUOTE_MINIMAL)\n",
    "    line_count = 0\n",
    "    lst = []\n",
    "    for row in csv_reader:\n",
    "        lst.append(list(map(int,map(float,row))))\n",
    "\n",
    "    arr = np.array(lst) \n",
    "    print(arr)\n",
    "    \n",
    "    \n",
    "                  \n"
   ]
  },
  {
   "cell_type": "markdown",
   "metadata": {},
   "source": [
    "2. Slice first 20 rows and column numbers 3, 5, 6, 7, 12. Then, assign the array you sliced to a variable."
   ]
  },
  {
   "cell_type": "code",
   "execution_count": 4,
   "metadata": {},
   "outputs": [
    {
     "name": "stdout",
     "output_type": "stream",
     "text": [
      "[[ 0 36 44 16  4]\n",
      " [ 0 37 35  7  4]\n",
      " [ 0 37 37 10  4]\n",
      " [ 0 37 30 78  4]\n",
      " [ 0 35 26 42  4]\n",
      " [ 0 36 28 14  4]\n",
      " [ 0 36 31 36  5]\n",
      " [ 0 37 30 50  4]\n",
      " [ 0 36 27  6  4]\n",
      " [ 0 38 26 11  4]\n",
      " [ 0 37 36 10  4]\n",
      " [ 0 35 26 28  4]\n",
      " [ 0 37 36 15  4]\n",
      " [ 0 37 36 10  4]\n",
      " [ 0 37 26  4  4]\n",
      " [ 0 37 29 17  4]\n",
      " [ 0 39 44  7  4]\n",
      " [ 0 38 44 10  4]\n",
      " [ 0 35 28  6  4]\n",
      " [ 0 37 37 10  4]]\n"
     ]
    }
   ],
   "source": [
    "new_array = arr[0:20,(3,5,6,7,12)]\n",
    "print(new_array)"
   ]
  },
  {
   "cell_type": "markdown",
   "metadata": {},
   "source": [
    "3. Display the row numbers where last values are equal to 4.5 or higher."
   ]
  },
  {
   "cell_type": "code",
   "execution_count": 5,
   "metadata": {},
   "outputs": [
    {
     "name": "stdout",
     "output_type": "stream",
     "text": [
      "[[ 0 36 28 14  4]\n",
      " [ 0 36 31 36  5]\n",
      " [ 0 37 30 50  4]\n",
      " [ 0 36 27  6  4]\n",
      " [ 0 38 26 11  4]\n",
      " [ 0 37 36 10  4]\n",
      " [ 0 35 26 28  4]\n",
      " [ 0 37 36 15  4]\n",
      " [ 0 37 36 10  4]\n",
      " [ 0 37 26  4  4]\n",
      " [ 0 37 29 17  4]\n",
      " [ 0 39 44  7  4]\n",
      " [ 0 38 44 10  4]\n",
      " [ 0 35 28  6  4]\n",
      " [ 0 37 37 10  4]]\n"
     ]
    }
   ],
   "source": [
    "print(new_array[5:,:])"
   ]
  },
  {
   "cell_type": "markdown",
   "metadata": {},
   "source": [
    "4. Assign 1 to first row."
   ]
  },
  {
   "cell_type": "code",
   "execution_count": 6,
   "metadata": {},
   "outputs": [
    {
     "name": "stdout",
     "output_type": "stream",
     "text": [
      "[[ 1  1  1  1  1]\n",
      " [ 0 37 35  7  4]\n",
      " [ 0 37 37 10  4]\n",
      " [ 0 37 30 78  4]\n",
      " [ 0 35 26 42  4]\n",
      " [ 0 36 28 14  4]\n",
      " [ 0 36 31 36  5]\n",
      " [ 0 37 30 50  4]\n",
      " [ 0 36 27  6  4]\n",
      " [ 0 38 26 11  4]\n",
      " [ 0 37 36 10  4]\n",
      " [ 0 35 26 28  4]\n",
      " [ 0 37 36 15  4]\n",
      " [ 0 37 36 10  4]\n",
      " [ 0 37 26  4  4]\n",
      " [ 0 37 29 17  4]\n",
      " [ 0 39 44  7  4]\n",
      " [ 0 38 44 10  4]\n",
      " [ 0 35 28  6  4]\n",
      " [ 0 37 37 10  4]]\n",
      "(20, 5)\n"
     ]
    }
   ],
   "source": [
    "new_array[0,:]=1\n",
    "print(new_array)\n",
    "print(new_array.shape)"
   ]
  },
  {
   "cell_type": "markdown",
   "metadata": {},
   "source": [
    "5. Save the final state of the array to disk. You are going to use this in the next assignment."
   ]
  },
  {
   "cell_type": "code",
   "execution_count": 7,
   "metadata": {},
   "outputs": [],
   "source": [
    "np.save(\"npfile\",new_array)"
   ]
  }
 ],
 "metadata": {
  "kernelspec": {
   "display_name": "Python 3",
   "language": "python",
   "name": "python3"
  },
  "language_info": {
   "codemirror_mode": {
    "name": "ipython",
    "version": 3
   },
   "file_extension": ".py",
   "mimetype": "text/x-python",
   "name": "python",
   "nbconvert_exporter": "python",
   "pygments_lexer": "ipython3",
   "version": "3.8.3"
  }
 },
 "nbformat": 4,
 "nbformat_minor": 4
}
