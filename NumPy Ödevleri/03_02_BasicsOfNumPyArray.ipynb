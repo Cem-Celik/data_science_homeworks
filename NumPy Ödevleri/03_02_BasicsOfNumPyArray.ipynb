{
 "cells": [
  {
   "cell_type": "markdown",
   "metadata": {},
   "source": [
    "# <font color=blue>Assignments for \"basics of NumPy Array\"</font>"
   ]
  },
  {
   "cell_type": "markdown",
   "metadata": {},
   "source": [
    "1. Create 3 lists representing house features, each list containing 10 values. First one for squaremeter of house, second one for rooms and last one for price. Then, create an array combining these lists."
   ]
  },
  {
   "cell_type": "code",
   "execution_count": 16,
   "metadata": {},
   "outputs": [
    {
     "name": "stdout",
     "output_type": "stream",
     "text": [
      "[[    100     120     140     160     180     200     220     240     260\n",
      "      280     300     320     340     360     380     400     420     440\n",
      "      460     480]\n",
      " [      1       2       4       6       8      10      12      14      16\n",
      "       18      18      18       8      10      10      10      10      10\n",
      "       10      10]\n",
      " [ 100000  120000  140000  160000  180000  200000  220000  240000 2600000\n",
      "   280000  300000  320000  340000 3600000 3800000 4000000 4200000 4400000\n",
      "  4600000 4800000]]\n"
     ]
    }
   ],
   "source": [
    "import numpy as np\n",
    "\n",
    "house_square = np.array([100,120,140,160,180,200,220,240,260,280,300,320,340,360,380,400,420,440,460,480])\n",
    "rooms = np.array([1,2,4,6,8,10,12,14,16,18,18,18,8,10,10,10,10,10,10,10])\n",
    "price = np.array([100000,120000,140000,160000,180000,200000,220000,240000,2600000,280000,300000,\n",
    "                  320000,340000,3600000,3800000,4000000,4200000,4400000,4600000,4800000])\n",
    "\n",
    "houses = np.array([house_square,rooms,price])\n",
    "print(houses)"
   ]
  },
  {
   "cell_type": "markdown",
   "metadata": {},
   "source": [
    "2. Transpose the array you have created, so that every line can represent features of one house."
   ]
  },
  {
   "cell_type": "code",
   "execution_count": 17,
   "metadata": {},
   "outputs": [
    {
     "name": "stdout",
     "output_type": "stream",
     "text": [
      "[[    100       1  100000]\n",
      " [    120       2  120000]\n",
      " [    140       4  140000]\n",
      " [    160       6  160000]\n",
      " [    180       8  180000]\n",
      " [    200      10  200000]\n",
      " [    220      12  220000]\n",
      " [    240      14  240000]\n",
      " [    260      16 2600000]\n",
      " [    280      18  280000]\n",
      " [    300      18  300000]\n",
      " [    320      18  320000]\n",
      " [    340       8  340000]\n",
      " [    360      10 3600000]\n",
      " [    380      10 3800000]\n",
      " [    400      10 4000000]\n",
      " [    420      10 4200000]\n",
      " [    440      10 4400000]\n",
      " [    460      10 4600000]\n",
      " [    480      10 4800000]]\n"
     ]
    }
   ],
   "source": [
    "houses = houses.T\n",
    "print(houses)"
   ]
  },
  {
   "cell_type": "markdown",
   "metadata": {},
   "source": [
    "3. Display the shape of the array and explain what it means."
   ]
  },
  {
   "cell_type": "code",
   "execution_count": 19,
   "metadata": {},
   "outputs": [
    {
     "name": "stdout",
     "output_type": "stream",
     "text": [
      "(20, 3)\n"
     ]
    }
   ],
   "source": [
    "print(houses.shape)"
   ]
  },
  {
   "cell_type": "markdown",
   "metadata": {},
   "source": [
    "4. Write a function that returns an array of ones with zeros where both row and column numbers are even. Sample array is below. Number of rows and columns will be entered as parameters.\n",
    "\n",
    "```python\n",
    "    shape(6 x 5) --> [[1   1   1   1   1]\n",
    "                      [1   0   1   0   1]\n",
    "                      [1   1   1   1   1]\n",
    "                      [1   0   1   0   1]\n",
    "                      [1   1   1   1   1]\n",
    "                      [1   0   1   0   1]]\n",
    "```"
   ]
  },
  {
   "cell_type": "code",
   "execution_count": 33,
   "metadata": {},
   "outputs": [
    {
     "name": "stdout",
     "output_type": "stream",
     "text": [
      "[[1 1 1 1 1]\n",
      " [1 0 1 0 1]\n",
      " [1 1 1 1 1]\n",
      " [1 0 1 0 1]\n",
      " [1 1 1 1 1]\n",
      " [1 0 1 0 1]]\n"
     ]
    }
   ],
   "source": [
    "arr = np.full((6,5),1)\n",
    "\n",
    "for i in range(1,arr.shape[0]+1):\n",
    "    for j in range(1,arr.shape[1]+1):\n",
    "        if(i%2 == 0 and j%2==0):\n",
    "            arr[i-1][j-1] = 0\n",
    "print(arr)"
   ]
  }
 ],
 "metadata": {
  "kernelspec": {
   "display_name": "Python 3",
   "language": "python",
   "name": "python3"
  },
  "language_info": {
   "codemirror_mode": {
    "name": "ipython",
    "version": 3
   },
   "file_extension": ".py",
   "mimetype": "text/x-python",
   "name": "python",
   "nbconvert_exporter": "python",
   "pygments_lexer": "ipython3",
   "version": "3.8.3"
  }
 },
 "nbformat": 4,
 "nbformat_minor": 4
}
