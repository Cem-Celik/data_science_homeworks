{
 "cells": [
  {
   "cell_type": "markdown",
   "metadata": {},
   "source": [
    "Main Statistical Concepts"
   ]
  },
  {
   "cell_type": "markdown",
   "metadata": {},
   "source": [
    "1- Analyze the central tendency and distribution measurements with the mathematical formula given above and the built-in codes available in python through 3 different data that you will generate using the numpy library !!!"
   ]
  },
  {
   "cell_type": "code",
   "execution_count": 35,
   "metadata": {},
   "outputs": [
    {
     "name": "stdout",
     "output_type": "stream",
     "text": [
      "<class 'numpy.ndarray'>\n",
      "This is 1. random variables and that have:\n",
      "Mean = 66.72\n",
      "Median = 65.73\n",
      "Mode= 48.34\n",
      "Variance = 59.21\n",
      "Standart     Deviation = 7.70\n",
      "Standart Error = 0.54\n",
      "\n",
      "<class 'numpy.ndarray'>\n",
      "This is 2. random variables and that have:\n",
      "Mean = 50.21\n",
      "Median = 51.52\n",
      "Mode= 22.14\n",
      "Variance = 278.78\n",
      "Standart     Deviation = 16.70\n",
      "Standart Error = 2.06\n",
      "\n",
      "<class 'numpy.ndarray'>\n",
      "This is 3. random variables and that have:\n",
      "Mean = 79.93\n",
      "Median = 77.98\n",
      "Mode= -24.73\n",
      "Variance = 1375.03\n",
      "Standart     Deviation = 37.08\n",
      "Standart Error = 2.62\n",
      "\n"
     ]
    }
   ],
   "source": [
    "import numpy as np\n",
    "\n",
    "random = np.append(np.random.normal(69, 8, 100), np.random.normal(64, 5, 100))\n",
    "random1 = np.append(np.random.normal(66,3,33), np.random.normal(33, 6, 33))\n",
    "random2 = np.append(np.random.normal(78,34,100), np.random.normal(87, 43, 100))\n",
    "\n",
    "\n",
    "\n",
    "def r_mean(random):\n",
    "    return(sum(random)/len(random))\n",
    "\n",
    "def r_median(random):\n",
    "    random = np.sort(random)\n",
    "    print(type(random)) \n",
    "   \n",
    "    if len(random)%2==0:\n",
    "        return ((random[int(len(random)/2)]+random[int((len(random)/2)-1)])/2)\n",
    "    elif len(random)%2 == 1:\n",
    "        return (random[int(len(random)/2)])\n",
    "    else:\n",
    "        return -1\n",
    "def r_mode(random):\n",
    "    (values,counts) = np.unique(random,return_counts=True)\n",
    "    ind = np.argmax(counts)\n",
    "    return values[ind]\n",
    "\n",
    "def r_variance(random):\n",
    "    mu = r_mean(random)\n",
    "    sum = 0\n",
    "    for x in range(len(random)):\n",
    "        sum = sum + ((random[x]-mu)**2)\n",
    "    return (sum/(len(random)-1))\n",
    "\n",
    "def r_st_dev(random):\n",
    "    result = r_variance(random)**0.5\n",
    "    return result\n",
    "\n",
    "def r_st_error(random):\n",
    "    se = (r_st_dev(random)/(len(random)**0.5))\n",
    "    return se\n",
    "\n",
    "i=1\n",
    "for x in [random,random1,random2]:\n",
    "    print(\"\"\"This is {}. random variables and that have:\\nMean = {:.2f}\\nMedian = {:.2f}\\nMode= {:.2f}\\nVariance = {:.2f}\\nStandart \\\n",
    "    Deviation = {:.2f}\\nStandart Error = {:.2f}\\n\"\"\".format(i,r_mean(x),r_median(x),r_mode(x),r_variance(x),r_st_dev(x),r_st_error(x)))\n",
    "    i = i + 1 "
   ]
  },
  {
   "cell_type": "code",
   "execution_count": null,
   "metadata": {},
   "outputs": [],
   "source": []
  }
 ],
 "metadata": {
  "kernelspec": {
   "display_name": "Python 3",
   "language": "python",
   "name": "python3"
  },
  "language_info": {
   "codemirror_mode": {
    "name": "ipython",
    "version": 3
   },
   "file_extension": ".py",
   "mimetype": "text/x-python",
   "name": "python",
   "nbconvert_exporter": "python",
   "pygments_lexer": "ipython3",
   "version": "3.8.3"
  }
 },
 "nbformat": 4,
 "nbformat_minor": 4
}
